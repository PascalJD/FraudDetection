{
 "cells": [
  {
   "cell_type": "markdown",
   "metadata": {},
   "source": [
    "# Détection de fraudes de cartes de crédit\n",
    "\n",
    "## 1 Introduction\n",
    "\n",
    "La détection de fraudes par cartes de crédit est un sujet de recherche majeur en finance ayant des répercussions économiques importantes. Il est important que les sociétés de carte de crédit puissent reconnaître les transactions frauduleuses pour que leurs clients ne soient pas facturés pour des articles qu'ils n'ont pas achetés. L'objectif du projet est d'explorer différents algorithmes de classification en apprentissage automatique capables de détecter les fraudes dans un ensemble de transactions bancaires. Le [jeu de données](https://www.kaggle.com/mlg-ulb/creditcardfraud) étudié dans le cadre du projet est un jeu de données kaggle de transactions par cartes de crédit.\n",
    "\n",
    "En pratique, les fraudes sont ponctuelles et sous représentées dans le jeu de données qui contient principalement des transactions normales. L'implémentation des modèles et les métriques de mesures de performance utilisées doivent être adaptées aux données fortement débalancées. C'est la raison pour laquelle on étudiera différentes méthodes qui permettent de traiter des jeux de donnés caractérisés par un déséquilibre marqué entre les classes dans un contexe de classification.\n",
    "\n",
    "D'autre part, il est également souhaitable que la classification soit sensible, c’est-à-dire que le taux de transactions classées à tort comme des fraudes soit minimal puisque l'institution bancaire ne veut pas déranger inutilement ces clients.\n",
    "\n",
    "\n",
    "## 2 Plan\n",
    "\n",
    "* [3 Données](#Donnees)\n",
    "* [4 Méthodologie](#Methodologie)\n",
    "  * 4.1 Fonctions utilitaires\n",
    "* [5 Normalisation](#Normalization)\n",
    "* [6 Séparation des données](#Split)\n",
    "* [7 Régression logistique (implémentation naïve)](#Reg)\n",
    "  * 7.1 Sélection des hyperparamètres\n",
    "  * 7.2 Évaluation sur les données test\n",
    "* [8 Sous-échantillonnage](#Us)\n",
    "  * 8.1 Sous-échantillonnage aléatoire\n",
    "    * 8.1.1 Sélection du modèle \n",
    "  * 8.2 Sous échantillonnage par centroïdes\n",
    "    * 8.2.1 Sélection des hyperparamètres\n",
    "  * 8.3 Évaluation sur les données test (sous-échantillonnage aléatoire)\n",
    "* [9 Sur-échantillonnage synthétique](#Smote)\n",
    "  * 9.1 SMOTE\n",
    "    * 9.1.1 Sélection des hyperparamètres\n",
    "  * 9.2 ADASYN\n",
    "    * 9.2.1 Sélection des hyperparamètres\n",
    "  * 9.3 Évaluation sur les données test (SMOTE)\n",
    "* [10 Sur-échantillonnage avec autoencodeur variationnel](#Vae)\n",
    "  * 10.1 Théorie\n",
    "  * 10.2 Implémentation\n",
    "  * 10.3 Régression logistique"
   ]
  },
  {
   "cell_type": "code",
   "execution_count": 1,
   "metadata": {},
   "outputs": [
    {
     "name": "stderr",
     "output_type": "stream",
     "text": [
      "Using TensorFlow backend.\n"
     ]
    }
   ],
   "source": [
    "import numpy as np\n",
    "import pandas as pd\n",
    "import matplotlib.pyplot as plt\n",
    "import seaborn as sns\n",
    "from time import time as t\n",
    "import warnings\n",
    "warnings.filterwarnings(\"ignore\")\n",
    "\n",
    "# Preprocessing\n",
    "from sklearn.preprocessing import StandardScaler\n",
    "\n",
    "# Model Selection\n",
    "from sklearn.model_selection import train_test_split\n",
    "from sklearn.model_selection import GridSearchCV\n",
    "from sklearn.model_selection import StratifiedKFold\n",
    "from sklearn.model_selection import ParameterGrid\n",
    "\n",
    "# Resampling\n",
    "from imblearn.under_sampling import RandomUnderSampler, ClusterCentroids\n",
    "from imblearn.over_sampling import SMOTE, ADASYN\n",
    "\n",
    "# Models\n",
    "from sklearn.linear_model import LogisticRegression\n",
    "from sklearn.svm import SVC\n",
    "from sklearn.neighbors import KNeighborsClassifier\n",
    "from sklearn.ensemble import RandomForestClassifier\n",
    "from sklearn.manifold import TSNE\n",
    "\n",
    "# Performance metrics\n",
    "from sklearn.metrics import precision_recall_fscore_support,\\\n",
    "                            accuracy_score, precision_score, recall_score, f1_score, classification_report\n",
    "from sklearn.metrics import plot_precision_recall_curve\n",
    "from sklearn.metrics import confusion_matrix, plot_confusion_matrix\n",
    "from sklearn.metrics import roc_curve, roc_auc_score\n",
    "\n",
    "# TensorFlow\n",
    "import tensorflow as tf\n",
    "import tensorflow_probability as tfp\n",
    "tfpd = tfp.distributions\n",
    "tfpl = tfp.layers\n",
    "tfk = tf.keras\n",
    "tfkl = tf.keras.layers\n",
    "from tensorflow.keras.utils import plot_model\n",
    "from tensorflow.keras.callbacks import EarlyStopping, ModelCheckpoint"
   ]
  },
  {
   "cell_type": "markdown",
   "metadata": {},
   "source": [
    "<a id=\"Donnees\"></a>\n",
    "## 3 Données\n",
    "\n",
    "Le jeu de données contient 284 807 exemples ayant chacun 30 traits caractéristiques numériques dont le temps et le montant de la transaction. Les 28 autres proviennent d'une analyse en composante principale (PCA) effectuée pour anonymiser les données. Très sommairement, une analyse en composante principale est une réduction de dimensionalité qui consiste à projeter les variables initiales sur des nouvelles variables décorrélés qu'on appelle les composantes principales.\n",
    "\n",
    "Les exemples non-frauduleux sont étiquetés par la classe 0 et les exemples frauduleux par la classe 1. Seulement 492 (0.173%) des exemples sont de la classe 1."
   ]
  },
  {
   "cell_type": "code",
   "execution_count": 2,
   "metadata": {},
   "outputs": [
    {
     "name": "stdout",
     "output_type": "stream",
     "text": [
      "shape:  (284807, 31)\n"
     ]
    },
    {
     "data": {
      "text/html": [
       "<div>\n",
       "<style scoped>\n",
       "    .dataframe tbody tr th:only-of-type {\n",
       "        vertical-align: middle;\n",
       "    }\n",
       "\n",
       "    .dataframe tbody tr th {\n",
       "        vertical-align: top;\n",
       "    }\n",
       "\n",
       "    .dataframe thead th {\n",
       "        text-align: right;\n",
       "    }\n",
       "</style>\n",
       "<table border=\"1\" class=\"dataframe\">\n",
       "  <thead>\n",
       "    <tr style=\"text-align: right;\">\n",
       "      <th></th>\n",
       "      <th>Time</th>\n",
       "      <th>V1</th>\n",
       "      <th>V2</th>\n",
       "      <th>V3</th>\n",
       "      <th>V4</th>\n",
       "      <th>V5</th>\n",
       "      <th>V6</th>\n",
       "      <th>V7</th>\n",
       "      <th>V8</th>\n",
       "      <th>V9</th>\n",
       "      <th>...</th>\n",
       "      <th>V21</th>\n",
       "      <th>V22</th>\n",
       "      <th>V23</th>\n",
       "      <th>V24</th>\n",
       "      <th>V25</th>\n",
       "      <th>V26</th>\n",
       "      <th>V27</th>\n",
       "      <th>V28</th>\n",
       "      <th>Amount</th>\n",
       "      <th>Class</th>\n",
       "    </tr>\n",
       "  </thead>\n",
       "  <tbody>\n",
       "    <tr>\n",
       "      <th>0</th>\n",
       "      <td>0.0</td>\n",
       "      <td>-1.359807</td>\n",
       "      <td>-0.072781</td>\n",
       "      <td>2.536347</td>\n",
       "      <td>1.378155</td>\n",
       "      <td>-0.338321</td>\n",
       "      <td>0.462388</td>\n",
       "      <td>0.239599</td>\n",
       "      <td>0.098698</td>\n",
       "      <td>0.363787</td>\n",
       "      <td>...</td>\n",
       "      <td>-0.018307</td>\n",
       "      <td>0.277838</td>\n",
       "      <td>-0.110474</td>\n",
       "      <td>0.066928</td>\n",
       "      <td>0.128539</td>\n",
       "      <td>-0.189115</td>\n",
       "      <td>0.133558</td>\n",
       "      <td>-0.021053</td>\n",
       "      <td>149.62</td>\n",
       "      <td>0</td>\n",
       "    </tr>\n",
       "    <tr>\n",
       "      <th>1</th>\n",
       "      <td>0.0</td>\n",
       "      <td>1.191857</td>\n",
       "      <td>0.266151</td>\n",
       "      <td>0.166480</td>\n",
       "      <td>0.448154</td>\n",
       "      <td>0.060018</td>\n",
       "      <td>-0.082361</td>\n",
       "      <td>-0.078803</td>\n",
       "      <td>0.085102</td>\n",
       "      <td>-0.255425</td>\n",
       "      <td>...</td>\n",
       "      <td>-0.225775</td>\n",
       "      <td>-0.638672</td>\n",
       "      <td>0.101288</td>\n",
       "      <td>-0.339846</td>\n",
       "      <td>0.167170</td>\n",
       "      <td>0.125895</td>\n",
       "      <td>-0.008983</td>\n",
       "      <td>0.014724</td>\n",
       "      <td>2.69</td>\n",
       "      <td>0</td>\n",
       "    </tr>\n",
       "    <tr>\n",
       "      <th>2</th>\n",
       "      <td>1.0</td>\n",
       "      <td>-1.358354</td>\n",
       "      <td>-1.340163</td>\n",
       "      <td>1.773209</td>\n",
       "      <td>0.379780</td>\n",
       "      <td>-0.503198</td>\n",
       "      <td>1.800499</td>\n",
       "      <td>0.791461</td>\n",
       "      <td>0.247676</td>\n",
       "      <td>-1.514654</td>\n",
       "      <td>...</td>\n",
       "      <td>0.247998</td>\n",
       "      <td>0.771679</td>\n",
       "      <td>0.909412</td>\n",
       "      <td>-0.689281</td>\n",
       "      <td>-0.327642</td>\n",
       "      <td>-0.139097</td>\n",
       "      <td>-0.055353</td>\n",
       "      <td>-0.059752</td>\n",
       "      <td>378.66</td>\n",
       "      <td>0</td>\n",
       "    </tr>\n",
       "    <tr>\n",
       "      <th>3</th>\n",
       "      <td>1.0</td>\n",
       "      <td>-0.966272</td>\n",
       "      <td>-0.185226</td>\n",
       "      <td>1.792993</td>\n",
       "      <td>-0.863291</td>\n",
       "      <td>-0.010309</td>\n",
       "      <td>1.247203</td>\n",
       "      <td>0.237609</td>\n",
       "      <td>0.377436</td>\n",
       "      <td>-1.387024</td>\n",
       "      <td>...</td>\n",
       "      <td>-0.108300</td>\n",
       "      <td>0.005274</td>\n",
       "      <td>-0.190321</td>\n",
       "      <td>-1.175575</td>\n",
       "      <td>0.647376</td>\n",
       "      <td>-0.221929</td>\n",
       "      <td>0.062723</td>\n",
       "      <td>0.061458</td>\n",
       "      <td>123.50</td>\n",
       "      <td>0</td>\n",
       "    </tr>\n",
       "    <tr>\n",
       "      <th>4</th>\n",
       "      <td>2.0</td>\n",
       "      <td>-1.158233</td>\n",
       "      <td>0.877737</td>\n",
       "      <td>1.548718</td>\n",
       "      <td>0.403034</td>\n",
       "      <td>-0.407193</td>\n",
       "      <td>0.095921</td>\n",
       "      <td>0.592941</td>\n",
       "      <td>-0.270533</td>\n",
       "      <td>0.817739</td>\n",
       "      <td>...</td>\n",
       "      <td>-0.009431</td>\n",
       "      <td>0.798278</td>\n",
       "      <td>-0.137458</td>\n",
       "      <td>0.141267</td>\n",
       "      <td>-0.206010</td>\n",
       "      <td>0.502292</td>\n",
       "      <td>0.219422</td>\n",
       "      <td>0.215153</td>\n",
       "      <td>69.99</td>\n",
       "      <td>0</td>\n",
       "    </tr>\n",
       "  </tbody>\n",
       "</table>\n",
       "<p>5 rows × 31 columns</p>\n",
       "</div>"
      ],
      "text/plain": [
       "   Time        V1        V2        V3        V4        V5        V6        V7  \\\n",
       "0   0.0 -1.359807 -0.072781  2.536347  1.378155 -0.338321  0.462388  0.239599   \n",
       "1   0.0  1.191857  0.266151  0.166480  0.448154  0.060018 -0.082361 -0.078803   \n",
       "2   1.0 -1.358354 -1.340163  1.773209  0.379780 -0.503198  1.800499  0.791461   \n",
       "3   1.0 -0.966272 -0.185226  1.792993 -0.863291 -0.010309  1.247203  0.237609   \n",
       "4   2.0 -1.158233  0.877737  1.548718  0.403034 -0.407193  0.095921  0.592941   \n",
       "\n",
       "         V8        V9  ...       V21       V22       V23       V24       V25  \\\n",
       "0  0.098698  0.363787  ... -0.018307  0.277838 -0.110474  0.066928  0.128539   \n",
       "1  0.085102 -0.255425  ... -0.225775 -0.638672  0.101288 -0.339846  0.167170   \n",
       "2  0.247676 -1.514654  ...  0.247998  0.771679  0.909412 -0.689281 -0.327642   \n",
       "3  0.377436 -1.387024  ... -0.108300  0.005274 -0.190321 -1.175575  0.647376   \n",
       "4 -0.270533  0.817739  ... -0.009431  0.798278 -0.137458  0.141267 -0.206010   \n",
       "\n",
       "        V26       V27       V28  Amount  Class  \n",
       "0 -0.189115  0.133558 -0.021053  149.62      0  \n",
       "1  0.125895 -0.008983  0.014724    2.69      0  \n",
       "2 -0.139097 -0.055353 -0.059752  378.66      0  \n",
       "3 -0.221929  0.062723  0.061458  123.50      0  \n",
       "4  0.502292  0.219422  0.215153   69.99      0  \n",
       "\n",
       "[5 rows x 31 columns]"
      ]
     },
     "execution_count": 2,
     "metadata": {},
     "output_type": "execute_result"
    }
   ],
   "source": [
    "df = pd.read_csv(\"data/creditcard.csv\")\n",
    "print('shape: ', df.shape)\n",
    "df.head(n=5)"
   ]
  },
  {
   "cell_type": "code",
   "execution_count": 3,
   "metadata": {},
   "outputs": [
    {
     "data": {
      "text/html": [
       "<div>\n",
       "<style scoped>\n",
       "    .dataframe tbody tr th:only-of-type {\n",
       "        vertical-align: middle;\n",
       "    }\n",
       "\n",
       "    .dataframe tbody tr th {\n",
       "        vertical-align: top;\n",
       "    }\n",
       "\n",
       "    .dataframe thead th {\n",
       "        text-align: right;\n",
       "    }\n",
       "</style>\n",
       "<table border=\"1\" class=\"dataframe\">\n",
       "  <thead>\n",
       "    <tr style=\"text-align: right;\">\n",
       "      <th></th>\n",
       "      <th>Time</th>\n",
       "      <th>V1</th>\n",
       "      <th>V2</th>\n",
       "      <th>V3</th>\n",
       "      <th>V4</th>\n",
       "      <th>V5</th>\n",
       "      <th>V6</th>\n",
       "      <th>V7</th>\n",
       "      <th>V8</th>\n",
       "      <th>V9</th>\n",
       "      <th>...</th>\n",
       "      <th>V21</th>\n",
       "      <th>V22</th>\n",
       "      <th>V23</th>\n",
       "      <th>V24</th>\n",
       "      <th>V25</th>\n",
       "      <th>V26</th>\n",
       "      <th>V27</th>\n",
       "      <th>V28</th>\n",
       "      <th>Amount</th>\n",
       "      <th>Class</th>\n",
       "    </tr>\n",
       "  </thead>\n",
       "  <tbody>\n",
       "    <tr>\n",
       "      <th>count</th>\n",
       "      <td>284807.000000</td>\n",
       "      <td>2.848070e+05</td>\n",
       "      <td>2.848070e+05</td>\n",
       "      <td>2.848070e+05</td>\n",
       "      <td>2.848070e+05</td>\n",
       "      <td>2.848070e+05</td>\n",
       "      <td>2.848070e+05</td>\n",
       "      <td>2.848070e+05</td>\n",
       "      <td>2.848070e+05</td>\n",
       "      <td>2.848070e+05</td>\n",
       "      <td>...</td>\n",
       "      <td>2.848070e+05</td>\n",
       "      <td>2.848070e+05</td>\n",
       "      <td>2.848070e+05</td>\n",
       "      <td>2.848070e+05</td>\n",
       "      <td>2.848070e+05</td>\n",
       "      <td>2.848070e+05</td>\n",
       "      <td>2.848070e+05</td>\n",
       "      <td>2.848070e+05</td>\n",
       "      <td>284807.000000</td>\n",
       "      <td>284807.000000</td>\n",
       "    </tr>\n",
       "    <tr>\n",
       "      <th>mean</th>\n",
       "      <td>94813.859575</td>\n",
       "      <td>3.919560e-15</td>\n",
       "      <td>5.688174e-16</td>\n",
       "      <td>-8.769071e-15</td>\n",
       "      <td>2.782312e-15</td>\n",
       "      <td>-1.552563e-15</td>\n",
       "      <td>2.010663e-15</td>\n",
       "      <td>-1.694249e-15</td>\n",
       "      <td>-1.927028e-16</td>\n",
       "      <td>-3.137024e-15</td>\n",
       "      <td>...</td>\n",
       "      <td>1.537294e-16</td>\n",
       "      <td>7.959909e-16</td>\n",
       "      <td>5.367590e-16</td>\n",
       "      <td>4.458112e-15</td>\n",
       "      <td>1.453003e-15</td>\n",
       "      <td>1.699104e-15</td>\n",
       "      <td>-3.660161e-16</td>\n",
       "      <td>-1.206049e-16</td>\n",
       "      <td>88.349619</td>\n",
       "      <td>0.001727</td>\n",
       "    </tr>\n",
       "    <tr>\n",
       "      <th>std</th>\n",
       "      <td>47488.145955</td>\n",
       "      <td>1.958696e+00</td>\n",
       "      <td>1.651309e+00</td>\n",
       "      <td>1.516255e+00</td>\n",
       "      <td>1.415869e+00</td>\n",
       "      <td>1.380247e+00</td>\n",
       "      <td>1.332271e+00</td>\n",
       "      <td>1.237094e+00</td>\n",
       "      <td>1.194353e+00</td>\n",
       "      <td>1.098632e+00</td>\n",
       "      <td>...</td>\n",
       "      <td>7.345240e-01</td>\n",
       "      <td>7.257016e-01</td>\n",
       "      <td>6.244603e-01</td>\n",
       "      <td>6.056471e-01</td>\n",
       "      <td>5.212781e-01</td>\n",
       "      <td>4.822270e-01</td>\n",
       "      <td>4.036325e-01</td>\n",
       "      <td>3.300833e-01</td>\n",
       "      <td>250.120109</td>\n",
       "      <td>0.041527</td>\n",
       "    </tr>\n",
       "    <tr>\n",
       "      <th>min</th>\n",
       "      <td>0.000000</td>\n",
       "      <td>-5.640751e+01</td>\n",
       "      <td>-7.271573e+01</td>\n",
       "      <td>-4.832559e+01</td>\n",
       "      <td>-5.683171e+00</td>\n",
       "      <td>-1.137433e+02</td>\n",
       "      <td>-2.616051e+01</td>\n",
       "      <td>-4.355724e+01</td>\n",
       "      <td>-7.321672e+01</td>\n",
       "      <td>-1.343407e+01</td>\n",
       "      <td>...</td>\n",
       "      <td>-3.483038e+01</td>\n",
       "      <td>-1.093314e+01</td>\n",
       "      <td>-4.480774e+01</td>\n",
       "      <td>-2.836627e+00</td>\n",
       "      <td>-1.029540e+01</td>\n",
       "      <td>-2.604551e+00</td>\n",
       "      <td>-2.256568e+01</td>\n",
       "      <td>-1.543008e+01</td>\n",
       "      <td>0.000000</td>\n",
       "      <td>0.000000</td>\n",
       "    </tr>\n",
       "    <tr>\n",
       "      <th>25%</th>\n",
       "      <td>54201.500000</td>\n",
       "      <td>-9.203734e-01</td>\n",
       "      <td>-5.985499e-01</td>\n",
       "      <td>-8.903648e-01</td>\n",
       "      <td>-8.486401e-01</td>\n",
       "      <td>-6.915971e-01</td>\n",
       "      <td>-7.682956e-01</td>\n",
       "      <td>-5.540759e-01</td>\n",
       "      <td>-2.086297e-01</td>\n",
       "      <td>-6.430976e-01</td>\n",
       "      <td>...</td>\n",
       "      <td>-2.283949e-01</td>\n",
       "      <td>-5.423504e-01</td>\n",
       "      <td>-1.618463e-01</td>\n",
       "      <td>-3.545861e-01</td>\n",
       "      <td>-3.171451e-01</td>\n",
       "      <td>-3.269839e-01</td>\n",
       "      <td>-7.083953e-02</td>\n",
       "      <td>-5.295979e-02</td>\n",
       "      <td>5.600000</td>\n",
       "      <td>0.000000</td>\n",
       "    </tr>\n",
       "    <tr>\n",
       "      <th>50%</th>\n",
       "      <td>84692.000000</td>\n",
       "      <td>1.810880e-02</td>\n",
       "      <td>6.548556e-02</td>\n",
       "      <td>1.798463e-01</td>\n",
       "      <td>-1.984653e-02</td>\n",
       "      <td>-5.433583e-02</td>\n",
       "      <td>-2.741871e-01</td>\n",
       "      <td>4.010308e-02</td>\n",
       "      <td>2.235804e-02</td>\n",
       "      <td>-5.142873e-02</td>\n",
       "      <td>...</td>\n",
       "      <td>-2.945017e-02</td>\n",
       "      <td>6.781943e-03</td>\n",
       "      <td>-1.119293e-02</td>\n",
       "      <td>4.097606e-02</td>\n",
       "      <td>1.659350e-02</td>\n",
       "      <td>-5.213911e-02</td>\n",
       "      <td>1.342146e-03</td>\n",
       "      <td>1.124383e-02</td>\n",
       "      <td>22.000000</td>\n",
       "      <td>0.000000</td>\n",
       "    </tr>\n",
       "    <tr>\n",
       "      <th>75%</th>\n",
       "      <td>139320.500000</td>\n",
       "      <td>1.315642e+00</td>\n",
       "      <td>8.037239e-01</td>\n",
       "      <td>1.027196e+00</td>\n",
       "      <td>7.433413e-01</td>\n",
       "      <td>6.119264e-01</td>\n",
       "      <td>3.985649e-01</td>\n",
       "      <td>5.704361e-01</td>\n",
       "      <td>3.273459e-01</td>\n",
       "      <td>5.971390e-01</td>\n",
       "      <td>...</td>\n",
       "      <td>1.863772e-01</td>\n",
       "      <td>5.285536e-01</td>\n",
       "      <td>1.476421e-01</td>\n",
       "      <td>4.395266e-01</td>\n",
       "      <td>3.507156e-01</td>\n",
       "      <td>2.409522e-01</td>\n",
       "      <td>9.104512e-02</td>\n",
       "      <td>7.827995e-02</td>\n",
       "      <td>77.165000</td>\n",
       "      <td>0.000000</td>\n",
       "    </tr>\n",
       "    <tr>\n",
       "      <th>max</th>\n",
       "      <td>172792.000000</td>\n",
       "      <td>2.454930e+00</td>\n",
       "      <td>2.205773e+01</td>\n",
       "      <td>9.382558e+00</td>\n",
       "      <td>1.687534e+01</td>\n",
       "      <td>3.480167e+01</td>\n",
       "      <td>7.330163e+01</td>\n",
       "      <td>1.205895e+02</td>\n",
       "      <td>2.000721e+01</td>\n",
       "      <td>1.559499e+01</td>\n",
       "      <td>...</td>\n",
       "      <td>2.720284e+01</td>\n",
       "      <td>1.050309e+01</td>\n",
       "      <td>2.252841e+01</td>\n",
       "      <td>4.584549e+00</td>\n",
       "      <td>7.519589e+00</td>\n",
       "      <td>3.517346e+00</td>\n",
       "      <td>3.161220e+01</td>\n",
       "      <td>3.384781e+01</td>\n",
       "      <td>25691.160000</td>\n",
       "      <td>1.000000</td>\n",
       "    </tr>\n",
       "  </tbody>\n",
       "</table>\n",
       "<p>8 rows × 31 columns</p>\n",
       "</div>"
      ],
      "text/plain": [
       "                Time            V1            V2            V3            V4  \\\n",
       "count  284807.000000  2.848070e+05  2.848070e+05  2.848070e+05  2.848070e+05   \n",
       "mean    94813.859575  3.919560e-15  5.688174e-16 -8.769071e-15  2.782312e-15   \n",
       "std     47488.145955  1.958696e+00  1.651309e+00  1.516255e+00  1.415869e+00   \n",
       "min         0.000000 -5.640751e+01 -7.271573e+01 -4.832559e+01 -5.683171e+00   \n",
       "25%     54201.500000 -9.203734e-01 -5.985499e-01 -8.903648e-01 -8.486401e-01   \n",
       "50%     84692.000000  1.810880e-02  6.548556e-02  1.798463e-01 -1.984653e-02   \n",
       "75%    139320.500000  1.315642e+00  8.037239e-01  1.027196e+00  7.433413e-01   \n",
       "max    172792.000000  2.454930e+00  2.205773e+01  9.382558e+00  1.687534e+01   \n",
       "\n",
       "                 V5            V6            V7            V8            V9  \\\n",
       "count  2.848070e+05  2.848070e+05  2.848070e+05  2.848070e+05  2.848070e+05   \n",
       "mean  -1.552563e-15  2.010663e-15 -1.694249e-15 -1.927028e-16 -3.137024e-15   \n",
       "std    1.380247e+00  1.332271e+00  1.237094e+00  1.194353e+00  1.098632e+00   \n",
       "min   -1.137433e+02 -2.616051e+01 -4.355724e+01 -7.321672e+01 -1.343407e+01   \n",
       "25%   -6.915971e-01 -7.682956e-01 -5.540759e-01 -2.086297e-01 -6.430976e-01   \n",
       "50%   -5.433583e-02 -2.741871e-01  4.010308e-02  2.235804e-02 -5.142873e-02   \n",
       "75%    6.119264e-01  3.985649e-01  5.704361e-01  3.273459e-01  5.971390e-01   \n",
       "max    3.480167e+01  7.330163e+01  1.205895e+02  2.000721e+01  1.559499e+01   \n",
       "\n",
       "       ...           V21           V22           V23           V24  \\\n",
       "count  ...  2.848070e+05  2.848070e+05  2.848070e+05  2.848070e+05   \n",
       "mean   ...  1.537294e-16  7.959909e-16  5.367590e-16  4.458112e-15   \n",
       "std    ...  7.345240e-01  7.257016e-01  6.244603e-01  6.056471e-01   \n",
       "min    ... -3.483038e+01 -1.093314e+01 -4.480774e+01 -2.836627e+00   \n",
       "25%    ... -2.283949e-01 -5.423504e-01 -1.618463e-01 -3.545861e-01   \n",
       "50%    ... -2.945017e-02  6.781943e-03 -1.119293e-02  4.097606e-02   \n",
       "75%    ...  1.863772e-01  5.285536e-01  1.476421e-01  4.395266e-01   \n",
       "max    ...  2.720284e+01  1.050309e+01  2.252841e+01  4.584549e+00   \n",
       "\n",
       "                V25           V26           V27           V28         Amount  \\\n",
       "count  2.848070e+05  2.848070e+05  2.848070e+05  2.848070e+05  284807.000000   \n",
       "mean   1.453003e-15  1.699104e-15 -3.660161e-16 -1.206049e-16      88.349619   \n",
       "std    5.212781e-01  4.822270e-01  4.036325e-01  3.300833e-01     250.120109   \n",
       "min   -1.029540e+01 -2.604551e+00 -2.256568e+01 -1.543008e+01       0.000000   \n",
       "25%   -3.171451e-01 -3.269839e-01 -7.083953e-02 -5.295979e-02       5.600000   \n",
       "50%    1.659350e-02 -5.213911e-02  1.342146e-03  1.124383e-02      22.000000   \n",
       "75%    3.507156e-01  2.409522e-01  9.104512e-02  7.827995e-02      77.165000   \n",
       "max    7.519589e+00  3.517346e+00  3.161220e+01  3.384781e+01   25691.160000   \n",
       "\n",
       "               Class  \n",
       "count  284807.000000  \n",
       "mean        0.001727  \n",
       "std         0.041527  \n",
       "min         0.000000  \n",
       "25%         0.000000  \n",
       "50%         0.000000  \n",
       "75%         0.000000  \n",
       "max         1.000000  \n",
       "\n",
       "[8 rows x 31 columns]"
      ]
     },
     "execution_count": 3,
     "metadata": {},
     "output_type": "execute_result"
    }
   ],
   "source": [
    "df.describe()"
   ]
  },
  {
   "cell_type": "code",
   "execution_count": 4,
   "metadata": {},
   "outputs": [
    {
     "data": {
      "text/html": [
       "<div>\n",
       "<style scoped>\n",
       "    .dataframe tbody tr th:only-of-type {\n",
       "        vertical-align: middle;\n",
       "    }\n",
       "\n",
       "    .dataframe tbody tr th {\n",
       "        vertical-align: top;\n",
       "    }\n",
       "\n",
       "    .dataframe thead th {\n",
       "        text-align: right;\n",
       "    }\n",
       "</style>\n",
       "<table border=\"1\" class=\"dataframe\">\n",
       "  <thead>\n",
       "    <tr style=\"text-align: right;\">\n",
       "      <th></th>\n",
       "      <th>Label</th>\n",
       "      <th>Class</th>\n",
       "      <th>Ratio</th>\n",
       "    </tr>\n",
       "  </thead>\n",
       "  <tbody>\n",
       "    <tr>\n",
       "      <th>0</th>\n",
       "      <td>Non-fraud</td>\n",
       "      <td>284315</td>\n",
       "      <td>99.827</td>\n",
       "    </tr>\n",
       "    <tr>\n",
       "      <th>1</th>\n",
       "      <td>fraud</td>\n",
       "      <td>492</td>\n",
       "      <td>0.173</td>\n",
       "    </tr>\n",
       "  </tbody>\n",
       "</table>\n",
       "</div>"
      ],
      "text/plain": [
       "       Label   Class   Ratio\n",
       "0  Non-fraud  284315  99.827\n",
       "1      fraud     492   0.173"
      ]
     },
     "execution_count": 4,
     "metadata": {},
     "output_type": "execute_result"
    }
   ],
   "source": [
    "count = df['Class'].value_counts().to_frame()\n",
    "count['Ratio'] = count['Class'].apply(lambda x: np.around(x/len(df)*100, 3))\n",
    "count.insert(0, 'Label', ['Non-fraud', 'fraud'])\n",
    "count"
   ]
  },
  {
   "cell_type": "markdown",
   "metadata": {},
   "source": [
    "Les colonnes `Time` et `Amount` sont les plus asymétriques, les autres sont normalisées. Ci-bas les histogrammes de chaque trait caractéristique des données en fonction des classes. Ils illustrent que certains traits caractéristiques semblent plus discriminatifs que d'autres qui sont plus confondus pour les deux classes."
   ]
  },
  {
   "cell_type": "code",
   "execution_count": 5,
   "metadata": {},
   "outputs": [
    {
     "data": {
      "image/png": "[encoded data removed]",
      "text/plain": [
       "<Figure size 1008x1152 with 31 Axes>"
      ]
     },
     "metadata": {
      "needs_background": "light"
     },
     "output_type": "display_data"
    }
   ],
   "source": [
    "n_features = df.shape[1] #- 1 \n",
    "n_cols = 4\n",
    "n_rows = n_features // n_cols + 1\n",
    "\n",
    "# create a figure and a set of subplots\n",
    "axarr = [[]]*n_features\n",
    "fig, ax = plt.subplots(figsize=(n_cols*3.5, n_rows*2))\n",
    "\n",
    "for i, col in enumerate(df):\n",
    "    # Create an axis at specific location inside a regular grid.\n",
    "    axarr[i] = plt.subplot2grid( shape=(n_rows, n_cols), loc=(i // n_cols, i % 4))\n",
    "    # Generate histograms\n",
    "    # bins are 25 evenly spaced numbers between 0.2 and 99.8 perceniles (not including extreme values)\n",
    "    bins = np.linspace(start=np.percentile(df[col], 0.2), stop=np.percentile(df[col], 99.8), num=25)\n",
    "    axarr[i].hist(x=[df.loc[df.Class == 0, col], df.loc[df.Class == 1, col]],\n",
    "                  label=['normal', 'fraud'],\n",
    "                  bins=bins,\n",
    "                  color=['blue', 'red'],\n",
    "                  normed=True)\n",
    "    axarr[i].set_xlabel(col, size=12)\n",
    "    if i == 0: \n",
    "        legend = axarr[i].legend()\n",
    "\n",
    "plt.tight_layout(rect=[0,0,1,0.95]) # xmin, ymin, xmax, ymax\n",
    "plt.show()"
   ]
  },
  {
   "cell_type": "markdown",
   "metadata": {},
   "source": [
    "<a id=\"Methodologie\"></a>\n",
    "\n",
    "## 4 Méthodologie\n",
    "\n",
    "Un classifieur entraîné sur des données grandement débalancées risque de mémoriser la disproportion des classes et d'apprendre alors à voter majoriatirement pour la classe sur-représentée. Un tel classifieur sur-apprend la distribution et ignore les traits caractéristiques permettant véritablement de discriminer entre les classes. Considérons l'exemple d'un classifieur qui prédit toujours la classe 0 pour le présent problème de détection de fraudes. Il réussit à prédire correctement la classe de 99.827% transactions, sans pourtant ne détecter aucune fraude. Ce classifieur est incapable de généraliser, et ce, même si son taux de classifications est élevé. C'est la raison pour laquelle il faut adapter l'entraînement des classifieurs et évaluer leurs performances avec les métriques appropriées.\n",
    "\n",
    "Pour minimiser le risque de sur-apprentissage lié au déséquilibre des données, il est possible de ré-échantillonner l'ensemble des données afin de l'équilibrer. L'idée est d'entraîner un modèle sur un ensemble de données balancé tel quel 50% des données sont des fraudes. Modifier ainsi les données d'entraînement introduit un biais qui sert à compenser le risque de surapprentissage dû au fléau des données débalancées. \n",
    "\n",
    "Le sous-échantillonnage est une méthode de ré-échantillonnage qui consiste à retirer une partie des données de la classe majoritaire avant d'entraîner un classifieur. Inversement, le sur-échantillonnage consiste à augmenter les données de la classe minoritaire. On présentera plusieurs méthodes de ré-échantillonnge pour parvenir à reconnaître les fraudes. \n",
    "\n",
    "D'autre part, voici une liste énumérant les définitions de différentes métriques pour mesurer la performance des algorithmes de classification basées sur les notions de vrai positif, faux positif, vrai négatif et faux négatif.\n",
    "\n",
    "- vrais positifs (VP): Nombre de fraudes classées correctement.\n",
    "\n",
    "\n",
    "- faux positifs (FP): Nombre de non-fraudes classées incorrectement.\n",
    "\n",
    "\n",
    "- vrais négatifs (VN): Nombre de non-fraudes classées correctement.\n",
    "\n",
    "\n",
    "- faux négatifs (FN): Nombre de fraudes classées incorrectement.\n",
    "\n",
    "Note: On peut aussi énoncer les définitions pour VP, FP, VN et FN symétriquement pour la classe non-fraude.\n",
    "\n",
    "Soit $N$ le nombre total d'exemples.\n",
    "\n",
    "- Taux de bonnes classifications (accuracy) $:=\\frac{VP+VN}{N}$\n",
    "\n",
    "\n",
    "- Précision (precision) $:=\\frac{VP}{VP+FP}$\n",
    "\n",
    "\n",
    "- Rappel (recall) $:=\\frac{VP}{VP+FN}$\n",
    "\n",
    "\n",
    "- Score-f1 (f1-score)$:=2\\ \\frac{\\text{précision}\\ \\times\\ \\text{rappel}}{\\text{précision}\\ +\\ \\text{rappel}}$\n",
    "\n",
    "\n",
    "- Courbe ROC: Courbe de VP en fonction de FP pour un classifieur binaire.\n",
    "\n",
    "\n",
    "- Roc Auc Score: Aire sous la courbe ROC.\n",
    "\n",
    "\n",
    "Le taux de bonnes classifications est peut-être la mesure la plus naturelle lorsque le jeu de données est balancé. Par contre, on a vu qu'il peut être trompeur si les classes sont disproportionnées.\n",
    "\n",
    "La précision et le rappel sont des mesures de performance appropriées dans le cas de données débalancées. La précision est une mesure d'exactitude qui correspond à la proportion des items pertinents parmi l'ensemble des items proposés. Dans notre cas, il s'agit de l'ensemble des fraudes détectées parmi l'ensemble des transactions classées comme fraudes. D'autre part, le rappel (ou sensibilité) est une mesure d'exhaustivité. Le rappel est la proportion des items pertinents proposés parmi l'ensemble des items pertinents. C'est-à-dire qu'il s'agit de l'ensemble des fraudes détectées parmi l'ensemble de toutes les fraudes. C'est le taux de bonnes classifications par classe. \n",
    "\n",
    "Dans les cas extrêmes, la précision et le rappel s'échangent l'un pour l'autre sous la forme d'un compromis. Par exemple, si on prédit une seule fraude comme une fraude et toutes les autres transactions comme des non-fraudes, alors la précision est de 100%, mais le rappel est très proche de 0%. Inversement, si on prédit toutes les transactions comme des fraudes, alors le rappel est de 100%, mais la précision est très basse. Le score-f1 est la moyenne harmonique de la précision et du rappel qui quantifie le compromis entre la précision et le rappel. \n",
    "\n",
    "Si la probabilité associée à chaque classe est disponible, alors il est possible de tracer la courbe de la précision en fonction du rappel pour différents seuils de classification. Il est également possible de tracer la courbe ROC qui est le taux de vrais positifs en fonction du taux de faux négatifs calculés pour différents seuils de classification. \n",
    "\n",
    "### Fonctions utilitaires\n",
    "\n",
    "Il faut être vigilant lorsqu'on applique les méthodes de ré-échantillonnage puisqu'elles modifient la distribution des données. Supposons qu'on utilise une technique de sur-échantillonnage qui duplique aléatoirement des exemples de la classe minoritaire. Si on sur-échantillonne avant de séparer les données en ensembles d'entraînement et de test, alors il probable qu'un exemple soit dans l'ensemble d'entraînement mais que sa copie soit dans l'ensemble de test. Ainsi, l'ensemble de test n'est pas complètement inconnu à un classifieur qui s'entraîne sur cet ensemble d'entraînement. Pour éviter une telle fuite d'information future et l'introduction d'un biais dans l'estimation de performance, il faut s'assurer que l'ensemble de test soit indépendant de l'ensemble d'entraînement et que sa distribution soit celle des données initiales. C'est aussi valable lors de la validation croisée: il faut que les méthodes de ré-échantillonnage s'appliquent autant que possible sur l'ensemble d'entraînement sans affecter l'ensemble de validation.\n",
    "\n",
    "La fonctionalité `grid_search_cv_resample` permet de faire une fouille exhaustive sur un dictionnaire d'hyper-paramètres tout en ré-échantillonnant durant la validation croisée. La méthode  `GridSearchCV` de Scikit Learn est plus rapide d'éxécution mais ne permet pas de ré-échantillonner à chaque pli de la validation croisée. On peut utiliser `GridSearchCV` avec les méthodes de sous-échantillonnage qui prenne du temps à s'éxécuter puisqu'elles n'introduisent pas d'information de l'ensemble d'entraînement dans l'ensemble de test.\n",
    "\n",
    "La fonctionalité `print_metrics_resample` permet d'imprimer une estimation de la performance d'un prédicteur par validation croisée."
   ]
  },
  {
   "cell_type": "code",
   "execution_count": 6,
   "metadata": {},
   "outputs": [],
   "source": [
    "metrics = {}\n",
    "metrics['accuracy'] = accuracy_score\n",
    "metrics['recall'] = recall_score\n",
    "\n",
    "def grid_search_cv_resample(X_train, y_train, model, params, cv=5, resampler=None, metric='accuracy', verbose=True):\n",
    "    \"\"\"\n",
    "    Returns the best model found by cross validation.\n",
    "    \"\"\"\n",
    "    # Folds are made by preserving the percentage of samples for each class.\n",
    "    skf = StratifiedKFold(n_splits=cv, shuffle=False)\n",
    "\n",
    "    param_grid = ParameterGrid(params)\n",
    "    best_params = None\n",
    "    best_score = 0\n",
    "    \n",
    "    scoring = metrics[metric]\n",
    "    \n",
    "    time1 = t()\n",
    "    for param_combination in param_grid:\n",
    "        \n",
    "        # Set model parameters\n",
    "        model.set_params(**param_combination)\n",
    "        \n",
    "        scores = []\n",
    "        \n",
    "        # Cross validation\n",
    "        for train_index, val_index in skf.split(X_train, y_train):\n",
    "            \n",
    "            # Train-val split\n",
    "            X_val, y_val = X_train[val_index], y_train[val_index] \n",
    "            X_train_resample, y_train_resample = X_train[train_index], y_train[train_index]\n",
    "            # Re-sample training set\n",
    "            if resampler is not None:\n",
    "                X_train_resample, y_train_resample = resampler.fit_resample(X_train_resample, y_train_resample)\n",
    "            \n",
    "            # Train - predict on validation\n",
    "            model.fit(X_train_resample, y_train_resample)\n",
    "            pred = model.predict(X_val)\n",
    "            \n",
    "            # Evaluate performance\n",
    "            scores.append(scoring(y_val, pred))\n",
    "            # Only report results for the class specified by pos_label (default=1).\n",
    "\n",
    "        score = np.mean(scores)\n",
    "        \n",
    "        if score > best_score:\n",
    "            best_score, best_params = score, param_combination\n",
    "\n",
    "    time2 = t()\n",
    "    if verbose:\n",
    "        print('\\nBest params', best_params)\n",
    "        print(f'{metric} score:', best_score)\n",
    "        print('Time:', time2-time1)\n",
    "    \n",
    "    return model.set_params(**best_params)\n",
    "\n",
    "\n",
    "def print_metrics_resample(X, y, model, cv=5, resampler=None):\n",
    "    \n",
    "    # Folds are made by preserving the percentage of samples for each class.\n",
    "    skf = StratifiedKFold(n_splits=cv, shuffle=False)\n",
    "    \n",
    "    precision = []\n",
    "    recall = []\n",
    "    f1 = []\n",
    "    support = []\n",
    "    accuracy = []\n",
    "    \n",
    "    # Cross validation\n",
    "    for train_index, val_index in skf.split(X, y):\n",
    "\n",
    "        # Train-val split\n",
    "        X_val, y_val = X[val_index], y[val_index] \n",
    "        X_train_resample, y_train_resample = X[train_index], y[train_index]\n",
    "        # Re-sample training set\n",
    "        if resampler is not None:\n",
    "            X_train_resample, y_train_resample = resampler.fit_resample(X_train_resample, y_train_resample) # Shuffle this ?! \n",
    "\n",
    "        # Train - predict on validation\n",
    "        model.fit(X_train_resample, y_train_resample)\n",
    "        pred = model.predict(X_val)\n",
    "\n",
    "        # Evaluate performance\n",
    "        metrics = precision_recall_fscore_support(y_val, pred, beta=1.0, labels=[0,1], average=None)\n",
    "        precision.append(metrics[0])\n",
    "        recall.append(metrics[1])\n",
    "        f1.append(metrics[2])\n",
    "        support.append(metrics[3])\n",
    "        accuracy.append(accuracy_score(y_val, pred))\n",
    "    \n",
    "    precision = np.mean(precision, axis=0)\n",
    "    recall = np.mean(recall, axis=0)\n",
    "    f1 = np.mean(f1, axis=0)\n",
    "    support = np.mean(support, axis=0)\n",
    "    accuracy = np.mean(accuracy, axis=0)\n",
    "    \n",
    "    print('\\nAccuracy\\t', accuracy)\n",
    "    print('\\nClass\\t\\t 0\\t\\t1')\n",
    "    print('Precision\\t', '%.3f\\t\\t%.3f'% (precision[0], precision[1]))\n",
    "    print('Recall\\t\\t', '%.3f\\t\\t%.3f'% (recall[0], recall[1]))\n",
    "    print('f1\\t\\t', '%.3f\\t\\t%.3f'% (f1[0], f1[1]))\n",
    "    print('Support\\t\\t', '%.3f\\t%.3f'% (support[0], support[1]))\n"
   ]
  },
  {
   "cell_type": "markdown",
   "metadata": {},
   "source": [
    "<a id=\"Normalization\"></a>\n",
    "##  5 Normalisation\n",
    "\n",
    "On voudrait normaliser les colonnes `Time` et `Amount` comme pour les colonnes `V1` à `V28`. Le but principal de cette normalisation est d'aider les techniques de convergence utilisées pour l'optimisation."
   ]
  },
  {
   "cell_type": "code",
   "execution_count": 7,
   "metadata": {},
   "outputs": [
    {
     "data": {
      "text/html": [
       "<div>\n",
       "<style scoped>\n",
       "    .dataframe tbody tr th:only-of-type {\n",
       "        vertical-align: middle;\n",
       "    }\n",
       "\n",
       "    .dataframe tbody tr th {\n",
       "        vertical-align: top;\n",
       "    }\n",
       "\n",
       "    .dataframe thead th {\n",
       "        text-align: right;\n",
       "    }\n",
       "</style>\n",
       "<table border=\"1\" class=\"dataframe\">\n",
       "  <thead>\n",
       "    <tr style=\"text-align: right;\">\n",
       "      <th></th>\n",
       "      <th>norm_amount</th>\n",
       "      <th>norm_time</th>\n",
       "      <th>V1</th>\n",
       "      <th>V2</th>\n",
       "      <th>V3</th>\n",
       "      <th>V4</th>\n",
       "      <th>V5</th>\n",
       "      <th>V6</th>\n",
       "      <th>V7</th>\n",
       "      <th>V8</th>\n",
       "      <th>...</th>\n",
       "      <th>V20</th>\n",
       "      <th>V21</th>\n",
       "      <th>V22</th>\n",
       "      <th>V23</th>\n",
       "      <th>V24</th>\n",
       "      <th>V25</th>\n",
       "      <th>V26</th>\n",
       "      <th>V27</th>\n",
       "      <th>V28</th>\n",
       "      <th>Class</th>\n",
       "    </tr>\n",
       "  </thead>\n",
       "  <tbody>\n",
       "    <tr>\n",
       "      <th>0</th>\n",
       "      <td>0.244964</td>\n",
       "      <td>-1.996583</td>\n",
       "      <td>-1.359807</td>\n",
       "      <td>-0.072781</td>\n",
       "      <td>2.536347</td>\n",
       "      <td>1.378155</td>\n",
       "      <td>-0.338321</td>\n",
       "      <td>0.462388</td>\n",
       "      <td>0.239599</td>\n",
       "      <td>0.098698</td>\n",
       "      <td>...</td>\n",
       "      <td>0.251412</td>\n",
       "      <td>-0.018307</td>\n",
       "      <td>0.277838</td>\n",
       "      <td>-0.110474</td>\n",
       "      <td>0.066928</td>\n",
       "      <td>0.128539</td>\n",
       "      <td>-0.189115</td>\n",
       "      <td>0.133558</td>\n",
       "      <td>-0.021053</td>\n",
       "      <td>0</td>\n",
       "    </tr>\n",
       "    <tr>\n",
       "      <th>1</th>\n",
       "      <td>-0.342475</td>\n",
       "      <td>-1.996583</td>\n",
       "      <td>1.191857</td>\n",
       "      <td>0.266151</td>\n",
       "      <td>0.166480</td>\n",
       "      <td>0.448154</td>\n",
       "      <td>0.060018</td>\n",
       "      <td>-0.082361</td>\n",
       "      <td>-0.078803</td>\n",
       "      <td>0.085102</td>\n",
       "      <td>...</td>\n",
       "      <td>-0.069083</td>\n",
       "      <td>-0.225775</td>\n",
       "      <td>-0.638672</td>\n",
       "      <td>0.101288</td>\n",
       "      <td>-0.339846</td>\n",
       "      <td>0.167170</td>\n",
       "      <td>0.125895</td>\n",
       "      <td>-0.008983</td>\n",
       "      <td>0.014724</td>\n",
       "      <td>0</td>\n",
       "    </tr>\n",
       "    <tr>\n",
       "      <th>2</th>\n",
       "      <td>1.160686</td>\n",
       "      <td>-1.996562</td>\n",
       "      <td>-1.358354</td>\n",
       "      <td>-1.340163</td>\n",
       "      <td>1.773209</td>\n",
       "      <td>0.379780</td>\n",
       "      <td>-0.503198</td>\n",
       "      <td>1.800499</td>\n",
       "      <td>0.791461</td>\n",
       "      <td>0.247676</td>\n",
       "      <td>...</td>\n",
       "      <td>0.524980</td>\n",
       "      <td>0.247998</td>\n",
       "      <td>0.771679</td>\n",
       "      <td>0.909412</td>\n",
       "      <td>-0.689281</td>\n",
       "      <td>-0.327642</td>\n",
       "      <td>-0.139097</td>\n",
       "      <td>-0.055353</td>\n",
       "      <td>-0.059752</td>\n",
       "      <td>0</td>\n",
       "    </tr>\n",
       "    <tr>\n",
       "      <th>3</th>\n",
       "      <td>0.140534</td>\n",
       "      <td>-1.996562</td>\n",
       "      <td>-0.966272</td>\n",
       "      <td>-0.185226</td>\n",
       "      <td>1.792993</td>\n",
       "      <td>-0.863291</td>\n",
       "      <td>-0.010309</td>\n",
       "      <td>1.247203</td>\n",
       "      <td>0.237609</td>\n",
       "      <td>0.377436</td>\n",
       "      <td>...</td>\n",
       "      <td>-0.208038</td>\n",
       "      <td>-0.108300</td>\n",
       "      <td>0.005274</td>\n",
       "      <td>-0.190321</td>\n",
       "      <td>-1.175575</td>\n",
       "      <td>0.647376</td>\n",
       "      <td>-0.221929</td>\n",
       "      <td>0.062723</td>\n",
       "      <td>0.061458</td>\n",
       "      <td>0</td>\n",
       "    </tr>\n",
       "    <tr>\n",
       "      <th>4</th>\n",
       "      <td>-0.073403</td>\n",
       "      <td>-1.996541</td>\n",
       "      <td>-1.158233</td>\n",
       "      <td>0.877737</td>\n",
       "      <td>1.548718</td>\n",
       "      <td>0.403034</td>\n",
       "      <td>-0.407193</td>\n",
       "      <td>0.095921</td>\n",
       "      <td>0.592941</td>\n",
       "      <td>-0.270533</td>\n",
       "      <td>...</td>\n",
       "      <td>0.408542</td>\n",
       "      <td>-0.009431</td>\n",
       "      <td>0.798278</td>\n",
       "      <td>-0.137458</td>\n",
       "      <td>0.141267</td>\n",
       "      <td>-0.206010</td>\n",
       "      <td>0.502292</td>\n",
       "      <td>0.219422</td>\n",
       "      <td>0.215153</td>\n",
       "      <td>0</td>\n",
       "    </tr>\n",
       "  </tbody>\n",
       "</table>\n",
       "<p>5 rows × 31 columns</p>\n",
       "</div>"
      ],
      "text/plain": [
       "   norm_amount  norm_time        V1        V2        V3        V4        V5  \\\n",
       "0     0.244964  -1.996583 -1.359807 -0.072781  2.536347  1.378155 -0.338321   \n",
       "1    -0.342475  -1.996583  1.191857  0.266151  0.166480  0.448154  0.060018   \n",
       "2     1.160686  -1.996562 -1.358354 -1.340163  1.773209  0.379780 -0.503198   \n",
       "3     0.140534  -1.996562 -0.966272 -0.185226  1.792993 -0.863291 -0.010309   \n",
       "4    -0.073403  -1.996541 -1.158233  0.877737  1.548718  0.403034 -0.407193   \n",
       "\n",
       "         V6        V7        V8  ...       V20       V21       V22       V23  \\\n",
       "0  0.462388  0.239599  0.098698  ...  0.251412 -0.018307  0.277838 -0.110474   \n",
       "1 -0.082361 -0.078803  0.085102  ... -0.069083 -0.225775 -0.638672  0.101288   \n",
       "2  1.800499  0.791461  0.247676  ...  0.524980  0.247998  0.771679  0.909412   \n",
       "3  1.247203  0.237609  0.377436  ... -0.208038 -0.108300  0.005274 -0.190321   \n",
       "4  0.095921  0.592941 -0.270533  ...  0.408542 -0.009431  0.798278 -0.137458   \n",
       "\n",
       "        V24       V25       V26       V27       V28  Class  \n",
       "0  0.066928  0.128539 -0.189115  0.133558 -0.021053      0  \n",
       "1 -0.339846  0.167170  0.125895 -0.008983  0.014724      0  \n",
       "2 -0.689281 -0.327642 -0.139097 -0.055353 -0.059752      0  \n",
       "3 -1.175575  0.647376 -0.221929  0.062723  0.061458      0  \n",
       "4  0.141267 -0.206010  0.502292  0.219422  0.215153      0  \n",
       "\n",
       "[5 rows x 31 columns]"
      ]
     },
     "execution_count": 7,
     "metadata": {},
     "output_type": "execute_result"
    }
   ],
   "source": [
    "# Standardize features by removing the mean and scaling to unit variance\n",
    "scaler = StandardScaler()\n",
    "\n",
    "time = df['Time'].values.reshape(-1, 1)\n",
    "amount = df['Amount'].values.reshape(-1, 1)\n",
    "norm_time = scaler.fit_transform(time)\n",
    "norm_amount = scaler.fit_transform(amount)\n",
    "df.insert(0, 'norm_time', norm_time)\n",
    "df.insert(0, 'norm_amount',norm_amount)\n",
    "df.drop(['Time', 'Amount'], axis=1, inplace=True)\n",
    "df.head()"
   ]
  },
  {
   "cell_type": "markdown",
   "metadata": {},
   "source": [
    "<a id=\"Split\"></a>\n",
    "## 6 Séparation des données"
   ]
  },
  {
   "cell_type": "code",
   "execution_count": 8,
   "metadata": {},
   "outputs": [
    {
     "name": "stdout",
     "output_type": "stream",
     "text": [
      "344 cas de fraudes dans l'ensemble d'entraînement (0.17254870488152324 %)\n",
      "148 cas de fraudes dans l'ensemble de test (0.17321489179921118 %)\n"
     ]
    }
   ],
   "source": [
    "inputs, outputs = df.drop('Class', axis=1), df['Class']\n",
    "\n",
    "# If stratify not None, data is split in a stratified fashion, using this as the class labels\n",
    "X_train, X_test, y_train, y_test = train_test_split(inputs, outputs, test_size=0.3, random_state=0, stratify=outputs)\n",
    "\n",
    "# Verify if distributions are the same\n",
    "n_train_fraud = y_train.value_counts()[1]\n",
    "n_test_fraud = y_test.value_counts()[1]\n",
    "train_ratio = n_train_fraud/y_train.shape[0] * 100\n",
    "test_ratio = n_test_fraud/y_test.shape[0] * 100\n",
    "print(f'{n_train_fraud} cas de fraudes dans l\\'ensemble d\\'entraînement ({train_ratio} %)')\n",
    "print(f'{n_test_fraud} cas de fraudes dans l\\'ensemble de test ({test_ratio} %)')\n",
    "\n",
    "# Create a new dataframe for training set\n",
    "train_df = X_train.copy()\n",
    "train_df['Class'] = y_train\n",
    "train_df.sample(random_state=0)\n",
    "\n",
    "X_train, y_train = X_train.values, y_train.values\n",
    "X_test, y_test = X_test.values, y_test.values"
   ]
  },
  {
   "cell_type": "markdown",
   "metadata": {},
   "source": [
    "<a id=\"Reg\"></a>\n",
    "## 7 Régression logistique (implémentation naïve)\n",
    "\n",
    "Pour commencer, implémentons naïvement un classifieur simple comme la régression logistique sur la totalité des données sans se préoccuper du débalancement des données. Comme discuté précédemment, on s'attend à ce que le modèle apprenne à prédire la classe 0 trop souvent."
   ]
  },
  {
   "cell_type": "markdown",
   "metadata": {},
   "source": [
    "### 7.1 Sélection des hyperparamètres"
   ]
  },
  {
   "cell_type": "code",
   "execution_count": 9,
   "metadata": {},
   "outputs": [
    {
     "name": "stdout",
     "output_type": "stream",
     "text": [
      "Fitting 5 folds for each of 14 candidates, totalling 70 fits\n"
     ]
    },
    {
     "name": "stderr",
     "output_type": "stream",
     "text": [
      "[Parallel(n_jobs=1)]: Using backend SequentialBackend with 1 concurrent workers.\n",
      "[Parallel(n_jobs=1)]: Done  70 out of  70 | elapsed:   59.4s finished\n"
     ]
    },
    {
     "name": "stdout",
     "output_type": "stream",
     "text": [
      "Meilleurs paramètres: {'C': 10, 'penalty': 'l2'}\n",
      "Meilleur résultat (moyenne des résultats de validation croisée): 0.9992375756661026\n"
     ]
    }
   ],
   "source": [
    "log_reg = LogisticRegression()\n",
    "\n",
    "# Tuning penalty and regularization using cross validation (5 folds)\n",
    "params = {'penalty': ['l1', 'l2'], 'C': [0.001, 0.01, 0.1, 1, 10, 100, 1000]}\n",
    "log_reg_gs= GridSearchCV(log_reg, params, scoring='accuracy', cv=5, verbose=1) # Using accuracy as scoring metric \n",
    "log_reg_gs.fit(X_train, y_train)\n",
    "print('Meilleurs paramètres:', log_reg_gs.best_params_)\n",
    "print('Meilleur résultat (moyenne des résultats de validation croisée):', log_reg_gs.best_score_)\n",
    "log_reg_best = log_reg_gs.best_estimator_"
   ]
  },
  {
   "cell_type": "markdown",
   "metadata": {},
   "source": [
    "### 7.2 Évaluation sur les données test\n",
    "\n",
    "On estime le pouvoir de généralisation du classifieur sur l'ensemble de test. Bien que le taux de bonnes classification est élevée, le prédicteur n'a su que détecter 63% des fraudes. Ceci confirme notre hypothèse et on voudrait augmenter significativement cette quantité."
   ]
  },
  {
   "cell_type": "code",
   "execution_count": 10,
   "metadata": {},
   "outputs": [
    {
     "name": "stdout",
     "output_type": "stream",
     "text": [
      "              precision    recall  f1-score   support\n",
      "\n",
      "           0     0.9994    0.9998    0.9996     85295\n",
      "           1     0.8774    0.6284    0.7323       148\n",
      "\n",
      "    accuracy                         0.9992     85443\n",
      "   macro avg     0.9384    0.8141    0.8659     85443\n",
      "weighted avg     0.9991    0.9992    0.9991     85443\n",
      "\n"
     ]
    }
   ],
   "source": [
    "log_reg_best.fit(X_train, y_train)\n",
    "predictions = log_reg_best.predict(X_test)\n",
    "\n",
    "print(classification_report(y_test, predictions, digits=4))"
   ]
  },
  {
   "cell_type": "markdown",
   "metadata": {},
   "source": [
    "<a id=\"Us\"></a>\n",
    "## 8 Sous-échantillonnage\n",
    "\n",
    "### 8.1 Sous-échantillonnage aléatoire\n",
    "\n",
    "Le sous-échantillonnage aléatoire consiste à sélectionner aléatoirement des exemples dans la classe majoritaire pour équilibrer les données. \n",
    "\n",
    "Ci-bas les matrices de corrélations du jeu de donnée débalancé et du jeu de donné balancé avec sous-échantillonnage aléatoire. Les corrélations sont plus évidentes dans le jeu de données balancé de sorte que le sous-échantillonnage aléatoire devrait aider les classifieurs à cerner les attributs permettant d'établir une différence entre les classe."
   ]
  },
  {
   "cell_type": "code",
   "execution_count": 11,
   "metadata": {},
   "outputs": [
    {
     "data": {
      "text/plain": [
       "<matplotlib.axes._subplots.AxesSubplot at 0x28b17df5240>"
      ]
     },
     "execution_count": 11,
     "metadata": {},
     "output_type": "execute_result"
    },
    {
     "data": {
      "image/png": "[encoded data removed]",
      "text/plain": [
       "<Figure size 1080x720 with 4 Axes>"
      ]
     },
     "metadata": {
      "needs_background": "light"
     },
     "output_type": "display_data"
    }
   ],
   "source": [
    "# Make sure we use the subsample in our correlation\n",
    "f, (ax1, ax2) = plt.subplots(2, 1, figsize=(15, 10))\n",
    "\n",
    "# Original unbalanced dataframe\n",
    "unbalanced_df = df.drop([\"Class\"], axis=1)\n",
    "sns.heatmap(unbalanced_df.corr(), ax=ax1)\n",
    "\n",
    "# Balanced dataframe\n",
    "rand_undersampler = RandomUnderSampler(sampling_strategy=1.0, random_state=0)\n",
    "X_us, y_us = rand_undersampler.fit_resample(X_train, y_train)\n",
    "\n",
    "balanced_df = pd.DataFrame(X_us)\n",
    "balanced_df.columns = unbalanced_df.columns\n",
    "sns.heatmap(balanced_df.corr(), ax=ax2)\n"
   ]
  },
  {
   "cell_type": "markdown",
   "metadata": {},
   "source": [
    "#### 8.1.1 Sélection du modèle \n",
    "\n",
    "Comme le jeu de donné sous-échantillonné est petit, il devrait avoir une grande variabilité. C'est pourquoi il est raisonnable d'essayer des modèles de basse capacité. Un algorithme trop expressif risque de mémoriser le bruit, de surapprendre et de mal généraliser.\n",
    "\n",
    "Le rappel est une mesure de performance naturelle pour choisir les hyperparamètres des modèles lors de la validation croisée puisque l'ensemble de validation est débalancé."
   ]
  },
  {
   "cell_type": "code",
   "execution_count": 12,
   "metadata": {},
   "outputs": [
    {
     "name": "stdout",
     "output_type": "stream",
     "text": [
      "\n",
      "Best params {'C': 1000, 'penalty': 'l2'}\n",
      "recall score: 0.9303069053708439\n",
      "Time: 5.384169101715088\n"
     ]
    }
   ],
   "source": [
    "# Logistic Regression\n",
    "log_reg = LogisticRegression()\n",
    "\n",
    "# Tuning penalty and regularization using cross validation\n",
    "params = {'penalty': ['l2'], 'C': [0.001, 0.01, 0.1, 1, 10, 100, 1000]}\n",
    "log_reg_us = grid_search_cv_resample(X_train,\n",
    "                                     y_train,\n",
    "                                     log_reg,\n",
    "                                     params,\n",
    "                                     cv=5,\n",
    "                                     resampler=rand_undersampler,\n",
    "                                     metric='recall',\n",
    "                                     verbose=True)"
   ]
  },
  {
   "cell_type": "code",
   "execution_count": 13,
   "metadata": {},
   "outputs": [
    {
     "name": "stdout",
     "output_type": "stream",
     "text": [
      "\n",
      "Accuracy\t 0.9498605647670519\n",
      "\n",
      "Class\t\t 0\t\t1\n",
      "Precision\t 1.000\t\t0.031\n",
      "Recall\t\t 0.950\t\t0.930\n",
      "f1\t\t 0.974\t\t0.060\n",
      "Support\t\t 39804.000\t68.800\n"
     ]
    }
   ],
   "source": [
    "print_metrics_resample(X_train, y_train, log_reg_us, cv=5, resampler=rand_undersampler)"
   ]
  },
  {
   "cell_type": "code",
   "execution_count": 14,
   "metadata": {},
   "outputs": [
    {
     "name": "stdout",
     "output_type": "stream",
     "text": [
      "\n",
      "Best params {'C': 1000, 'kernel': 'rbf'}\n",
      "recall score: 0.9331202046035806\n",
      "Time: 21.826516151428223\n"
     ]
    }
   ],
   "source": [
    "# SVM\n",
    "svm_rbf = SVC()\n",
    "\n",
    "# Tuning kernel, C, and degree for polynomial kernel\n",
    "params = {'kernel': ['rbf'], 'C': [0.001, 0.01, 0.1, 1, 10, 100, 1000]}\n",
    "svm_rbf_us = grid_search_cv_resample(X_train,\n",
    "                                     y_train,\n",
    "                                     svm_rbf, \n",
    "                                     params,\n",
    "                                     cv=5,\n",
    "                                     resampler=rand_undersampler,\n",
    "                                     metric='recall',\n",
    "                                     verbose=1)"
   ]
  },
  {
   "cell_type": "code",
   "execution_count": 15,
   "metadata": {},
   "outputs": [
    {
     "name": "stdout",
     "output_type": "stream",
     "text": [
      "\n",
      "Accuracy\t 0.9426676802076932\n",
      "\n",
      "Class\t\t 0\t\t1\n",
      "Precision\t 1.000\t\t0.028\n",
      "Recall\t\t 0.943\t\t0.933\n",
      "f1\t\t 0.970\t\t0.054\n",
      "Support\t\t 39804.000\t68.800\n"
     ]
    }
   ],
   "source": [
    "print_metrics_resample(X_train, y_train, svm_rbf_us, cv=5, resampler=rand_undersampler)"
   ]
  },
  {
   "cell_type": "code",
   "execution_count": 16,
   "metadata": {},
   "outputs": [
    {
     "name": "stdout",
     "output_type": "stream",
     "text": [
      "\n",
      "Best params {'n_neighbors': 1}\n",
      "recall score: 0.9128303495311169\n",
      "Time: 105.61243295669556\n"
     ]
    }
   ],
   "source": [
    "# knn\n",
    "knn = KNeighborsClassifier()\n",
    "\n",
    "# Tuning k\n",
    "params = {'n_neighbors': [1, 2, 3, 4, 5, 6, 7, 8, 9, 10]}\n",
    "knn_us = grid_search_cv_resample(X_train,\n",
    "                                 y_train,\n",
    "                                 knn,\n",
    "                                 params,\n",
    "                                 cv=5,\n",
    "                                 resampler=rand_undersampler,\n",
    "                                 metric='recall',\n",
    "                                 verbose=1)"
   ]
  },
  {
   "cell_type": "code",
   "execution_count": 17,
   "metadata": {},
   "outputs": [
    {
     "name": "stdout",
     "output_type": "stream",
     "text": [
      "\n",
      "Accuracy\t 0.9360766891038759\n",
      "\n",
      "Class\t\t 0\t\t1\n",
      "Precision\t 1.000\t\t0.024\n",
      "Recall\t\t 0.936\t\t0.913\n",
      "f1\t\t 0.967\t\t0.047\n",
      "Support\t\t 39804.000\t68.800\n"
     ]
    }
   ],
   "source": [
    "print_metrics_resample(X_train, y_train, knn_us, cv=5, resampler=rand_undersampler)"
   ]
  },
  {
   "cell_type": "code",
   "execution_count": 18,
   "metadata": {},
   "outputs": [
    {
     "name": "stdout",
     "output_type": "stream",
     "text": [
      "\n",
      "Best params {'n_estimators': 100}\n",
      "recall score: 0.9128729752770675\n",
      "Time: 16.865888118743896\n"
     ]
    }
   ],
   "source": [
    "# Random Forest\n",
    "rand_forest = RandomForestClassifier(random_state=0)\n",
    "\n",
    "# Tuning number of trees\n",
    "params = {'n_estimators': [1, 10, 100, 500]}\n",
    "rand_forest_us = grid_search_cv_resample(X_train,\n",
    "                                         y_train,\n",
    "                                         rand_forest,\n",
    "                                         params,\n",
    "                                         cv=5,\n",
    "                                         resampler=rand_undersampler,\n",
    "                                         metric='recall',\n",
    "                                         verbose=1)"
   ]
  },
  {
   "cell_type": "code",
   "execution_count": 19,
   "metadata": {},
   "outputs": [
    {
     "name": "stdout",
     "output_type": "stream",
     "text": [
      "\n",
      "Accuracy\t 0.9717953071427143\n",
      "\n",
      "Class\t\t 0\t\t1\n",
      "Precision\t 1.000\t\t0.054\n",
      "Recall\t\t 0.972\t\t0.913\n",
      "f1\t\t 0.986\t\t0.101\n",
      "Support\t\t 39804.000\t68.800\n"
     ]
    }
   ],
   "source": [
    "print_metrics_resample(X_train, y_train, rand_forest_us, cv=5, resampler=rand_undersampler)"
   ]
  },
  {
   "cell_type": "markdown",
   "metadata": {},
   "source": [
    "Les classifieurs donnent tous de bons résultats pour le rappel et le taux de bonnes classifications global. Par contre, pour la classe 1, la précision et le score-f1 sont assez bas.\n",
    "\n",
    "La forêt d'arbres aléatoires a le plus haut taux de bonnes classifications (\\~97%) avec un rappel raisonable (\\~91%) pour la classe des fraudes. Si on se place dans la position d'une institution bancaire qui se satisfait d'un taux de détection de fraude > 90%, mais qui désire limiter absolument le taux de cas non-fraduleux incorrectement classés pour ne pas déranger inutilement sa clientèle, alors la forêt d'arbres aléatoires est le classifieur le plus intéressant."
   ]
  },
  {
   "cell_type": "markdown",
   "metadata": {},
   "source": [
    "### 8.2 Sous-échantillonnage par centroïdes\n",
    "\n",
    "Il s'agit de performer l'algorithme de K-Moyennes (K-Mean) sur l'ensemble majoritaire pour sélectionner les exemples à conserver.\n",
    "\n",
    "L'algorithme K-moyenne trouve le barycentre des exemples de la classes majoritaires et les exemples les plus éloignés du centroïde sont considérés comme les moins importants de sorte qu'on les retire.\n",
    "\n",
    "Cette méthode s'assure alors de sélectioner des éléments typiques qui devraient bien représenter la classe majoritaire.\n",
    "\n",
    "#### 8.2.1 Sélection des hyperparamètres"
   ]
  },
  {
   "cell_type": "code",
   "execution_count": 20,
   "metadata": {},
   "outputs": [],
   "source": [
    "centroid_undersampler = ClusterCentroids(sampling_strategy='majority', random_state=0)\n",
    "\n",
    "# Perform under-sampling by generating centroids based on clustering methods.\n",
    "X_train_centroid, y_train_centroid = centroid_undersampler.fit_resample(X_train, y_train)"
   ]
  },
  {
   "cell_type": "code",
   "execution_count": 21,
   "metadata": {},
   "outputs": [
    {
     "name": "stdout",
     "output_type": "stream",
     "text": [
      "Fitting 5 folds for each of 7 candidates, totalling 35 fits\n"
     ]
    },
    {
     "name": "stderr",
     "output_type": "stream",
     "text": [
      "[Parallel(n_jobs=1)]: Using backend SequentialBackend with 1 concurrent workers.\n"
     ]
    },
    {
     "name": "stdout",
     "output_type": "stream",
     "text": [
      "{'C': 1, 'penalty': 'l2'}\n",
      "Meilleur résultat (moyenne des résultats de validation croisée): 0.9360414683169365\n"
     ]
    },
    {
     "name": "stderr",
     "output_type": "stream",
     "text": [
      "[Parallel(n_jobs=1)]: Done  35 out of  35 | elapsed:    0.7s finished\n"
     ]
    }
   ],
   "source": [
    "log_reg = LogisticRegression()\n",
    "params = {'penalty': ['l2'], 'C': [0.001, 0.01, 0.1, 1, 10, 100, 1000]}\n",
    "log_reg = GridSearchCV(log_reg, params, scoring='accuracy', cv=5, verbose=1)\n",
    "log_reg.fit(X_train_centroid, y_train_centroid)\n",
    "print(log_reg.best_params_)\n",
    "print('Meilleur résultat (moyenne des résultats de validation croisée):', log_reg.best_score_)\n",
    "log_reg_centroid = log_reg.best_estimator_"
   ]
  },
  {
   "cell_type": "markdown",
   "metadata": {},
   "source": [
    "Estimation (fiable) de la performance avec un ensemble de validation ayant la distribution initiale."
   ]
  },
  {
   "cell_type": "code",
   "execution_count": 22,
   "metadata": {
    "scrolled": true
   },
   "outputs": [
    {
     "name": "stdout",
     "output_type": "stream",
     "text": [
      "\n",
      "Accuracy\t 0.9618537132381668\n",
      "\n",
      "Class\t\t 0\t\t1\n",
      "Precision\t 1.000\t\t0.039\n",
      "Recall\t\t 0.962\t\t0.898\n",
      "f1\t\t 0.981\t\t0.076\n",
      "Support\t\t 39804.000\t68.800\n"
     ]
    }
   ],
   "source": [
    "print_metrics_resample(X_train, y_train, log_reg_centroid, cv=5, resampler=centroid_undersampler)"
   ]
  },
  {
   "cell_type": "markdown",
   "metadata": {},
   "source": [
    "### 8.3 Évaluation sur les données test (sous-échantillonnage aléatoire)\n",
    "\n",
    "La régression logistique a un taux de classification acceptable tout en ayant un bon rappel. Co-bas se trouve l'évaluation de son pouvoir de généralisation avec sous-échantillonnage aléatoire sur l'ensemble de test original.\n",
    "\n",
    "Les résultats sont bons et s'accordent à ceux prédits par la validation croisée sur l'ensemble d'entraînement."
   ]
  },
  {
   "cell_type": "code",
   "execution_count": 23,
   "metadata": {
    "scrolled": true
   },
   "outputs": [],
   "source": [
    "# Under-sampled training set\n",
    "X_train_rus, y_train_rus = rand_undersampler.fit_resample(X_train, y_train)"
   ]
  },
  {
   "cell_type": "code",
   "execution_count": 24,
   "metadata": {
    "scrolled": true
   },
   "outputs": [
    {
     "name": "stdout",
     "output_type": "stream",
     "text": [
      "              precision    recall  f1-score   support\n",
      "\n",
      "           0     0.9998    0.9263    0.9616     85295\n",
      "           1     0.0209    0.9054    0.0408       148\n",
      "\n",
      "    accuracy                         0.9262     85443\n",
      "   macro avg     0.5103    0.9158    0.5012     85443\n",
      "weighted avg     0.9981    0.9262    0.9600     85443\n",
      "\n"
     ]
    }
   ],
   "source": [
    "log_reg_us.fit(X_train_rus, y_train_rus)\n",
    "predictions = log_reg_us.predict(X_test)\n",
    "print(classification_report(y_test, predictions, digits=4))"
   ]
  },
  {
   "cell_type": "code",
   "execution_count": 25,
   "metadata": {},
   "outputs": [
    {
     "data": {
      "image/png": "[encoded data removed]",
      "text/plain": [
       "<Figure size 432x288 with 2 Axes>"
      ]
     },
     "metadata": {
      "needs_background": "light"
     },
     "output_type": "display_data"
    }
   ],
   "source": [
    "# Confusion matrix\n",
    "np.set_printoptions(precision=2)\n",
    "\n",
    "disp = plot_confusion_matrix(log_reg_us,\n",
    "                             X_test,\n",
    "                             y_test,\n",
    "                             display_labels=[\"Transaction normale\", \"Fraude\"],\n",
    "                             values_format='.6g',\n",
    "                             cmap=plt.cm.Blues,\n",
    "                             normalize=None)\n",
    "disp.ax_.set_title('Matrice de confusion de la régression logistique avec sous-échantillonnage aléatoire sur l\\'ensemble de test')\n",
    "\n",
    "plt.show()"
   ]
  },
  {
   "cell_type": "code",
   "execution_count": 26,
   "metadata": {},
   "outputs": [
    {
     "name": "stdout",
     "output_type": "stream",
     "text": [
      "Roc Auc score 0.9158365323527409\n"
     ]
    }
   ],
   "source": [
    "roc_auc_reg = roc_auc_score(y_test, predictions)\n",
    "print('Roc Auc score', roc_auc_reg)"
   ]
  },
  {
   "cell_type": "code",
   "execution_count": 27,
   "metadata": {},
   "outputs": [
    {
     "data": {
      "image/png": "[encoded data removed]",
      "text/plain": [
       "<Figure size 432x288 with 1 Axes>"
      ]
     },
     "metadata": {
      "needs_background": "light"
     },
     "output_type": "display_data"
    },
    {
     "data": {
      "text/plain": [
       "<sklearn.metrics._plot.precision_recall_curve.PrecisionRecallDisplay at 0x28b18026c88>"
      ]
     },
     "execution_count": 27,
     "metadata": {},
     "output_type": "execute_result"
    },
    {
     "data": {
      "image/png": "[encoded data removed]",
      "text/plain": [
       "<Figure size 432x288 with 1 Axes>"
      ]
     },
     "metadata": {
      "needs_background": "light"
     },
     "output_type": "display_data"
    }
   ],
   "source": [
    "decision_function = log_reg_us.decision_function(X_test)\n",
    "\n",
    "# ROC curve\n",
    "log_reg_fpr, log_reg_tpr, log_reg_thresholds = roc_curve(y_test, decision_function)\n",
    "\n",
    "plt.title('courbe ROC')\n",
    "plt.plot(log_reg_fpr, log_reg_tpr, label='Régression logistique')\n",
    "plt.xlabel('taux de faux positifs')\n",
    "plt.ylabel('taux de vrais positifs')\n",
    "plt.legend(loc='best')\n",
    "plt.show()\n",
    "\n",
    "# Precision-Recall curve\n",
    "plot_precision_recall_curve(log_reg_us, X_test, y_test)"
   ]
  },
  {
   "cell_type": "code",
   "execution_count": 28,
   "metadata": {},
   "outputs": [],
   "source": [
    "# thresholds = np.arange(0, 100, 10)/100 # For fraud\n",
    "\n",
    "# predictions_proba = log_reg_us.predict_proba(X_test)[:,-1]\n",
    "\n",
    "# for threshold in thresholds:\n",
    "#     # Prediction\n",
    "#     predictions = (predictions_proba >= threshold).astype(int)\n",
    "    \n",
    "#     # Quality \n",
    "#     confusion_m = confusion_matrix(y_test, predictions)\n",
    "#     tn, fp, fn, tp = confusion_m.ravel()\n",
    "#     print('\\nThreshold=', threshold)\n",
    "#     print('Accuracy=', accuracy_score(y_test, predictions))\n",
    "#     print('true positives\\tfalse positives\\tfalse negatives\\ttrue negatives')\n",
    "#     print('%.0f\\t\\t%.0f\\t\\t%.0f\\t\\t%.0f'% (tn, fp, fn, tp))\n",
    "#     print('Precision=', precision_score(y_test, predictions))\n",
    "#     print('Recall=', recall_score(y_test, predictions))"
   ]
  },
  {
   "cell_type": "markdown",
   "metadata": {},
   "source": [
    "<a id=\"Smote\"></a>\n",
    "## 9 Sur-échantillonnage synthétique"
   ]
  },
  {
   "cell_type": "markdown",
   "metadata": {},
   "source": [
    "### 9.1 SMOTE\n",
    "\n",
    "Smote [\\[2\\]](#smote) est une méthode de sur-échantillonnage. La classe minoritaire est augmentée en ajoutant des exemples synthétiques sur les lignes séparant les exemples de leurs plus proches voisins. Les exemples synthétiques sont générés en prenant la différence entre l'exemple courant et un de ses plus propres voisins. La différence est multipliée par un nombre aléatoire entre 0 et 1 pour finalement être additionnée à l'exemple considéré. Ceci revient à créer un exemple synthétique le long du segment rejoignant l'exemple de son voisin.\n",
    "<img src=\"https://www.researchgate.net/publication/287601878/figure/fig1/AS:316826589384744@1452548753581/The-schematic-of-NRSBoundary-SMOTE-algorithm.png\" alt=\"Smote\" height=\"400\" width=\"400\">\n",
    "[source](https://www.researchgate.net/publication/287601878/figure/fig1/AS:316826589384744@1452548753581/The-schematic-of-NRSBoundary-SMOTE-algorithm.png)\n"
   ]
  },
  {
   "cell_type": "code",
   "execution_count": 29,
   "metadata": {},
   "outputs": [],
   "source": [
    "smote = SMOTE(sampling_strategy='minority', random_state=0)"
   ]
  },
  {
   "cell_type": "code",
   "execution_count": 30,
   "metadata": {},
   "outputs": [
    {
     "name": "stdout",
     "output_type": "stream",
     "text": [
      "\n",
      "Best params {'C': 0.001, 'penalty': 'l2'}\n",
      "recall score: 0.9012787723785166\n",
      "Time: 139.3609766960144\n"
     ]
    }
   ],
   "source": [
    "# Logistic Regression\n",
    "log_reg = LogisticRegression()\n",
    "\n",
    "# Tuning penalty and regularization using cross validation\n",
    "params = {'penalty': ['l2'], 'C': [0.001, 0.01, 0.1, 1, 10, 100, 1000]}\n",
    "log_reg_smote = grid_search_cv_resample(X_train,\n",
    "                                        y_train,\n",
    "                                        log_reg,\n",
    "                                        params,\n",
    "                                        cv=5,\n",
    "                                        resampler=smote,\n",
    "                                        metric='recall',\n",
    "                                        verbose=True)"
   ]
  },
  {
   "cell_type": "code",
   "execution_count": 31,
   "metadata": {},
   "outputs": [
    {
     "name": "stdout",
     "output_type": "stream",
     "text": [
      "\n",
      "Accuracy\t 0.9790383342262163\n",
      "\n",
      "Class\t\t 0\t\t1\n",
      "Precision\t 1.000\t\t0.070\n",
      "Recall\t\t 0.979\t\t0.901\n",
      "f1\t\t 0.989\t\t0.130\n",
      "Support\t\t 39804.000\t68.800\n"
     ]
    }
   ],
   "source": [
    "print_metrics_resample(X_train, y_train, log_reg_smote, cv=5, resampler=smote)"
   ]
  },
  {
   "cell_type": "markdown",
   "metadata": {},
   "source": [
    "### 9.2 ADASYN\n",
    "\n",
    "L'idée d'ADASYN est de générer des exemples synthétiques pour les exemples de la classe minoritaire qui sont plus difficiles à apprendre.\n",
    "\n",
    "ADASYN est programmé formellement de la manière suivante [\\[6\\]](#Adasyn). \n",
    "\n",
    "**Données**\n",
    "\n",
    "Un jeu de données d'entraînement $D_{tr}$ avec $m$ exemples ${\\mathbf{x_i}, y_i}$, $i=1,\\ldots, m$ où $\\mathbf{x_i}$ sont les traits caractéristiques des exemples et $y_i$ sont les classes. Soit aussi $m_s$ et $m_l$ le nombre d'exemple respectivement dans la classe minoritaire et dans la classe majoritaire et soit $d_{th}$ le ratio de débalancement minimum désiré.\n",
    "\n",
    "**Procédure**\n",
    "\n",
    "- Calculer le rapport $d = m_s/m_l$.\n",
    "- Si $d<d_{th}$\n",
    "  - Calculer le nombre d'exemples synthétiques qu'il faut générer pour la classe minoritaire: $ G = (m_l - m_s) \\times \\beta$ où $\\beta \\in [0,1]$ est un paramètre spécifié représentant le niveau d'équilibre des classes désiré après avoir généré les exemples.\n",
    "  - Pour chaque exemple $x_i$ dans la classe minoritaire, trouver les $K$ plus proches voisins et calculer le ratio $r_i = \\Delta_i/K$, $i= 1,\\ldots, m_s$ avec $\\Delta_i$ le nombre de plus proches voisins de $x_i$ qui appartiennent à la classe majoritaire. \n",
    "  - Normaliser $r_i$ avec $r_i^* = r_i/\\sum_{i=1}^{m_s}r_i$ de sorte que $r_i^*$ respecte les axiomes d'une densité de probabilité.\n",
    "  - Calculer le nombre d'exemples qui doivent être générés à partir de chaque exemple de la classe minoritaire $x_i$: $g_i = r_i^* \\times G$.\n",
    "  - Pour chaque exemple $x_i$ de la classe minoritaire, générer $g_i$ synthétiques exemples: Faire de $1$ à $g_i$:\n",
    "    - Choisir aléatoirement un exemple de la classe minoritaire $x_{zi}$ parmi les $K$ plus proches voisins de $x_i$ \n",
    "    - Générerer des exemples synthétiques: $s_i = x_i + (x_{zi} - x_i) \\times \\lambda$ où $\\lambda$ est un nombre aléatoire entre $0$ et $1$.\n",
    "\n",
    "ADASYN est en quelque sorte une variante de SMOTE, mais qui ajoute de la variabilité aux exemples synthétiques."
   ]
  },
  {
   "cell_type": "code",
   "execution_count": 32,
   "metadata": {},
   "outputs": [],
   "source": [
    "adasyn = ADASYN(sampling_strategy='minority', random_state=0, n_neighbors=5, n_jobs=1)"
   ]
  },
  {
   "cell_type": "code",
   "execution_count": 33,
   "metadata": {},
   "outputs": [
    {
     "name": "stdout",
     "output_type": "stream",
     "text": [
      "\n",
      "Best params {'C': 0.001, 'penalty': 'l2'}\n",
      "recall score: 0.9361040068201193\n",
      "Time: 230.0391640663147\n"
     ]
    }
   ],
   "source": [
    "# Logistic Regression\n",
    "log_reg = LogisticRegression()\n",
    "\n",
    "# Tuning penalty and regularization using cross validation\n",
    "params = {'penalty': ['l2'], 'C': [0.001, 0.01, 0.1, 1, 10, 100, 1000]}\n",
    "log_reg_adasyn = grid_search_cv_resample(X_train,\n",
    "                                         y_train,\n",
    "                                         log_reg,\n",
    "                                         params,\n",
    "                                         cv=5,\n",
    "                                         resampler=adasyn,\n",
    "                                         metric='recall',\n",
    "                                         verbose=True)"
   ]
  },
  {
   "cell_type": "code",
   "execution_count": 34,
   "metadata": {
    "scrolled": true
   },
   "outputs": [
    {
     "name": "stdout",
     "output_type": "stream",
     "text": [
      "\n",
      "Accuracy\t 0.918947253738485\n",
      "\n",
      "Class\t\t 0\t\t1\n",
      "Precision\t 1.000\t\t0.020\n",
      "Recall\t\t 0.919\t\t0.936\n",
      "f1\t\t 0.958\t\t0.038\n",
      "Support\t\t 39804.000\t68.800\n"
     ]
    }
   ],
   "source": [
    "print_metrics_resample(X_train, y_train, log_reg_adasyn, cv=5, resampler=adasyn)"
   ]
  },
  {
   "cell_type": "markdown",
   "metadata": {},
   "source": [
    "### 9.3 Évaluation sur les données test (SMOTE)\n",
    "\n",
    "Les résultats sont très similaires à ceux du sous-échantillonnage aléatoire. Le rappel est bon de sorte qu'on sait détecter la majorité des fraudes, mais la précision et le score f1 sont assez bas. \n",
    "\n",
    "La régression logistique avec SMOTE obtient un taux de bonnes classifications remarquable. Sur les données de test, Le rappel de la classe majoritaire s'élève à $98\\%$ et à $91\\%$ pour la classe minoritaire. C'est particulièrement intéressant si on souhaite ne pas bloquer les cartes inutilement."
   ]
  },
  {
   "cell_type": "code",
   "execution_count": 35,
   "metadata": {
    "scrolled": false
   },
   "outputs": [
    {
     "name": "stdout",
     "output_type": "stream",
     "text": [
      "              precision    recall  f1-score   support\n",
      "\n",
      "           0     0.9998    0.9787    0.9892     85295\n",
      "           1     0.0691    0.9122    0.1285       148\n",
      "\n",
      "    accuracy                         0.9786     85443\n",
      "   macro avg     0.5345    0.9454    0.5588     85443\n",
      "weighted avg     0.9982    0.9786    0.9877     85443\n",
      "\n"
     ]
    }
   ],
   "source": [
    "X_train_smote, y_train_smote = smote.fit_resample(X_train, y_train)\n",
    "\n",
    "log_reg_smote.fit(X_train_smote, y_train_smote)\n",
    "\n",
    "predictions = log_reg_smote.predict(X_test)\n",
    "\n",
    "print(classification_report(y_test, predictions, digits=4))"
   ]
  },
  {
   "cell_type": "code",
   "execution_count": 36,
   "metadata": {},
   "outputs": [
    {
     "data": {
      "image/png": "[encoded data removed]",
      "text/plain": [
       "<Figure size 432x288 with 2 Axes>"
      ]
     },
     "metadata": {
      "needs_background": "light"
     },
     "output_type": "display_data"
    }
   ],
   "source": [
    "# Confusion matrix\n",
    "np.set_printoptions(precision=2)\n",
    "\n",
    "disp = plot_confusion_matrix(log_reg_smote,\n",
    "                             X_test,\n",
    "                             y_test,\n",
    "                             display_labels=[\"Normal\", \"Fraude\"],\n",
    "                             values_format='.6g',\n",
    "                             cmap=plt.cm.Reds,\n",
    "                             normalize=None)\n",
    "disp.ax_.set_title('Matrice de confusion régression logistique avec SMOTE')\n",
    "\n",
    "plt.show()"
   ]
  },
  {
   "cell_type": "code",
   "execution_count": 37,
   "metadata": {},
   "outputs": [
    {
     "name": "stdout",
     "output_type": "stream",
     "text": [
      "Roc Auc score 0.945423949947955\n"
     ]
    }
   ],
   "source": [
    "roc_auc_reg_smote = roc_auc_score(y_test, predictions)\n",
    "print('Roc Auc score', roc_auc_reg_smote)"
   ]
  },
  {
   "cell_type": "code",
   "execution_count": 38,
   "metadata": {},
   "outputs": [
    {
     "data": {
      "image/png": "[encoded data removed]",
      "text/plain": [
       "<Figure size 432x288 with 1 Axes>"
      ]
     },
     "metadata": {
      "needs_background": "light"
     },
     "output_type": "display_data"
    },
    {
     "data": {
      "text/plain": [
       "<sklearn.metrics._plot.precision_recall_curve.PrecisionRecallDisplay at 0x28b18c73550>"
      ]
     },
     "execution_count": 38,
     "metadata": {},
     "output_type": "execute_result"
    },
    {
     "data": {
      "image/png": "[encoded data removed]",
      "text/plain": [
       "<Figure size 432x288 with 1 Axes>"
      ]
     },
     "metadata": {
      "needs_background": "light"
     },
     "output_type": "display_data"
    }
   ],
   "source": [
    "decision_function = log_reg_smote.decision_function(X_test)\n",
    "\n",
    "# ROC curve\n",
    "log_reg_fpr, log_reg_tpr, log_reg_thresholds = roc_curve(y_test, decision_function)\n",
    "\n",
    "plt.title('courbe ROC')\n",
    "plt.plot(log_reg_fpr, log_reg_tpr, label='Régression logistique')\n",
    "plt.xlabel('taux de faux positifs')\n",
    "plt.ylabel('taux de vrais positifs')\n",
    "plt.legend(loc='best')\n",
    "plt.show()\n",
    "\n",
    "# Precision-Recall curve\n",
    "plot_precision_recall_curve(log_reg_smote, X_test, y_test)"
   ]
  },
  {
   "cell_type": "markdown",
   "metadata": {},
   "source": [
    "<a id=\"Vae\"></a>\n",
    "## 10 Sur-échantillonnage avec autoencodeur variationnel \n",
    "\n",
    "\n",
    "### 10.1 Théorie\n",
    "\n",
    "Un auto-encodeur est un réseau de neurones entraîné pour reproduire ses entrées. Il composé de deux parties: un encodeur et un décodeur. L'encodeur est généralement un réseau de neurones dont le nombre de neurones des couches internes diminu proportionnellement à la profondeur du réseau jusqu'à une couche cachée **h** plus fine utilisée pour encoder une représentation condensée latente des entrées. Souvent symétrique à l'encodeur, le décodeur produit une reconstruction des entrées à partir de leurs représentations latentes. Le but principal est que l'encodage **h** capture les propriétés caractérisant la donnée d'entrée.\n",
    "\n",
    "L'autoencodeur variationnel (VAE)[\\[7\\]](#Kingma) est une variante de l'autoencodeur utilisé pour générer des données. Le VAE contient deux composantes: le réseau d'inférence approchée $q(z|x)$ (l'encodeur) et le réseau génératif $p_{modèle}(x|z)$ (le décodeur) étant donné $p(z)$. Puisque ces deux composantes sont implémentées par des réseaux de neurones, ces distributions ne peuvent être qu'approximée, c'est pourquoi on dit que le VAE utilise l'inférence approchée apprise. En particulier l'inférence variatonnelle est utile lorsque l'évaluation de l'intégrale pour trouver l'évidence $p(x)$ en marginalisant $p(x,z)$ n'est pas analytique ou requiert un temps exponentiel.\n",
    "\n",
    "$$\n",
    "p(x) = \\int{p(x,z)dz} = \\int{p(x|z)p(z)dz}\n",
    "$$\n",
    "\n",
    "L'inférence variationnelle est utilisée pour approximer la vraie distribution $p(z|x)$ à partir d'une densité modélisée $q(z)$ sur les variables latentes. On utilise la divergence Kullback–Leibler $KL$ pour trouver une densité suffisamment proche de la vraie distribution conditionnelle:\n",
    "\n",
    "$$\n",
    "q^*(z) = argmin_{q(z)} KL( q(z) | p(z|x))\n",
    "$$\n",
    "\n",
    "où \n",
    "\n",
    "\\begin{align*}\n",
    "KL( q(z) | p(z|x)) &= \\mathbb{E}_{q(z)}(ln\\frac{q(z)}{p(z|x)}) \\\\\n",
    "&= \\mathbb{E}_{q(z)}(ln(q(z))) - \\mathbb{E}_{q(z)}(ln(p(z,x))) + ln(p(x)), \\\\\n",
    "\\end{align*}\n",
    "\n",
    "mais ce problème d'optimisation requiert le calcul de l'évidence $ln(p(x))$ qu'on a supposée difficile à calculer. Avec un peu de gymnastique on peut réarranger les termes pour dériver une borne inférieure pour la vraissemblance marginale $p(x)$:\n",
    "\n",
    "\\begin{align*}\n",
    "ln(p(x)) &= KL( q(z) | p(z|x)) + \\mathbb{E}_{q(z)}(ln(p(z,x))) - \\mathbb{E}_{q(z)}(ln(q(z)))\\\\\n",
    "&\\geq \\mathbb{E}_{q(z)}(ln(p(z,x))) - \\mathbb{E}_{q(z)}(ln(q(z))) \\\\\n",
    "&= \\mathbb{E}_{q(z)}(ln(p(x|z))) + \\mathbb{E}_{q(z)}(ln(p(z))) - \\mathbb{E}_{q(z)}(ln(q(z))) \\\\\n",
    "&= \\mathbb{E}_{q(z)}(ln(p(x|z))) - \\mathbb{E}_{q(z)}(ln(\\frac{q(z)}{p(z)})) \\\\\n",
    "&= \\mathbb{E}_{q(z)}(ln(p(x|z))) - KL( q(z) | p(z) ).\n",
    "\\end{align*}\n",
    "\n",
    "Le dernier membre de droite\n",
    "\n",
    "$$\n",
    "\\mathbb{E}_{q(z)}(ln(p(x|z))) - KL( q(z) | p(z) ) = \\mathbb{E}_{q(z)}(ln(p(z,x))) - \\mathbb{E}_{q(z)}(ln(q(z))) = \\mathbb{E}_{q(z)}(ln(\\frac{p(z,x)}{q(z)}))\n",
    "$$\n",
    "\n",
    "est appelé la borne inférieure de l'évidence (ELBO) et son opposé est le problème de minimisation original de la divergence $KL$ plus $ln(p(x))$ qui est une constante relativement à $q(z)$. Par conséquent, le problème de minimisation original peut-être remplacé par le problème alternatif de maximisation de ELBO. \n",
    "\n",
    "Comme on voudrait pouvoir reconstruire une entrée $x$ à partir de son encodage latent correspondant $y$, il est raisonable de poser que la distribution du modèle $q(z)$ dépend explicitement de l'entrée $x$.\n",
    "\n",
    "$$\n",
    "q(z) := q(z|x)\n",
    "$$\n",
    "\n",
    "Dès lors, le problème de maximisation ELBO coïncide avec l'architecture de l'autoencodeur variationel. En pratique, on optimise l'estimation de\n",
    "\n",
    "$$\n",
    "ln(p(x|z)) + ln(p(z)) - ln(p(z|x)).\n",
    "$$\n",
    "\n",
    "Dans le cas d'autoencodeurs variationnels gaussiens, les distributions $q(z|x)$ et $p(z)$ sont supposées normales.\n",
    "\n",
    "$$\n",
    "q(z|x) \\sim \\mathcal{N}(\\mu (x), \\sigma^2(x))\\\\\n",
    "p(z) \\sim \\mathcal{N}(0,1)\n",
    "$$\n",
    "\n",
    "Le vecteur $\\mu(x)$ et la matrice diagonale $\\sigma^2(x)$ de dimensions de l'espace latents sont prédits par le réseaux de neurones d'inférence. Pour évaluer ELBO, on peut utiliser le truc de reparamétrisation [\\[7\\]](#Kingma). La variable latente aléatoire $z \\sim q(z|x)$ peut-être reparamétrée en une variable déterministe \n",
    "\n",
    "$$\n",
    "z = g(\\epsilon, x) = \\mu(x) + \\epsilon\\sigma^2(x)\n",
    "$$ \n",
    "\n",
    "avec $\\epsilon$ une variable de bruit auxiliaire tirée d'une gaussienne centrée réduite.\n",
    "\n",
    "Finalement, la fonction de coût associée à notre problème d'optimisation pour entraîner le réseau s'exprime comme\n",
    "\n",
    "$$\n",
    "\\mathcal{L} =  KL( q(z|x) | p(z) ) - \\frac{1}{N}\\sum_1^Nln(p(y|m))\n",
    "$$\n",
    "\n",
    "\n",
    "### 10.2 Implémentation\n",
    "\n",
    "L'implémentation ci-bas est inspirée par un exemple fourni sur TensorFlow [\\[3\\]](#tfVAE) et par l'exemple dans un article Medium [\\[8\\]](#mediumVAE).\n",
    "\n",
    "La distribution $p(z)$ (prior) est une normale centrée réduite de la dimension de l'espace latent. Elle est implémentée avec `MultivariateNormalDiag`. Le vecteur de moyennes nulles est fourni au paramètre `loc` et la matrice de covariances est l'identité (les normales sont indépendantes).\n",
    "\n",
    "L'encodeur est un réseaux de neurones dont le nombre de neurones diminue à chaque couche. On utilise `MultivariateNormalTriL.params_size` pour indiquer les dimensions de la dernière couche régulière complètement connectée du réseau. La dernière couche du réseaux est une couche `MultivariateNormalTril` qui paramétrise le vecteur de moyennes et la matrice triangulaire inférieure de covariances de $q(z|x)$. À cette étape, on ajoute la divergence $KL( q(z|x) | p(z) )$ au calcul de la fonction coût avec `KLDivergenceRegularizer`.\n",
    "\n",
    "Le décodeur est aussi un réseaux de neurones complètement connecté mais sa dernière couche utilise `IndependentNormal` pour générer la sortie. \n",
    "\n",
    "Pour la fonction coût, on doit seulement calculer l'erreur de reconstruction parce que le terme de la divergence KL est spécifié dans l'encodeur. On calcul la log-vraissemblance négative de l'entrée étant donné la sortie."
   ]
  },
  {
   "cell_type": "code",
   "execution_count": 39,
   "metadata": {},
   "outputs": [
    {
     "name": "stdout",
     "output_type": "stream",
     "text": [
      "WARNING:tensorflow:From C:\\Users\\pasca\\Anaconda3\\lib\\site-packages\\tensorflow_core\\python\\ops\\linalg\\linear_operator_lower_triangular.py:158: calling LinearOperator.__init__ (from tensorflow.python.ops.linalg.linear_operator) with graph_parents is deprecated and will be removed in a future version.\n",
      "Instructions for updating:\n",
      "Do not pass `graph_parents`.  They will  no longer be used.\n",
      "Model: \"Variational_Autoencoder\"\n",
      "_________________________________________________________________\n",
      "Layer (type)                 Output Shape              Param #   \n",
      "=================================================================\n",
      "encoder_input (InputLayer)   [(None, 30)]              0         \n",
      "_________________________________________________________________\n",
      "dense (Dense)                (None, 20)                620       \n",
      "_________________________________________________________________\n",
      "dense_1 (Dense)              (None, 10)                210       \n",
      "_________________________________________________________________\n",
      "dense_2 (Dense)              (None, 5)                 55        \n",
      "_________________________________________________________________\n",
      "dense_3 (Dense)              (None, 5)                 30        \n",
      "_________________________________________________________________\n",
      "multivariate_normal_tri_l (M ((None, 2), (None, 2))    0         \n",
      "_________________________________________________________________\n",
      "Decoder (Sequential)         (None, 30)                1555      \n",
      "=================================================================\n",
      "Total params: 2,470\n",
      "Trainable params: 2,470\n",
      "Non-trainable params: 0\n",
      "_________________________________________________________________\n"
     ]
    }
   ],
   "source": [
    "# Reproductibility\n",
    "np.random.seed(0)\n",
    "tf.random.set_seed(0)\n",
    "\n",
    "# Settings\n",
    "original_dim = X_train.shape[1]\n",
    "input_shape = X_train[0].shape\n",
    "encoded_size = 2\n",
    "\n",
    "# Prior \n",
    "prior = tfpd.MultivariateNormalDiag(\n",
    "        loc=tf.zeros([encoded_size]), # Mu vector\n",
    "        scale_identity_multiplier=1.0) # Scale \n",
    "\n",
    "# Regularizer that adds a KL divergence penalty to the model loss.\n",
    "# Encourage marginal coherence with a unit-MVN (the \"prior\")\n",
    "kl_divergence = tfpl.KLDivergenceRegularizer(prior)\n",
    "\n",
    "# Loss - Negative Log-likelihood\n",
    "neg_log_likelihood = lambda original_input, model_output: -model_output.log_prob(original_input)\n",
    "\n",
    "# Encoder\n",
    "inference_net = tfk.Sequential([\n",
    "    tfkl.InputLayer(input_shape=input_shape, name='encoder_input'),\n",
    "    tfkl.Dense(20, activation='relu'),\n",
    "    tfkl.Dense(10, activation='relu'),\n",
    "    tfkl.Dense(5, activation='relu'),\n",
    "    # full-covariance Gaussian distribution, \n",
    "    # with its mean and covariance matrices parameterized by the output of a neural network.\n",
    "    tfkl.Dense(tfpl.MultivariateNormalTriL.params_size(encoded_size), activation=None),\n",
    "    # precedent output has a shape: encoded_size + encoded_size * (encoded_size + 1) // 2\n",
    "    tfpl.MultivariateNormalTriL(  # Latent space\n",
    "    encoded_size,\n",
    "    activity_regularizer=kl_divergence)\n",
    "], name='Encoder')\n",
    "\n",
    "# Decoder\n",
    "generative_net = tfk.Sequential([\n",
    "    tfkl.InputLayer(input_shape=encoded_size, name='decoder_input'),\n",
    "    tfkl.Dense(5, activation='relu'),\n",
    "    tfkl.Dense(10, activation='relu'),\n",
    "    tfkl.Dense(20, activation='relu'),\n",
    "    tfkl.Dense(tfpl.IndependentNormal.params_size(original_dim), activation=None),\n",
    "    tfpl.IndependentNormal(original_dim),\n",
    "], name='Decoder')\n",
    "\n",
    "# Variational auto-encoder\n",
    "vae = tfk.Model(inputs=inference_net.inputs,\n",
    "                outputs=generative_net(inference_net.outputs[0]),\n",
    "                name='Variational_Autoencoder')\n",
    "\n",
    "# Optimizer\n",
    "optimizer = tf.keras.optimizers.Nadam(learning_rate=0.002, beta_1=0.9, beta_2=0.999)\n",
    "vae.compile(optimizer=optimizer, loss=neg_log_likelihood)\n",
    "\n",
    "vae.summary()"
   ]
  },
  {
   "cell_type": "markdown",
   "metadata": {},
   "source": [
    "\n",
    "\n",
    "<img src=\"model.PNG\" alt=\"model\" style=\"width:400px;height:500px;\">\n"
   ]
  },
  {
   "cell_type": "markdown",
   "metadata": {},
   "source": [
    "On veut que le réseau apprenne la distribution des transactions frauduleuses. C'est pourquoi on l'entraîne exclusivement sur des fraudes. \n",
    "\n",
    "La méthode `from_tensor_slices` découpe les tenseurs en argument selon leur première dimension. Cette opération paire un exemple avec lui même pour calculer l'erreur de reconstruction dans la fonction perte du réseau. "
   ]
  },
  {
   "cell_type": "code",
   "execution_count": 40,
   "metadata": {},
   "outputs": [],
   "source": [
    "# Training settings\n",
    "BATCH_SIZE = 32\n",
    "MAX_EPOCHS = 1000 # for early stopping\n",
    "\n",
    "# Train - Val split for VAE\n",
    "X_train_vae, X_val_vae, y_train_vae, y_val_vae = train_test_split(X_train,\n",
    "                                                                  y_train,\n",
    "                                                                  test_size=0.3,\n",
    "                                                                  random_state=0,\n",
    "                                                                  stratify=y_train)\n",
    "\n",
    "# Training on fraud instances\n",
    "X_fraud_train = X_train_vae[y_train_vae == 1]\n",
    "X_fraud_val = X_val_vae[y_val_vae == 1]\n",
    "\n",
    "tf_train = tf.data.Dataset.from_tensor_slices((X_fraud_train, X_fraud_train)).batch(BATCH_SIZE).prefetch(tf.data.experimental.AUTOTUNE).shuffle(int(10e4))\n",
    "tf_val = tf.data.Dataset.from_tensor_slices((X_fraud_val, X_fraud_val)).batch(BATCH_SIZE).prefetch(tf.data.experimental.AUTOTUNE).shuffle(int(10e4))"
   ]
  },
  {
   "cell_type": "markdown",
   "metadata": {},
   "source": [
    "Le défi est d'apprendre la distribution des fraudes, mais en disposant seulement de très peu de données. L'ensemble d'entraînement a une grande variabilité et le modèle risque de sur-ajuster les données d'entraînement. \n",
    "\n",
    "L'arrêt précoce (early stopping) est une forme de régularisation qu'on peut utiliser pour éviter le sur-apprentissage. \n",
    "Cette technique consiste à cesser l'entraînement du modèle lorsque que le coût relatif à l'ensemble de validation n'a pas diminué significativement pour quelques époques, et ce, même si le coût relatif à l'entraînement continu de diminuer. \n",
    "\n",
    "<img src=\"early stopping.PNG\" alt=\"early stopping\" style=\"width:500px;height:350px;\">\n",
    "\n",
    "[Source](#neural)\n",
    "\n",
    "Le nombre d'époques est le nombre de passes de l'algorithme d'optimisation dans l'ensemble d'entraînement. Cette quantité peut-être vue comme un hyperparamètre qui contrôle l'expressivité du modèle. C'est pourquoi l'arrêt précoce a pour effet de ne pas coller trop aux données d'entraînement. Il donne une idée du nombre d'itérations qui peuvent être faites avant de commencer à sur-apprendre."
   ]
  },
  {
   "cell_type": "code",
   "execution_count": 41,
   "metadata": {},
   "outputs": [
    {
     "data": {
      "image/png": "[encoded data removed]",
      "text/plain": [
       "<Figure size 432x288 with 1 Axes>"
      ]
     },
     "metadata": {
      "needs_background": "light"
     },
     "output_type": "display_data"
    }
   ],
   "source": [
    "# Stop training when a monitored quantity (here validation loss) has stopped improving.\n",
    "earlystopper = EarlyStopping(monitor='val_loss',\n",
    "                             mode='min',\n",
    "                             min_delta=0.005,\n",
    "                             patience=20, # Training stops when val_loss fails to decrease for 20 consecutive epochs\n",
    "                             verbose=0,\n",
    "                             restore_best_weights=True)\n",
    "\n",
    "# Training\n",
    "hist = vae.fit(tf_train,\n",
    "               epochs=MAX_EPOCHS,\n",
    "               shuffle=True,\n",
    "               verbose=0,\n",
    "               validation_data=tf_val,\n",
    "               callbacks=[earlystopper])\n",
    "\n",
    "# Plot training history\n",
    "plt.plot(hist.history['loss'])\n",
    "plt.plot(hist.history['val_loss'])\n",
    "plt.title('Loss')\n",
    "plt.ylabel('loss')\n",
    "plt.xlabel('epoch')\n",
    "plt.legend(['train', 'val'], loc='best')\n",
    "plt.yscale('log',basey=10)\n",
    "plt.show()"
   ]
  },
  {
   "cell_type": "markdown",
   "metadata": {},
   "source": [
    "Comme la dimension d'encodage choisie est 2, on peut visualiser les moyennes et les écarts-types modélisés par le réseau d'inférence $q(z|x)$. En regardant les graphiques, on voit que le réseau d'inférence semble distinguer les fraudes des transactions normales."
   ]
  },
  {
   "cell_type": "code",
   "execution_count": 42,
   "metadata": {},
   "outputs": [
    {
     "name": "stdout",
     "output_type": "stream",
     "text": [
      "WARNING:tensorflow:Layer dense is casting an input tensor from dtype float64 to the layer's dtype of float32, which is new behavior in TensorFlow 2.  The layer has dtype float32 because it's dtype defaults to floatx.\n",
      "\n",
      "If you intended to run this layer in float32, you can safely ignore this warning. If in doubt, this warning is likely only an issue if you are porting a TensorFlow 1.X model to TensorFlow 2.\n",
      "\n",
      "To change all layers to have dtype float64 by default, call `tf.keras.backend.set_floatx('float64')`. To change just this layer, pass dtype='float64' to the layer constructor. If you are the author of this layer, you can disable autocasting by passing autocast=False to the base Layer constructor.\n",
      "\n"
     ]
    },
    {
     "data": {
      "image/png": "[encoded data removed]",
      "text/plain": [
       "<Figure size 720x360 with 2 Axes>"
      ]
     },
     "metadata": {
      "needs_background": "light"
     },
     "output_type": "display_data"
    }
   ],
   "source": [
    "X_frauds = X_val_vae[y_val_vae == 1]\n",
    "n_frauds = X_frauds.shape[0]\n",
    "X_non_frauds = X_val_vae[y_val_vae == 0][:n_frauds]\n",
    "q = inference_net(np.concatenate([X_frauds, X_non_frauds]))\n",
    "\n",
    "plt.figure(figsize=(10, 5))\n",
    "\n",
    "# mean\n",
    "plt.subplot(121)\n",
    "latent_mean = q.mean()\n",
    "plt.scatter(latent_mean[:n_frauds, 0], latent_mean[:n_frauds, 1], c='r', marker='x', label='Fraud')\n",
    "plt.scatter(latent_mean[n_frauds:, 0], latent_mean[n_frauds:, 1], c='b', marker='o', label='Normal transaction')\n",
    "plt.legend(loc='best')\n",
    "plt.title('latent means')\n",
    "\n",
    "# std\n",
    "plt.subplot(122)\n",
    "latent_mean = q.stddev()\n",
    "plt.scatter(latent_mean[:n_frauds, 0], latent_mean[:n_frauds, 1], c='r', marker='x', label='Fraud')\n",
    "plt.scatter(latent_mean[n_frauds:, 0], latent_mean[n_frauds:, 1], c='b', marker='o', label='Normal transaction')\n",
    "plt.legend(loc='best')\n",
    "plt.title('latent standard deviation')\n",
    "\n",
    "plt.show()"
   ]
  },
  {
   "cell_type": "markdown",
   "metadata": {},
   "source": [
    "Pour générer de nouveaux cas de fraudes, on doit fournir un vecteur aléatoire au model génératif. Comme on a supposé que $p(z)$ est de distribution normale centrée réduite, ce vecteur aléatoire doit ête échantillonné selon cette distribution. "
   ]
  },
  {
   "cell_type": "code",
   "execution_count": 43,
   "metadata": {},
   "outputs": [],
   "source": [
    "# Generates new examples\n",
    "def sample(generator, encoded_size, n_samples):\n",
    "    z = tf.random.normal(shape=(n_samples, encoded_size))\n",
    "    return generator.predict(z)"
   ]
  },
  {
   "cell_type": "markdown",
   "metadata": {},
   "source": [
    "Ci-dessous une visualisation des données originales et des données synthétiques créées par le réseau génératif de l'autoencodeur variationnel. La méthode de réduction de dimensionalité T-sne projette les 30 traits caractéristiques d'une transaction sur 2 composantes pour rendre la visualisation possible.\n",
    "\n",
    "On remarque que les fraudes et les transactions synthétiques générées par le réseau génératif sont dans un même groupement, ce qui suggère que l'autoencodeur variationnel a appris la distribution des fraudes."
   ]
  },
  {
   "cell_type": "code",
   "execution_count": 44,
   "metadata": {},
   "outputs": [
    {
     "data": {
      "image/png": "[encoded data removed]",
      "text/plain": [
       "<Figure size 1296x360 with 2 Axes>"
      ]
     },
     "metadata": {
      "needs_background": "light"
     },
     "output_type": "display_data"
    }
   ],
   "source": [
    "plt.figure(figsize=(18, 5))\n",
    "\n",
    "# Original data \n",
    "plt.subplot(121)\n",
    "\n",
    "X, y = X_train, y_train\n",
    "X_train_fraud= X[y == 1]\n",
    "y_train_fraud = y[y == 1]\n",
    "n_fraud = X_train_fraud.shape[0]\n",
    "X_train_non_fraud = X[y == 0][: n_fraud]\n",
    "y_train_non_fraud = y[y == 0][: n_fraud]\n",
    "X_to_plot = np.concatenate([X_train_fraud, X_train_non_fraud])\n",
    "y_to_plot = np.concatenate([y_train_fraud, y_train_non_fraud])\n",
    "\n",
    "tsne = TSNE(n_components=2, random_state=0)\n",
    "X_tsne = tsne.fit_transform(X_to_plot)\n",
    "\n",
    "plt.scatter(X_tsne[y_to_plot == 0, 0],\n",
    "            X_tsne[y_to_plot == 0, 1],\n",
    "            marker='o',\n",
    "            color='b',\n",
    "            label='Normal transaction')\n",
    "plt.scatter(X_tsne[y_to_plot == 1, 0],\n",
    "            X_tsne[y_to_plot == 1, 1],\n",
    "            marker='x',\n",
    "            color='r',\n",
    "            label='Fraud')\n",
    "plt.title('Groupements pour les données originales avec T-sne')\n",
    "plt.legend(loc='best')\n",
    "plt.axis(False)\n",
    "\n",
    "# Synthetic data\n",
    "plt.subplot(122)\n",
    "\n",
    "original_frauds = X_train[y_train == 1]\n",
    "n_frauds = original_frauds.shape[0]\n",
    "synth_frauds = sample(generative_net, 2, n_frauds)\n",
    "non_frauds = X_train[y_train == 0][: 2*n_frauds]\n",
    "X_to_plot = np.concatenate([original_frauds, synth_frauds, non_frauds])\n",
    "\n",
    "tsne = TSNE(n_components=2, random_state=0)\n",
    "X_tsne = tsne.fit_transform(X_to_plot)\n",
    "\n",
    "plt.scatter(X_tsne[:n_frauds, 0], X_tsne[:n_frauds, 1], marker='x', color='r', label='Fraud')\n",
    "plt.scatter(X_tsne[n_frauds:2*n_frauds, 0], X_tsne[n_frauds:2*n_frauds, 1], marker='x', color='y', label='Synthetic fraud')\n",
    "plt.scatter(X_tsne[2*n_frauds:, 0], X_tsne[2*n_frauds:, 1], marker='o', color='b', label='Normal transaction')\n",
    "plt.title('Groupements avec les données synthétiques')\n",
    "plt.legend(loc='best')\n",
    "plt.axis(False)\n",
    "\n",
    "plt.show()"
   ]
  },
  {
   "cell_type": "markdown",
   "metadata": {},
   "source": [
    "### 10.3 Régression logistique\n",
    "\n",
    "Ci-bas la performance de la régression logistique entraînée avec les exemples synthétiques. À la différence des méthodes précédentes, cette méthode de sur-échantillonnage permet d'avoir une meilleure précision. En effet, bien que le rappel est un peu inférieur pour la classe de fraudes, le score f1 est nettement supérieur. Les performance relatives à la classe de transactions normales sont excellentes, de sorte que cette méthode est favorable si on souhaite ne pas déranger des clients inutilement."
   ]
  },
  {
   "cell_type": "code",
   "execution_count": 45,
   "metadata": {},
   "outputs": [],
   "source": [
    "n_samples = X_train[y_train == 0].shape[0] - X_train[y_train == 1].shape[0]\n",
    "X_synthetic_frauds = sample(generative_net, 2, n_samples)\n",
    "y_synthetic_frauds = np.ones(n_samples)\n",
    "\n",
    "X_train_vae = np.concatenate([X_train, X_synthetic_frauds])\n",
    "y_train_vae = np.concatenate([y_train, y_synthetic_frauds])"
   ]
  },
  {
   "cell_type": "code",
   "execution_count": 46,
   "metadata": {},
   "outputs": [
    {
     "name": "stdout",
     "output_type": "stream",
     "text": [
      "Fitting 5 folds for each of 14 candidates, totalling 70 fits\n"
     ]
    },
    {
     "name": "stderr",
     "output_type": "stream",
     "text": [
      "[Parallel(n_jobs=1)]: Using backend SequentialBackend with 1 concurrent workers.\n",
      "[Parallel(n_jobs=1)]: Done  70 out of  70 | elapsed:  1.1min finished\n"
     ]
    },
    {
     "name": "stdout",
     "output_type": "stream",
     "text": [
      "Meilleurs paramètres: {'C': 10, 'penalty': 'l2'}\n",
      "Meilleur résultat (moyenne des résultats de validation croisée): 0.9976962114360365\n"
     ]
    }
   ],
   "source": [
    "log_reg = LogisticRegression()\n",
    "\n",
    "# Tuning penalty and regularization using cross validation (5 folds)\n",
    "params = {'penalty': ['l1', 'l2'], 'C': [0.001, 0.01, 0.1, 1, 10, 100, 1000]}\n",
    "# Using accuracy as since the validation set is balanced\n",
    "log_reg = GridSearchCV(log_reg, params, scoring='accuracy', cv=5, verbose=1) \n",
    "log_reg.fit(X_train_vae, y_train_vae)\n",
    "print('Meilleurs paramètres:', log_reg.best_params_)\n",
    "print('Meilleur résultat (moyenne des résultats de validation croisée):', log_reg.best_score_)\n",
    "log_reg_vae = log_reg.best_estimator_"
   ]
  },
  {
   "cell_type": "code",
   "execution_count": 47,
   "metadata": {},
   "outputs": [
    {
     "data": {
      "text/plain": [
       "LogisticRegression(C=10, class_weight=None, dual=False, fit_intercept=True,\n",
       "                   intercept_scaling=1, l1_ratio=None, max_iter=100,\n",
       "                   multi_class='auto', n_jobs=None, penalty='l2',\n",
       "                   random_state=None, solver='lbfgs', tol=0.0001, verbose=0,\n",
       "                   warm_start=False)"
      ]
     },
     "execution_count": 47,
     "metadata": {},
     "output_type": "execute_result"
    }
   ],
   "source": [
    "log_reg_vae.fit(X_train_vae, y_train_vae)"
   ]
  },
  {
   "cell_type": "code",
   "execution_count": 48,
   "metadata": {},
   "outputs": [
    {
     "name": "stdout",
     "output_type": "stream",
     "text": [
      "              precision    recall  f1-score   support\n",
      "\n",
      "           0      1.000     0.999     1.000     85295\n",
      "           1      0.710     0.811     0.757       148\n",
      "\n",
      "    accuracy                          0.999     85443\n",
      "   macro avg      0.855     0.905     0.878     85443\n",
      "weighted avg      0.999     0.999     0.999     85443\n",
      "\n"
     ]
    }
   ],
   "source": [
    "# Evaluation on test set\n",
    "pred = log_reg_vae.predict(X_test)\n",
    "print(classification_report(y_test, pred, digits=3))"
   ]
  },
  {
   "cell_type": "code",
   "execution_count": 49,
   "metadata": {},
   "outputs": [
    {
     "name": "stdout",
     "output_type": "stream",
     "text": [
      "0.9051181669975269\n"
     ]
    }
   ],
   "source": [
    "print(roc_auc_score(y_test, pred))"
   ]
  },
  {
   "cell_type": "markdown",
   "metadata": {},
   "source": [
    "## 11 Détection d'anomalies VAE\n",
    "\n",
    "Les auto-encodeurs peuvent être utilisés pour établir directement une classification dans le cadre d'un apprentissage non-supervisé (sans classe).\n",
    "\n",
    "Si un auto-encodeur s'entraîne seulement sur les transactions normales, alors il va apprendre à les reproduire. De là on s'attend à ce qu'il éprouve des difficultés à reproduire fidèlement les cas de fraudes puisque ses poids ont été appris en fonction des transactions normales. Pour cette raison, le coût de reconstruction devrait être élevé pour les fraudes de sorte qu'on peut classifier les transactions en fonction d'un seuil critique du coût de reconstruction. "
   ]
  },
  {
   "cell_type": "code",
   "execution_count": 50,
   "metadata": {},
   "outputs": [
    {
     "name": "stdout",
     "output_type": "stream",
     "text": [
      "Model: \"Variational_Autoencoder\"\n",
      "_________________________________________________________________\n",
      "Layer (type)                 Output Shape              Param #   \n",
      "=================================================================\n",
      "encoder_input (InputLayer)   [(None, 30)]              0         \n",
      "_________________________________________________________________\n",
      "dense_8 (Dense)              (None, 20)                620       \n",
      "_________________________________________________________________\n",
      "dense_9 (Dense)              (None, 10)                210       \n",
      "_________________________________________________________________\n",
      "dense_10 (Dense)             (None, 5)                 55        \n",
      "_________________________________________________________________\n",
      "dense_11 (Dense)             (None, 5)                 30        \n",
      "_________________________________________________________________\n",
      "multivariate_normal_tri_l_1  ((None, 2), (None, 2))    0         \n",
      "_________________________________________________________________\n",
      "Decoder (Sequential)         (None, 30)                1555      \n",
      "=================================================================\n",
      "Total params: 2,470\n",
      "Trainable params: 2,470\n",
      "Non-trainable params: 0\n",
      "_________________________________________________________________\n"
     ]
    }
   ],
   "source": [
    "# Reproductibility\n",
    "np.random.seed(0)\n",
    "tf.random.set_seed(0)\n",
    "\n",
    "# Settings\n",
    "original_dim = X_train.shape[1]\n",
    "input_shape = X_train[0].shape\n",
    "encoded_size = 2\n",
    "\n",
    "# Prior \n",
    "prior = tfpd.MultivariateNormalDiag(\n",
    "        loc=tf.zeros([encoded_size]), # Mu vector\n",
    "        scale_identity_multiplier=1.0) # Scale \n",
    "\n",
    "# Regularizer that adds a KL divergence penalty to the model loss.\n",
    "# Encourage marginal coherence with a unit-MVN (the \"prior\")\n",
    "kl_divergence = tfpl.KLDivergenceRegularizer(prior)\n",
    "\n",
    "# Loss - Negative Log-likelihood\n",
    "neg_log_likelihood = lambda original_input, model_output: -model_output.log_prob(original_input)\n",
    "\n",
    "# Encoder\n",
    "inference_net = tfk.Sequential([\n",
    "    tfkl.InputLayer(input_shape=input_shape, name='encoder_input'),\n",
    "    tfkl.Dense(20, activation='relu'),\n",
    "    tfkl.Dense(10, activation='relu'),\n",
    "    tfkl.Dense(5, activation='relu'),\n",
    "    # full-covariance Gaussian distribution, \n",
    "    # with its mean and covariance matrices parameterized by the output of a neural network.\n",
    "    tfkl.Dense(tfpl.MultivariateNormalTriL.params_size(encoded_size), activation=None),\n",
    "    tfpl.MultivariateNormalTriL(  # Latent space\n",
    "    encoded_size,\n",
    "    activity_regularizer=kl_divergence)\n",
    "], name='Encoder')\n",
    "\n",
    "# Decoder\n",
    "generative_net = tfk.Sequential([\n",
    "    tfkl.InputLayer(input_shape=encoded_size, name='decoder_input'),\n",
    "    tfkl.Dense(5, activation='relu'),\n",
    "    tfkl.Dense(10, activation='relu'),\n",
    "    tfkl.Dense(20, activation='relu'),\n",
    "    tfkl.Dense(tfpl.IndependentNormal.params_size(original_dim), activation=None),\n",
    "    tfpl.IndependentNormal(original_dim),\n",
    "], name='Decoder')\n",
    "\n",
    "# Variational auto-encoder\n",
    "vae = tfk.Model(inputs=inference_net.inputs,\n",
    "                outputs=generative_net(inference_net.outputs[0]),\n",
    "                name='Variational_Autoencoder')\n",
    "\n",
    "# Optimizer\n",
    "optimizer = tf.keras.optimizers.Nadam(learning_rate=0.002, beta_1=0.9, beta_2=0.999)\n",
    "vae.compile(optimizer=optimizer, loss=neg_log_likelihood)\n",
    "\n",
    "vae.summary()"
   ]
  },
  {
   "cell_type": "code",
   "execution_count": 51,
   "metadata": {},
   "outputs": [
    {
     "name": "stdout",
     "output_type": "stream",
     "text": [
      "(139314, 30) (59706, 30)\n"
     ]
    }
   ],
   "source": [
    "# Train - val - split \n",
    "X_train_fraud, X_train_norm = X_train[y_train == 1], X_train[y_train == 0]\n",
    "\n",
    "X_train_vae, X_val_vae = train_test_split(X_train_norm, test_size=0.3, shuffle=False)\n",
    "\n",
    "# We can add the remaining frauds to the test set \n",
    "# Todo\n",
    "\n",
    "print(X_train_vae.shape, X_val_vae.shape)"
   ]
  },
  {
   "cell_type": "code",
   "execution_count": 52,
   "metadata": {},
   "outputs": [],
   "source": [
    "batch_size = 128\n",
    "max_epochs = 1000\n",
    "tf_train = tf.data.Dataset.from_tensor_slices((X_train_vae, X_train_vae)).batch(batch_size).prefetch(tf.data.experimental.AUTOTUNE).shuffle(int(10e4))\n",
    "tf_val = tf.data.Dataset.from_tensor_slices((X_val_vae, X_val_vae)).batch(batch_size).prefetch(tf.data.experimental.AUTOTUNE).shuffle(int(10e4))"
   ]
  },
  {
   "cell_type": "code",
   "execution_count": 53,
   "metadata": {},
   "outputs": [
    {
     "data": {
      "image/png": "[encoded data removed]",
      "text/plain": [
       "<Figure size 432x288 with 1 Axes>"
      ]
     },
     "metadata": {
      "needs_background": "light"
     },
     "output_type": "display_data"
    }
   ],
   "source": [
    "# Training\n",
    "earlystopper = EarlyStopping(monitor='val_loss',\n",
    "                             mode='min',\n",
    "                             min_delta=0.005,\n",
    "                             patience=20,\n",
    "                             verbose=0,\n",
    "                             restore_best_weights=True)\n",
    "\n",
    "hist = vae.fit(tf_train,\n",
    "               epochs=max_epochs,\n",
    "               shuffle=True,\n",
    "               verbose=0,\n",
    "               validation_data=tf_val,\n",
    "               callbacks=[earlystopper])\n",
    "\n",
    "plt.plot(hist.history['loss'])\n",
    "plt.plot(hist.history['val_loss'])\n",
    "plt.title('Loss')\n",
    "plt.ylabel('loss')\n",
    "plt.xlabel('epoch')\n",
    "plt.legend(['train', 'val'], loc='best')\n",
    "plt.yscale('log',basey=10)\n",
    "plt.show()"
   ]
  },
  {
   "cell_type": "markdown",
   "metadata": {},
   "source": [
    "Comme mentionné précédemment, pour pouvoir classifier, il faut définir une métrique pour quantifier l'erreur ou le coût de reconstruction à la sortie de l'autoencodeur variationnel.\n",
    "\n",
    "La fonction suivante retourne la probabilité que la sortie du réseau soit générée par son entrée. Une probabilité de reconstruction élevée devrait correspondre à une transaction normale tandis qu'une faible probabilité de reconstruction devrait correspondre à une fraude parce que les poids du réseaux sont optimisés en fonction des transactions normales."
   ]
  },
  {
   "cell_type": "code",
   "execution_count": 54,
   "metadata": {},
   "outputs": [],
   "source": [
    "def reconstruction_prob(X, n_samples):\n",
    "    # Multivariate Normal \n",
    "    encoder_out = inference_net(X) # Output tensor, .predict() outputs a numpy array\n",
    "    # Sample n_samples from this distribution\n",
    "    encoder_samples = encoder_out.sample(n_samples)\n",
    "    # Generate new example from theses random samples \n",
    "    generated_examples = generative_net(encoder_samples)\n",
    "    # Log probability (and not .prob to avoid floating arithmetic error) density/mass function.\n",
    "    reconstruction_log_prob = np.mean(generated_examples.log_prob(X), axis=0)\n",
    "    return reconstruction_log_prob"
   ]
  },
  {
   "cell_type": "code",
   "execution_count": 55,
   "metadata": {},
   "outputs": [
    {
     "name": "stdout",
     "output_type": "stream",
     "text": [
      "WARNING:tensorflow:Layer dense_8 is casting an input tensor from dtype float64 to the layer's dtype of float32, which is new behavior in TensorFlow 2.  The layer has dtype float32 because it's dtype defaults to floatx.\n",
      "\n",
      "If you intended to run this layer in float32, you can safely ignore this warning. If in doubt, this warning is likely only an issue if you are porting a TensorFlow 1.X model to TensorFlow 2.\n",
      "\n",
      "To change all layers to have dtype float64 by default, call `tf.keras.backend.set_floatx('float64')`. To change just this layer, pass dtype='float64' to the layer constructor. If you are the author of this layer, you can disable autocasting by passing autocast=False to the base Layer constructor.\n",
      "\n",
      "WARNING:tensorflow:Model was constructed with shape Tensor(\"decoder_input_1:0\", shape=(None, 2), dtype=float32) for input (None, 2), but it was re-called on a Tensor with incompatible shape (10, 85443, 2).\n"
     ]
    },
    {
     "data": {
      "image/png": "[encoded data removed]",
      "text/plain": [
       "<Figure size 432x288 with 1 Axes>"
      ]
     },
     "metadata": {
      "needs_background": "light"
     },
     "output_type": "display_data"
    }
   ],
   "source": [
    "# Number of sampled examples of the triangular Gaussian for each input.\n",
    "n_samples = 10  # For stability\n",
    "\n",
    "reconstruction_log_prob = reconstruction_prob(X_test, n_samples)\n",
    "\n",
    "fp_rate, tp_rate, thresholds = roc_curve(y_test, -reconstruction_log_prob)\n",
    "auc = roc_auc_score(y_test, -reconstruction_log_prob)\n",
    "\n",
    "plt.plot(fp_rate,tp_rate,label=\"linear in-sample, auc=\"+str(auc))\n",
    "plt.title('VAE roc curve - test')\n",
    "plt.ylabel('True Positive Rate')\n",
    "plt.xlabel(\"False Positive Rate\")\n",
    "plt.legend(loc='best')\n",
    "plt.show()"
   ]
  },
  {
   "cell_type": "markdown",
   "metadata": {},
   "source": [
    "Pour déterminer un seuil pour la classification en fonction de la probabilité de reconstruction, on peut utiliser une méthode basée sur la cote Z, mais qui utilise la médiane (MAD) plutôt que la moyenne pour éviter que les anomalies influencent elles-même la métrique par rapport à laquelle elles seront choisies. \n",
    "\n",
    "Soit $m$ la médiane. On appelle $MAD$ la médiane de la différence en valeur absolue entre les point $x_i$ et $m$\n",
    "\n",
    "$$\n",
    "MAD = médianne\\{|x_i-m|\\}.\n",
    "$$\n",
    "\n",
    "Pour un point $x_i$, on calcule sa cote Z modifiée de la façon suivante:\n",
    "\n",
    "$$\n",
    "    Z_i = \\frac{0.6745(x_i - m)}{MAD}.\n",
    "$$\n",
    "\n",
    "La quantité $0.6745$ représente le $75$e quartile d'une distribution normale (MAD converge vers cette distribution). \n",
    "\n",
    "Contrairement aux méthodes basées sur les centiles, la cote Z modifiée a l'avantage d'être indépendante du nombre de données."
   ]
  },
  {
   "cell_type": "code",
   "execution_count": 56,
   "metadata": {},
   "outputs": [],
   "source": [
    "# Implentation is inspired by this notebook https://www.kaggle.com/robinteuwens/anomaly-detection-with-auto-encoders\n",
    "def compute_mad_z_scores(points):  \n",
    "    m = np.median(points, axis=0)\n",
    "    abs_deviation = np.abs(points - m)\n",
    "    m_abs_deviation = np.median(abs_deviation)\n",
    "    modified_z_score = 0.6745 * abs_deviation / m_abs_deviation\n",
    "    return modified_z_score"
   ]
  },
  {
   "cell_type": "code",
   "execution_count": 57,
   "metadata": {},
   "outputs": [
    {
     "name": "stdout",
     "output_type": "stream",
     "text": [
      "This results in 1,407 detected anomalies, or 1.65% out of 85,443 trades reported.\n"
     ]
    }
   ],
   "source": [
    "Z_SCORE_THRESHOLD = 2.5\n",
    "mad_z_scores = compute_mad_z_scores(-reconstruction_log_prob)\n",
    "mad_outliers = (mad_z_scores > Z_SCORE_THRESHOLD).astype(int)\n",
    "n_outliers = len(mad_outliers[mad_outliers==True])\n",
    "print(f'This results in {n_outliers:,} detected anomalies, or {n_outliers/len(y_test)*100:.2f}% out of {len(y_test):,} trades reported.')"
   ]
  },
  {
   "cell_type": "markdown",
   "metadata": {},
   "source": [
    "La performance sur les données tests est inférieure à celle obtenue précédemment avec l'apprentissage supervisé. "
   ]
  },
  {
   "cell_type": "code",
   "execution_count": 58,
   "metadata": {},
   "outputs": [
    {
     "name": "stdout",
     "output_type": "stream",
     "text": [
      "The classifications using the MAD method with threshold=2.5 are as follows:\n",
      "[[84008  1287]\n",
      " [   28   120]]\n",
      "\n",
      "Fraud caught successfully (recall):\n",
      "120 / (28 + 120) = 81.08%\n"
     ]
    }
   ],
   "source": [
    "from sklearn.metrics import confusion_matrix\n",
    "\n",
    "# get (mis)classification\n",
    "cm = confusion_matrix(y_test, mad_outliers)\n",
    "print(f'The classifications using the MAD method with threshold={Z_SCORE_THRESHOLD} are as follows:\\n{cm}\\n')\n",
    "print(f'Fraud caught successfully (recall):\\n{cm[1,1]} / ({cm[1,0]} + {cm[1,1]}) = {cm[1,1] / (cm[1,0] + cm[1,1]) * 100:.2f}%')"
   ]
  },
  {
   "cell_type": "code",
   "execution_count": 59,
   "metadata": {},
   "outputs": [
    {
     "name": "stdout",
     "output_type": "stream",
     "text": [
      "              precision    recall  f1-score   support\n",
      "\n",
      "           0      1.000     0.985     0.992     85295\n",
      "           1      0.085     0.811     0.154       148\n",
      "\n",
      "    accuracy                          0.985     85443\n",
      "   macro avg      0.542     0.898     0.573     85443\n",
      "weighted avg      0.998     0.985     0.991     85443\n",
      "\n"
     ]
    }
   ],
   "source": [
    "print(classification_report(y_test, mad_outliers, digits=3))"
   ]
  },
  {
   "cell_type": "markdown",
   "metadata": {},
   "source": [
    "## Références\n",
    "\n",
    "[1] Blei, D., Kucukelbir, A. et McAuliffe, J. (2018). Variational Inference: A Review for Statisticians. arXiv:1601.00670.\n",
    "\n",
    "<a id=\"smote\"></a>\n",
    "[2] Chawla, N., Bowyer, K., Hall, L. et Kegelmeyer, P. (2002). SMOTE: Synthetic Minority Over-sampling Technique. arXiv:1106.1813.\n",
    "\n",
    "<a id=\"tfVAE\"></a>\n",
    "[3] Convolutional Variational Autoencoder. TensorFlow. https://www.tensorflow.org/tutorials/generative/cvae\n",
    "\n",
    "[4] Fajardo, V., Findlay, D., Houmanfar, R., Jaiswal, C., Liang, J. et Xie, H. (2018). VOS: a Method for Variational Oversampling of Imbalanced Data. arXiv:1809.02596.\n",
    "\n",
    "<a id=\"neural\"></a>\n",
    "[5] Guillaume, R. (2019). IFT3395 : Neural Networks \\[notes de cours\\]. StudiUM. https://studium.umontreal.ca/\n",
    "\n",
    "<a id=\"Adasyn\"></a>\n",
    "[6] Haibo H., Yang B., Edwardo A. G., et Shutao L. (2008). ADASYN: Adaptive Synthetic Sampling Approach for Imbalanced Learning\n",
    "\n",
    "<a id=\"Kingma\"></a>\n",
    "[7] Kingma, D. et Welling, M. (2014). Auto-Encoding Variational Bayes. arXiv:1312.6114.\n",
    "\n",
    "<a id=\"mediumVAE\"></a>\n",
    "[8] TFP Team. (2019).Variational Autoencoders with Tensorflow Probability Layers. Medium\n",
    "https://medium.com/tensorflow/variational-autoencoders-with-tensorflow-probability-layers-d06c658931b7"
   ]
  }
 ],
 "metadata": {
  "kernelspec": {
   "display_name": "Python 3",
   "language": "python",
   "name": "python3"
  },
  "language_info": {
   "codemirror_mode": {
    "name": "ipython",
    "version": 3
   },
   "file_extension": ".py",
   "mimetype": "text/x-python",
   "name": "python",
   "nbconvert_exporter": "python",
   "pygments_lexer": "ipython3",
   "version": "3.7.3"
  }
 },
 "nbformat": 4,
 "nbformat_minor": 2
}
