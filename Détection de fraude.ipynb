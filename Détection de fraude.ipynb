{
 "cells": [
  {
   "cell_type": "markdown",
   "metadata": {},
   "source": [
    "# Détection de fraudes de cartes de crédit\n",
    "\n",
    "## Introduction\n",
    "\n",
    "L'objectif du projet consiste en l'élaboration d'algorithmes de classification capables de détecter les transactions frauduleuses dans un dataset kaggle de transactions de cartes de crédit. Les données peuvent être trouvées [ici](https://www.kaggle.com/mlg-ulb/creditcardfraud).\n",
    "\n",
    "Les cas de fraudes ne représentant que 0.173% du nombre total de transactions, l’implémentation des modèles et les métriques de mesures de performance utilisées doivent être adaptées aux données fortement débalancées. Il est également souhaitable que la classification soit sensible, c’est-à-dire que le taux des faux positifs soit minimal, puisque l'institution bancaire ne veut pas déranger inutilement ses clients.\n",
    "\n",
    "\n",
    "## Plan\n",
    "\n",
    "* Exploration des données\n",
    "  * Métriques\n",
    "* Prétraitement\n",
    "  * Normalisation\n",
    "* Méthodologie\n",
    "  * Ensembles d'entraînement et de test origniaux\n",
    "* Régression logistique\n",
    "  * Sélection des hyperparamètres\n",
    "  * Évaluation\n",
    "* Undersampling\n",
    "  * Undersampling aléatoire\n",
    "    * Sélection du modèle\n",
    "  * Undersampling cluster\n",
    "  * Évaluation\n",
    "* Oversampling\n",
    "  * SMOTE\n",
    "  * ADASYN\n",
    "  * Évaluation\n",
    "* Réseaux de neurones\n",
    "  * Undersampling aléatoire\n",
    "  * Évaluation\n"
   ]
  },
  {
   "cell_type": "code",
   "execution_count": 1,
   "metadata": {},
   "outputs": [
    {
     "name": "stderr",
     "output_type": "stream",
     "text": [
      "Using TensorFlow backend.\n"
     ]
    }
   ],
   "source": [
    "import numpy as np\n",
    "import pandas as pd\n",
    "import matplotlib.pyplot as plt\n",
    "from time import time as t\n",
    "import warnings\n",
    "warnings.filterwarnings(\"ignore\")\n",
    "\n",
    "\n",
    "# Preprocessing\n",
    "from sklearn.preprocessing import StandardScaler\n",
    "\n",
    "# Model Selection\n",
    "from sklearn.model_selection import train_test_split\n",
    "from sklearn.model_selection import GridSearchCV\n",
    "from sklearn.model_selection import cross_val_score, cross_val_predict\n",
    "from sklearn.model_selection import StratifiedKFold\n",
    "from sklearn.model_selection import ParameterGrid\n",
    "from imblearn.pipeline import make_pipeline\n",
    "\n",
    "# Resampling\n",
    "from imblearn.under_sampling import RandomUnderSampler, ClusterCentroids\n",
    "from imblearn.over_sampling import SMOTE, ADASYN, SVMSMOTE\n",
    "\n",
    "# Models\n",
    "from sklearn.linear_model import LogisticRegression\n",
    "from sklearn.svm import SVC\n",
    "from sklearn.neighbors import KNeighborsClassifier\n",
    "from sklearn.ensemble import RandomForestClassifier\n",
    "import keras\n",
    "import tensorflow as tf\n",
    "from tensorflow.keras.models import Sequential\n",
    "from tensorflow.keras import optimizers\n",
    "from tensorflow.keras.layers import Dense\n",
    "\n",
    "# Performance metrics\n",
    "from sklearn.metrics import precision_recall_fscore_support, accuracy_score, precision_score, recall_score, classification_report\n",
    "from sklearn.metrics import precision_recall_curve\n",
    "from sklearn.metrics import confusion_matrix, plot_confusion_matrix\n",
    "from sklearn.metrics import roc_curve, roc_auc_score\n",
    "import keras_metrics\n"
   ]
  },
  {
   "cell_type": "markdown",
   "metadata": {},
   "source": [
    "## Exploration des données\n",
    "\n",
    "Le dataset contient 284 807 exemples ayant chacun 31 traits caractéristiques numériques dont le temps et le montant de la transaction. Les 28 autres proviennent d'une analyse en composante principale (PCA) effectuée pour anonymiser les données."
   ]
  },
  {
   "cell_type": "code",
   "execution_count": 2,
   "metadata": {},
   "outputs": [
    {
     "name": "stdout",
     "output_type": "stream",
     "text": [
      "shape:  (284807, 31)\n"
     ]
    },
    {
     "data": {
      "text/html": [
       "<div>\n",
       "<style scoped>\n",
       "    .dataframe tbody tr th:only-of-type {\n",
       "        vertical-align: middle;\n",
       "    }\n",
       "\n",
       "    .dataframe tbody tr th {\n",
       "        vertical-align: top;\n",
       "    }\n",
       "\n",
       "    .dataframe thead th {\n",
       "        text-align: right;\n",
       "    }\n",
       "</style>\n",
       "<table border=\"1\" class=\"dataframe\">\n",
       "  <thead>\n",
       "    <tr style=\"text-align: right;\">\n",
       "      <th></th>\n",
       "      <th>Time</th>\n",
       "      <th>V1</th>\n",
       "      <th>V2</th>\n",
       "      <th>V3</th>\n",
       "      <th>V4</th>\n",
       "      <th>V5</th>\n",
       "      <th>V6</th>\n",
       "      <th>V7</th>\n",
       "      <th>V8</th>\n",
       "      <th>V9</th>\n",
       "      <th>...</th>\n",
       "      <th>V21</th>\n",
       "      <th>V22</th>\n",
       "      <th>V23</th>\n",
       "      <th>V24</th>\n",
       "      <th>V25</th>\n",
       "      <th>V26</th>\n",
       "      <th>V27</th>\n",
       "      <th>V28</th>\n",
       "      <th>Amount</th>\n",
       "      <th>Class</th>\n",
       "    </tr>\n",
       "  </thead>\n",
       "  <tbody>\n",
       "    <tr>\n",
       "      <th>0</th>\n",
       "      <td>0.0</td>\n",
       "      <td>-1.359807</td>\n",
       "      <td>-0.072781</td>\n",
       "      <td>2.536347</td>\n",
       "      <td>1.378155</td>\n",
       "      <td>-0.338321</td>\n",
       "      <td>0.462388</td>\n",
       "      <td>0.239599</td>\n",
       "      <td>0.098698</td>\n",
       "      <td>0.363787</td>\n",
       "      <td>...</td>\n",
       "      <td>-0.018307</td>\n",
       "      <td>0.277838</td>\n",
       "      <td>-0.110474</td>\n",
       "      <td>0.066928</td>\n",
       "      <td>0.128539</td>\n",
       "      <td>-0.189115</td>\n",
       "      <td>0.133558</td>\n",
       "      <td>-0.021053</td>\n",
       "      <td>149.62</td>\n",
       "      <td>0</td>\n",
       "    </tr>\n",
       "    <tr>\n",
       "      <th>1</th>\n",
       "      <td>0.0</td>\n",
       "      <td>1.191857</td>\n",
       "      <td>0.266151</td>\n",
       "      <td>0.166480</td>\n",
       "      <td>0.448154</td>\n",
       "      <td>0.060018</td>\n",
       "      <td>-0.082361</td>\n",
       "      <td>-0.078803</td>\n",
       "      <td>0.085102</td>\n",
       "      <td>-0.255425</td>\n",
       "      <td>...</td>\n",
       "      <td>-0.225775</td>\n",
       "      <td>-0.638672</td>\n",
       "      <td>0.101288</td>\n",
       "      <td>-0.339846</td>\n",
       "      <td>0.167170</td>\n",
       "      <td>0.125895</td>\n",
       "      <td>-0.008983</td>\n",
       "      <td>0.014724</td>\n",
       "      <td>2.69</td>\n",
       "      <td>0</td>\n",
       "    </tr>\n",
       "    <tr>\n",
       "      <th>2</th>\n",
       "      <td>1.0</td>\n",
       "      <td>-1.358354</td>\n",
       "      <td>-1.340163</td>\n",
       "      <td>1.773209</td>\n",
       "      <td>0.379780</td>\n",
       "      <td>-0.503198</td>\n",
       "      <td>1.800499</td>\n",
       "      <td>0.791461</td>\n",
       "      <td>0.247676</td>\n",
       "      <td>-1.514654</td>\n",
       "      <td>...</td>\n",
       "      <td>0.247998</td>\n",
       "      <td>0.771679</td>\n",
       "      <td>0.909412</td>\n",
       "      <td>-0.689281</td>\n",
       "      <td>-0.327642</td>\n",
       "      <td>-0.139097</td>\n",
       "      <td>-0.055353</td>\n",
       "      <td>-0.059752</td>\n",
       "      <td>378.66</td>\n",
       "      <td>0</td>\n",
       "    </tr>\n",
       "    <tr>\n",
       "      <th>3</th>\n",
       "      <td>1.0</td>\n",
       "      <td>-0.966272</td>\n",
       "      <td>-0.185226</td>\n",
       "      <td>1.792993</td>\n",
       "      <td>-0.863291</td>\n",
       "      <td>-0.010309</td>\n",
       "      <td>1.247203</td>\n",
       "      <td>0.237609</td>\n",
       "      <td>0.377436</td>\n",
       "      <td>-1.387024</td>\n",
       "      <td>...</td>\n",
       "      <td>-0.108300</td>\n",
       "      <td>0.005274</td>\n",
       "      <td>-0.190321</td>\n",
       "      <td>-1.175575</td>\n",
       "      <td>0.647376</td>\n",
       "      <td>-0.221929</td>\n",
       "      <td>0.062723</td>\n",
       "      <td>0.061458</td>\n",
       "      <td>123.50</td>\n",
       "      <td>0</td>\n",
       "    </tr>\n",
       "    <tr>\n",
       "      <th>4</th>\n",
       "      <td>2.0</td>\n",
       "      <td>-1.158233</td>\n",
       "      <td>0.877737</td>\n",
       "      <td>1.548718</td>\n",
       "      <td>0.403034</td>\n",
       "      <td>-0.407193</td>\n",
       "      <td>0.095921</td>\n",
       "      <td>0.592941</td>\n",
       "      <td>-0.270533</td>\n",
       "      <td>0.817739</td>\n",
       "      <td>...</td>\n",
       "      <td>-0.009431</td>\n",
       "      <td>0.798278</td>\n",
       "      <td>-0.137458</td>\n",
       "      <td>0.141267</td>\n",
       "      <td>-0.206010</td>\n",
       "      <td>0.502292</td>\n",
       "      <td>0.219422</td>\n",
       "      <td>0.215153</td>\n",
       "      <td>69.99</td>\n",
       "      <td>0</td>\n",
       "    </tr>\n",
       "  </tbody>\n",
       "</table>\n",
       "<p>5 rows × 31 columns</p>\n",
       "</div>"
      ],
      "text/plain": [
       "   Time        V1        V2        V3        V4        V5        V6        V7  \\\n",
       "0   0.0 -1.359807 -0.072781  2.536347  1.378155 -0.338321  0.462388  0.239599   \n",
       "1   0.0  1.191857  0.266151  0.166480  0.448154  0.060018 -0.082361 -0.078803   \n",
       "2   1.0 -1.358354 -1.340163  1.773209  0.379780 -0.503198  1.800499  0.791461   \n",
       "3   1.0 -0.966272 -0.185226  1.792993 -0.863291 -0.010309  1.247203  0.237609   \n",
       "4   2.0 -1.158233  0.877737  1.548718  0.403034 -0.407193  0.095921  0.592941   \n",
       "\n",
       "         V8        V9  ...       V21       V22       V23       V24       V25  \\\n",
       "0  0.098698  0.363787  ... -0.018307  0.277838 -0.110474  0.066928  0.128539   \n",
       "1  0.085102 -0.255425  ... -0.225775 -0.638672  0.101288 -0.339846  0.167170   \n",
       "2  0.247676 -1.514654  ...  0.247998  0.771679  0.909412 -0.689281 -0.327642   \n",
       "3  0.377436 -1.387024  ... -0.108300  0.005274 -0.190321 -1.175575  0.647376   \n",
       "4 -0.270533  0.817739  ... -0.009431  0.798278 -0.137458  0.141267 -0.206010   \n",
       "\n",
       "        V26       V27       V28  Amount  Class  \n",
       "0 -0.189115  0.133558 -0.021053  149.62      0  \n",
       "1  0.125895 -0.008983  0.014724    2.69      0  \n",
       "2 -0.139097 -0.055353 -0.059752  378.66      0  \n",
       "3 -0.221929  0.062723  0.061458  123.50      0  \n",
       "4  0.502292  0.219422  0.215153   69.99      0  \n",
       "\n",
       "[5 rows x 31 columns]"
      ]
     },
     "execution_count": 2,
     "metadata": {},
     "output_type": "execute_result"
    }
   ],
   "source": [
    "df = pd.read_csv(\"data/creditcard.csv\")\n",
    "print('shape: ', df.shape)\n",
    "df.head(n=5)"
   ]
  },
  {
   "cell_type": "code",
   "execution_count": 3,
   "metadata": {},
   "outputs": [
    {
     "data": {
      "text/html": [
       "<div>\n",
       "<style scoped>\n",
       "    .dataframe tbody tr th:only-of-type {\n",
       "        vertical-align: middle;\n",
       "    }\n",
       "\n",
       "    .dataframe tbody tr th {\n",
       "        vertical-align: top;\n",
       "    }\n",
       "\n",
       "    .dataframe thead th {\n",
       "        text-align: right;\n",
       "    }\n",
       "</style>\n",
       "<table border=\"1\" class=\"dataframe\">\n",
       "  <thead>\n",
       "    <tr style=\"text-align: right;\">\n",
       "      <th></th>\n",
       "      <th>Time</th>\n",
       "      <th>V1</th>\n",
       "      <th>V2</th>\n",
       "      <th>V3</th>\n",
       "      <th>V4</th>\n",
       "      <th>V5</th>\n",
       "      <th>V6</th>\n",
       "      <th>V7</th>\n",
       "      <th>V8</th>\n",
       "      <th>V9</th>\n",
       "      <th>...</th>\n",
       "      <th>V21</th>\n",
       "      <th>V22</th>\n",
       "      <th>V23</th>\n",
       "      <th>V24</th>\n",
       "      <th>V25</th>\n",
       "      <th>V26</th>\n",
       "      <th>V27</th>\n",
       "      <th>V28</th>\n",
       "      <th>Amount</th>\n",
       "      <th>Class</th>\n",
       "    </tr>\n",
       "  </thead>\n",
       "  <tbody>\n",
       "    <tr>\n",
       "      <th>count</th>\n",
       "      <td>284807.000000</td>\n",
       "      <td>2.848070e+05</td>\n",
       "      <td>2.848070e+05</td>\n",
       "      <td>2.848070e+05</td>\n",
       "      <td>2.848070e+05</td>\n",
       "      <td>2.848070e+05</td>\n",
       "      <td>2.848070e+05</td>\n",
       "      <td>2.848070e+05</td>\n",
       "      <td>2.848070e+05</td>\n",
       "      <td>2.848070e+05</td>\n",
       "      <td>...</td>\n",
       "      <td>2.848070e+05</td>\n",
       "      <td>2.848070e+05</td>\n",
       "      <td>2.848070e+05</td>\n",
       "      <td>2.848070e+05</td>\n",
       "      <td>2.848070e+05</td>\n",
       "      <td>2.848070e+05</td>\n",
       "      <td>2.848070e+05</td>\n",
       "      <td>2.848070e+05</td>\n",
       "      <td>284807.000000</td>\n",
       "      <td>284807.000000</td>\n",
       "    </tr>\n",
       "    <tr>\n",
       "      <th>mean</th>\n",
       "      <td>94813.859575</td>\n",
       "      <td>3.919560e-15</td>\n",
       "      <td>5.688174e-16</td>\n",
       "      <td>-8.769071e-15</td>\n",
       "      <td>2.782312e-15</td>\n",
       "      <td>-1.552563e-15</td>\n",
       "      <td>2.010663e-15</td>\n",
       "      <td>-1.694249e-15</td>\n",
       "      <td>-1.927028e-16</td>\n",
       "      <td>-3.137024e-15</td>\n",
       "      <td>...</td>\n",
       "      <td>1.537294e-16</td>\n",
       "      <td>7.959909e-16</td>\n",
       "      <td>5.367590e-16</td>\n",
       "      <td>4.458112e-15</td>\n",
       "      <td>1.453003e-15</td>\n",
       "      <td>1.699104e-15</td>\n",
       "      <td>-3.660161e-16</td>\n",
       "      <td>-1.206049e-16</td>\n",
       "      <td>88.349619</td>\n",
       "      <td>0.001727</td>\n",
       "    </tr>\n",
       "    <tr>\n",
       "      <th>std</th>\n",
       "      <td>47488.145955</td>\n",
       "      <td>1.958696e+00</td>\n",
       "      <td>1.651309e+00</td>\n",
       "      <td>1.516255e+00</td>\n",
       "      <td>1.415869e+00</td>\n",
       "      <td>1.380247e+00</td>\n",
       "      <td>1.332271e+00</td>\n",
       "      <td>1.237094e+00</td>\n",
       "      <td>1.194353e+00</td>\n",
       "      <td>1.098632e+00</td>\n",
       "      <td>...</td>\n",
       "      <td>7.345240e-01</td>\n",
       "      <td>7.257016e-01</td>\n",
       "      <td>6.244603e-01</td>\n",
       "      <td>6.056471e-01</td>\n",
       "      <td>5.212781e-01</td>\n",
       "      <td>4.822270e-01</td>\n",
       "      <td>4.036325e-01</td>\n",
       "      <td>3.300833e-01</td>\n",
       "      <td>250.120109</td>\n",
       "      <td>0.041527</td>\n",
       "    </tr>\n",
       "    <tr>\n",
       "      <th>min</th>\n",
       "      <td>0.000000</td>\n",
       "      <td>-5.640751e+01</td>\n",
       "      <td>-7.271573e+01</td>\n",
       "      <td>-4.832559e+01</td>\n",
       "      <td>-5.683171e+00</td>\n",
       "      <td>-1.137433e+02</td>\n",
       "      <td>-2.616051e+01</td>\n",
       "      <td>-4.355724e+01</td>\n",
       "      <td>-7.321672e+01</td>\n",
       "      <td>-1.343407e+01</td>\n",
       "      <td>...</td>\n",
       "      <td>-3.483038e+01</td>\n",
       "      <td>-1.093314e+01</td>\n",
       "      <td>-4.480774e+01</td>\n",
       "      <td>-2.836627e+00</td>\n",
       "      <td>-1.029540e+01</td>\n",
       "      <td>-2.604551e+00</td>\n",
       "      <td>-2.256568e+01</td>\n",
       "      <td>-1.543008e+01</td>\n",
       "      <td>0.000000</td>\n",
       "      <td>0.000000</td>\n",
       "    </tr>\n",
       "    <tr>\n",
       "      <th>25%</th>\n",
       "      <td>54201.500000</td>\n",
       "      <td>-9.203734e-01</td>\n",
       "      <td>-5.985499e-01</td>\n",
       "      <td>-8.903648e-01</td>\n",
       "      <td>-8.486401e-01</td>\n",
       "      <td>-6.915971e-01</td>\n",
       "      <td>-7.682956e-01</td>\n",
       "      <td>-5.540759e-01</td>\n",
       "      <td>-2.086297e-01</td>\n",
       "      <td>-6.430976e-01</td>\n",
       "      <td>...</td>\n",
       "      <td>-2.283949e-01</td>\n",
       "      <td>-5.423504e-01</td>\n",
       "      <td>-1.618463e-01</td>\n",
       "      <td>-3.545861e-01</td>\n",
       "      <td>-3.171451e-01</td>\n",
       "      <td>-3.269839e-01</td>\n",
       "      <td>-7.083953e-02</td>\n",
       "      <td>-5.295979e-02</td>\n",
       "      <td>5.600000</td>\n",
       "      <td>0.000000</td>\n",
       "    </tr>\n",
       "    <tr>\n",
       "      <th>50%</th>\n",
       "      <td>84692.000000</td>\n",
       "      <td>1.810880e-02</td>\n",
       "      <td>6.548556e-02</td>\n",
       "      <td>1.798463e-01</td>\n",
       "      <td>-1.984653e-02</td>\n",
       "      <td>-5.433583e-02</td>\n",
       "      <td>-2.741871e-01</td>\n",
       "      <td>4.010308e-02</td>\n",
       "      <td>2.235804e-02</td>\n",
       "      <td>-5.142873e-02</td>\n",
       "      <td>...</td>\n",
       "      <td>-2.945017e-02</td>\n",
       "      <td>6.781943e-03</td>\n",
       "      <td>-1.119293e-02</td>\n",
       "      <td>4.097606e-02</td>\n",
       "      <td>1.659350e-02</td>\n",
       "      <td>-5.213911e-02</td>\n",
       "      <td>1.342146e-03</td>\n",
       "      <td>1.124383e-02</td>\n",
       "      <td>22.000000</td>\n",
       "      <td>0.000000</td>\n",
       "    </tr>\n",
       "    <tr>\n",
       "      <th>75%</th>\n",
       "      <td>139320.500000</td>\n",
       "      <td>1.315642e+00</td>\n",
       "      <td>8.037239e-01</td>\n",
       "      <td>1.027196e+00</td>\n",
       "      <td>7.433413e-01</td>\n",
       "      <td>6.119264e-01</td>\n",
       "      <td>3.985649e-01</td>\n",
       "      <td>5.704361e-01</td>\n",
       "      <td>3.273459e-01</td>\n",
       "      <td>5.971390e-01</td>\n",
       "      <td>...</td>\n",
       "      <td>1.863772e-01</td>\n",
       "      <td>5.285536e-01</td>\n",
       "      <td>1.476421e-01</td>\n",
       "      <td>4.395266e-01</td>\n",
       "      <td>3.507156e-01</td>\n",
       "      <td>2.409522e-01</td>\n",
       "      <td>9.104512e-02</td>\n",
       "      <td>7.827995e-02</td>\n",
       "      <td>77.165000</td>\n",
       "      <td>0.000000</td>\n",
       "    </tr>\n",
       "    <tr>\n",
       "      <th>max</th>\n",
       "      <td>172792.000000</td>\n",
       "      <td>2.454930e+00</td>\n",
       "      <td>2.205773e+01</td>\n",
       "      <td>9.382558e+00</td>\n",
       "      <td>1.687534e+01</td>\n",
       "      <td>3.480167e+01</td>\n",
       "      <td>7.330163e+01</td>\n",
       "      <td>1.205895e+02</td>\n",
       "      <td>2.000721e+01</td>\n",
       "      <td>1.559499e+01</td>\n",
       "      <td>...</td>\n",
       "      <td>2.720284e+01</td>\n",
       "      <td>1.050309e+01</td>\n",
       "      <td>2.252841e+01</td>\n",
       "      <td>4.584549e+00</td>\n",
       "      <td>7.519589e+00</td>\n",
       "      <td>3.517346e+00</td>\n",
       "      <td>3.161220e+01</td>\n",
       "      <td>3.384781e+01</td>\n",
       "      <td>25691.160000</td>\n",
       "      <td>1.000000</td>\n",
       "    </tr>\n",
       "  </tbody>\n",
       "</table>\n",
       "<p>8 rows × 31 columns</p>\n",
       "</div>"
      ],
      "text/plain": [
       "                Time            V1            V2            V3            V4  \\\n",
       "count  284807.000000  2.848070e+05  2.848070e+05  2.848070e+05  2.848070e+05   \n",
       "mean    94813.859575  3.919560e-15  5.688174e-16 -8.769071e-15  2.782312e-15   \n",
       "std     47488.145955  1.958696e+00  1.651309e+00  1.516255e+00  1.415869e+00   \n",
       "min         0.000000 -5.640751e+01 -7.271573e+01 -4.832559e+01 -5.683171e+00   \n",
       "25%     54201.500000 -9.203734e-01 -5.985499e-01 -8.903648e-01 -8.486401e-01   \n",
       "50%     84692.000000  1.810880e-02  6.548556e-02  1.798463e-01 -1.984653e-02   \n",
       "75%    139320.500000  1.315642e+00  8.037239e-01  1.027196e+00  7.433413e-01   \n",
       "max    172792.000000  2.454930e+00  2.205773e+01  9.382558e+00  1.687534e+01   \n",
       "\n",
       "                 V5            V6            V7            V8            V9  \\\n",
       "count  2.848070e+05  2.848070e+05  2.848070e+05  2.848070e+05  2.848070e+05   \n",
       "mean  -1.552563e-15  2.010663e-15 -1.694249e-15 -1.927028e-16 -3.137024e-15   \n",
       "std    1.380247e+00  1.332271e+00  1.237094e+00  1.194353e+00  1.098632e+00   \n",
       "min   -1.137433e+02 -2.616051e+01 -4.355724e+01 -7.321672e+01 -1.343407e+01   \n",
       "25%   -6.915971e-01 -7.682956e-01 -5.540759e-01 -2.086297e-01 -6.430976e-01   \n",
       "50%   -5.433583e-02 -2.741871e-01  4.010308e-02  2.235804e-02 -5.142873e-02   \n",
       "75%    6.119264e-01  3.985649e-01  5.704361e-01  3.273459e-01  5.971390e-01   \n",
       "max    3.480167e+01  7.330163e+01  1.205895e+02  2.000721e+01  1.559499e+01   \n",
       "\n",
       "       ...           V21           V22           V23           V24  \\\n",
       "count  ...  2.848070e+05  2.848070e+05  2.848070e+05  2.848070e+05   \n",
       "mean   ...  1.537294e-16  7.959909e-16  5.367590e-16  4.458112e-15   \n",
       "std    ...  7.345240e-01  7.257016e-01  6.244603e-01  6.056471e-01   \n",
       "min    ... -3.483038e+01 -1.093314e+01 -4.480774e+01 -2.836627e+00   \n",
       "25%    ... -2.283949e-01 -5.423504e-01 -1.618463e-01 -3.545861e-01   \n",
       "50%    ... -2.945017e-02  6.781943e-03 -1.119293e-02  4.097606e-02   \n",
       "75%    ...  1.863772e-01  5.285536e-01  1.476421e-01  4.395266e-01   \n",
       "max    ...  2.720284e+01  1.050309e+01  2.252841e+01  4.584549e+00   \n",
       "\n",
       "                V25           V26           V27           V28         Amount  \\\n",
       "count  2.848070e+05  2.848070e+05  2.848070e+05  2.848070e+05  284807.000000   \n",
       "mean   1.453003e-15  1.699104e-15 -3.660161e-16 -1.206049e-16      88.349619   \n",
       "std    5.212781e-01  4.822270e-01  4.036325e-01  3.300833e-01     250.120109   \n",
       "min   -1.029540e+01 -2.604551e+00 -2.256568e+01 -1.543008e+01       0.000000   \n",
       "25%   -3.171451e-01 -3.269839e-01 -7.083953e-02 -5.295979e-02       5.600000   \n",
       "50%    1.659350e-02 -5.213911e-02  1.342146e-03  1.124383e-02      22.000000   \n",
       "75%    3.507156e-01  2.409522e-01  9.104512e-02  7.827995e-02      77.165000   \n",
       "max    7.519589e+00  3.517346e+00  3.161220e+01  3.384781e+01   25691.160000   \n",
       "\n",
       "               Class  \n",
       "count  284807.000000  \n",
       "mean        0.001727  \n",
       "std         0.041527  \n",
       "min         0.000000  \n",
       "25%         0.000000  \n",
       "50%         0.000000  \n",
       "75%         0.000000  \n",
       "max         1.000000  \n",
       "\n",
       "[8 rows x 31 columns]"
      ]
     },
     "execution_count": 3,
     "metadata": {},
     "output_type": "execute_result"
    }
   ],
   "source": [
    "df.describe()"
   ]
  },
  {
   "cell_type": "markdown",
   "metadata": {},
   "source": [
    "Les exemples non-frauduleux sont étiquetés par la classe 0 et les exemples frauduleux par la classe 1. Seulement 492 (0.173%) des exemples sont de la classe 1."
   ]
  },
  {
   "cell_type": "code",
   "execution_count": 4,
   "metadata": {},
   "outputs": [
    {
     "name": "stdout",
     "output_type": "stream",
     "text": [
      "Nombre de fraudes: 492\n",
      "Taux de fraudes: 0.173 %\n"
     ]
    }
   ],
   "source": [
    "fraud_count = df['Class'].value_counts()[1]\n",
    "fraud_ratio = np.around(fraud_count/len(df)*100, 3)\n",
    "print(\"Nombre de fraudes:\", fraud_count)\n",
    "print(\"Taux de fraudes:\", fraud_ratio, '%')"
   ]
  },
  {
   "cell_type": "markdown",
   "metadata": {},
   "source": [
    "\n",
    "### Métriques\n",
    "\n",
    "Les données sont extrèmements débalancées. Le classifieur risque de mémoriser que les données sont débalancées et d'assumer que la majorité des exemples sont des cas non-frauduleux (sur-apprentissage) plutôt que de détecter les liens dans les traits caractéristiques permettant réellement de déterminer si une transaction est une fraude.\n",
    "\n",
    "Les cas de fraudes ne représentant que 0.172% du nombre total de transactions, l’implémentation des modèles et les métriques de mesures de performance utilisées doivent être adaptées aux données fortement débalancées. En effet, le taux de classifications (accuracy) n'est pas une mesure de performance naturelle lorsque les données sont débalancées. Pour l'illustrer, considérons un classifieur qui prédit la classe '0' à tous les nouveaux exemples de tests. Un tel classifieur obtiendrait un taux de classifications correctes de 99.827% sans détecter aucune fraude. Un tel classifieur est incapable de généraliser, même si son taux de classifications est élevé.\n",
    "\n",
    "D'autres métriques basées sur la notion de vrai positif, faux positif, vrai négatif et faux négatif sont plus naturelles pour évaluer la performance d'un dataset débalancé.\n",
    "\n",
    "- vrais positifs (VP): Nombre de fraudes classées correctement.\n",
    "\n",
    "\n",
    "- faux positifs (FP): Nombre de non-fraudes classées comme fraudes.\n",
    "\n",
    "\n",
    "- vrais négatifs (VN): Nombre de non-fraudes classées correctement.\n",
    "\n",
    "\n",
    "- faux négaitfs (FN): Nombre de fraudes classées incorrectement.\n",
    "\n",
    "On peut aussi énoncer les définitions pour VP, FP, VN et FN symétriquement pour la classe non-fraude.\n",
    "\n",
    "Soit $N$ le nombre total d'exemples.\n",
    "\n",
    "- Accuracy $:=\\frac{VP+VN}{N}$\n",
    "\n",
    "\n",
    "- Precision $:=\\frac{VP}{VP+FP}$\n",
    "\n",
    "\n",
    "- Recall $:=\\frac{VP}{VP+FN}$\n",
    "\n",
    "\n",
    "- f1-score $:=2\\ \\frac{\\text{precision}\\ \\times\\ \\text{recall}}{\\text{precision}\\ +\\ \\text{recall}}$\n",
    "\n",
    "\n",
    "- Courbe ROC: Courbe de VP en fonction de FP pour un classifieur binaire.\n",
    "\n",
    "\n",
    "- Roc Auc Score: Aire sous la courbe ROC.\n",
    "\n",
    "\n",
    "Le recall est particulièrement intéressant comme il s'agit du taux de fraudes détectées.\n",
    "\n",
    "\"Many machine-learning techniques, such as neural networks, make more reliable predictions from being trained with balanced data. Certain analytical methods, however, notably linear regression and logistic regression, do not benefit from a balancing approach.\" (Wikipedia)\n",
    "\n",
    "Dotons-nous d'une fonction pour imprimer ces métriques."
   ]
  },
  {
   "cell_type": "code",
   "execution_count": 5,
   "metadata": {},
   "outputs": [],
   "source": [
    "def print_metrics(y_true, y_pred, title=''):\n",
    "    print(title,'\\n')\n",
    "    print('Accuracy:', accuracy_score(y_true, y_pred))\n",
    "    confusion_m = confusion_matrix(y_true, y_pred)\n",
    "    tn, fp, fn, tp = confusion_m.ravel()\n",
    "    \n",
    "    print('\\ntrue positives\\tfalse positives\\tfalse negatives\\ttrue negatives')\n",
    "    print('%.0f\\t\\t%.0f\\t\\t%.0f\\t\\t%.0f'% (tn, fp, fn, tp))\n",
    "\n",
    "    metrics = precision_recall_fscore_support(y_true, y_pred, beta=1.0)\n",
    "    precision = metrics[0]\n",
    "    recall = metrics[1]\n",
    "    f1 = metrics[2]\n",
    "    support = metrics[3]\n",
    "    print('\\nClass\\t\\t 0\\t\\t1')\n",
    "    print('Precision\\t', '%.2f\\t\\t%.2f'% (precision[0], precision[1]))\n",
    "    print('recall\\t\\t', '%.2f\\t\\t%.2f'% (recall[0], recall[1]))\n",
    "    print('f1\\t\\t', '%.2f\\t\\t%.2f'% (f1[0], f1[1]))\n",
    "    print('support\\t\\t', '%.2f\\t%.2f'% (support[0], support[1]))"
   ]
  },
  {
   "cell_type": "markdown",
   "metadata": {},
   "source": [
    "## Pré-traitement\n",
    "\n",
    "### Normalisation\n",
    "On voudrait normaliser les colonnes Time et Amount comme pour les colonnes V1 à V28. Le but principal de cette normalisation est d'aider les techniques de convergences utilisées pour l'optimisation."
   ]
  },
  {
   "cell_type": "code",
   "execution_count": 6,
   "metadata": {},
   "outputs": [
    {
     "data": {
      "text/html": [
       "<div>\n",
       "<style scoped>\n",
       "    .dataframe tbody tr th:only-of-type {\n",
       "        vertical-align: middle;\n",
       "    }\n",
       "\n",
       "    .dataframe tbody tr th {\n",
       "        vertical-align: top;\n",
       "    }\n",
       "\n",
       "    .dataframe thead th {\n",
       "        text-align: right;\n",
       "    }\n",
       "</style>\n",
       "<table border=\"1\" class=\"dataframe\">\n",
       "  <thead>\n",
       "    <tr style=\"text-align: right;\">\n",
       "      <th></th>\n",
       "      <th>norm_amount</th>\n",
       "      <th>norm_time</th>\n",
       "      <th>V1</th>\n",
       "      <th>V2</th>\n",
       "      <th>V3</th>\n",
       "      <th>V4</th>\n",
       "      <th>V5</th>\n",
       "      <th>V6</th>\n",
       "      <th>V7</th>\n",
       "      <th>V8</th>\n",
       "      <th>...</th>\n",
       "      <th>V20</th>\n",
       "      <th>V21</th>\n",
       "      <th>V22</th>\n",
       "      <th>V23</th>\n",
       "      <th>V24</th>\n",
       "      <th>V25</th>\n",
       "      <th>V26</th>\n",
       "      <th>V27</th>\n",
       "      <th>V28</th>\n",
       "      <th>Class</th>\n",
       "    </tr>\n",
       "  </thead>\n",
       "  <tbody>\n",
       "    <tr>\n",
       "      <th>0</th>\n",
       "      <td>0.244964</td>\n",
       "      <td>-1.996583</td>\n",
       "      <td>-1.359807</td>\n",
       "      <td>-0.072781</td>\n",
       "      <td>2.536347</td>\n",
       "      <td>1.378155</td>\n",
       "      <td>-0.338321</td>\n",
       "      <td>0.462388</td>\n",
       "      <td>0.239599</td>\n",
       "      <td>0.098698</td>\n",
       "      <td>...</td>\n",
       "      <td>0.251412</td>\n",
       "      <td>-0.018307</td>\n",
       "      <td>0.277838</td>\n",
       "      <td>-0.110474</td>\n",
       "      <td>0.066928</td>\n",
       "      <td>0.128539</td>\n",
       "      <td>-0.189115</td>\n",
       "      <td>0.133558</td>\n",
       "      <td>-0.021053</td>\n",
       "      <td>0</td>\n",
       "    </tr>\n",
       "    <tr>\n",
       "      <th>1</th>\n",
       "      <td>-0.342475</td>\n",
       "      <td>-1.996583</td>\n",
       "      <td>1.191857</td>\n",
       "      <td>0.266151</td>\n",
       "      <td>0.166480</td>\n",
       "      <td>0.448154</td>\n",
       "      <td>0.060018</td>\n",
       "      <td>-0.082361</td>\n",
       "      <td>-0.078803</td>\n",
       "      <td>0.085102</td>\n",
       "      <td>...</td>\n",
       "      <td>-0.069083</td>\n",
       "      <td>-0.225775</td>\n",
       "      <td>-0.638672</td>\n",
       "      <td>0.101288</td>\n",
       "      <td>-0.339846</td>\n",
       "      <td>0.167170</td>\n",
       "      <td>0.125895</td>\n",
       "      <td>-0.008983</td>\n",
       "      <td>0.014724</td>\n",
       "      <td>0</td>\n",
       "    </tr>\n",
       "    <tr>\n",
       "      <th>2</th>\n",
       "      <td>1.160686</td>\n",
       "      <td>-1.996562</td>\n",
       "      <td>-1.358354</td>\n",
       "      <td>-1.340163</td>\n",
       "      <td>1.773209</td>\n",
       "      <td>0.379780</td>\n",
       "      <td>-0.503198</td>\n",
       "      <td>1.800499</td>\n",
       "      <td>0.791461</td>\n",
       "      <td>0.247676</td>\n",
       "      <td>...</td>\n",
       "      <td>0.524980</td>\n",
       "      <td>0.247998</td>\n",
       "      <td>0.771679</td>\n",
       "      <td>0.909412</td>\n",
       "      <td>-0.689281</td>\n",
       "      <td>-0.327642</td>\n",
       "      <td>-0.139097</td>\n",
       "      <td>-0.055353</td>\n",
       "      <td>-0.059752</td>\n",
       "      <td>0</td>\n",
       "    </tr>\n",
       "    <tr>\n",
       "      <th>3</th>\n",
       "      <td>0.140534</td>\n",
       "      <td>-1.996562</td>\n",
       "      <td>-0.966272</td>\n",
       "      <td>-0.185226</td>\n",
       "      <td>1.792993</td>\n",
       "      <td>-0.863291</td>\n",
       "      <td>-0.010309</td>\n",
       "      <td>1.247203</td>\n",
       "      <td>0.237609</td>\n",
       "      <td>0.377436</td>\n",
       "      <td>...</td>\n",
       "      <td>-0.208038</td>\n",
       "      <td>-0.108300</td>\n",
       "      <td>0.005274</td>\n",
       "      <td>-0.190321</td>\n",
       "      <td>-1.175575</td>\n",
       "      <td>0.647376</td>\n",
       "      <td>-0.221929</td>\n",
       "      <td>0.062723</td>\n",
       "      <td>0.061458</td>\n",
       "      <td>0</td>\n",
       "    </tr>\n",
       "    <tr>\n",
       "      <th>4</th>\n",
       "      <td>-0.073403</td>\n",
       "      <td>-1.996541</td>\n",
       "      <td>-1.158233</td>\n",
       "      <td>0.877737</td>\n",
       "      <td>1.548718</td>\n",
       "      <td>0.403034</td>\n",
       "      <td>-0.407193</td>\n",
       "      <td>0.095921</td>\n",
       "      <td>0.592941</td>\n",
       "      <td>-0.270533</td>\n",
       "      <td>...</td>\n",
       "      <td>0.408542</td>\n",
       "      <td>-0.009431</td>\n",
       "      <td>0.798278</td>\n",
       "      <td>-0.137458</td>\n",
       "      <td>0.141267</td>\n",
       "      <td>-0.206010</td>\n",
       "      <td>0.502292</td>\n",
       "      <td>0.219422</td>\n",
       "      <td>0.215153</td>\n",
       "      <td>0</td>\n",
       "    </tr>\n",
       "  </tbody>\n",
       "</table>\n",
       "<p>5 rows × 31 columns</p>\n",
       "</div>"
      ],
      "text/plain": [
       "   norm_amount  norm_time        V1        V2        V3        V4        V5  \\\n",
       "0     0.244964  -1.996583 -1.359807 -0.072781  2.536347  1.378155 -0.338321   \n",
       "1    -0.342475  -1.996583  1.191857  0.266151  0.166480  0.448154  0.060018   \n",
       "2     1.160686  -1.996562 -1.358354 -1.340163  1.773209  0.379780 -0.503198   \n",
       "3     0.140534  -1.996562 -0.966272 -0.185226  1.792993 -0.863291 -0.010309   \n",
       "4    -0.073403  -1.996541 -1.158233  0.877737  1.548718  0.403034 -0.407193   \n",
       "\n",
       "         V6        V7        V8  ...       V20       V21       V22       V23  \\\n",
       "0  0.462388  0.239599  0.098698  ...  0.251412 -0.018307  0.277838 -0.110474   \n",
       "1 -0.082361 -0.078803  0.085102  ... -0.069083 -0.225775 -0.638672  0.101288   \n",
       "2  1.800499  0.791461  0.247676  ...  0.524980  0.247998  0.771679  0.909412   \n",
       "3  1.247203  0.237609  0.377436  ... -0.208038 -0.108300  0.005274 -0.190321   \n",
       "4  0.095921  0.592941 -0.270533  ...  0.408542 -0.009431  0.798278 -0.137458   \n",
       "\n",
       "        V24       V25       V26       V27       V28  Class  \n",
       "0  0.066928  0.128539 -0.189115  0.133558 -0.021053      0  \n",
       "1 -0.339846  0.167170  0.125895 -0.008983  0.014724      0  \n",
       "2 -0.689281 -0.327642 -0.139097 -0.055353 -0.059752      0  \n",
       "3 -1.175575  0.647376 -0.221929  0.062723  0.061458      0  \n",
       "4  0.141267 -0.206010  0.502292  0.219422  0.215153      0  \n",
       "\n",
       "[5 rows x 31 columns]"
      ]
     },
     "execution_count": 6,
     "metadata": {},
     "output_type": "execute_result"
    }
   ],
   "source": [
    "# Standardize features by removing the mean and scaling to unit variance\n",
    "scaler = StandardScaler()\n",
    "\n",
    "time = df['Time'].values.reshape(-1, 1)\n",
    "amount = df['Amount'].values.reshape(-1, 1)\n",
    "norm_time = scaler.fit_transform(time)\n",
    "norm_amount = scaler.fit_transform(amount)\n",
    "df.insert(0, 'norm_time', norm_time)\n",
    "df.insert(0, 'norm_amount',norm_amount)\n",
    "df.drop(['Time', 'Amount'], axis=1, inplace=True)\n",
    "df.head()"
   ]
  },
  {
   "cell_type": "markdown",
   "metadata": {},
   "source": [
    "## Méthodologie\n",
    "\n",
    "On doit s'assurer d'utiliser convenablement les méthodes de resample puisqu'elles modifient la distribution des données.\n",
    "\n",
    "Premièrement, on sépare les données originales en ensembles d'entraînement et de test. Ensuite, pour la sélection du modèle, on utilise la validation croisée pour tester les différentes combinaisons de paramètres pour chaque modèle. Une fois un modèle choisi, on estime sa performance de généralisation sur l'ensemble de test original dont les exemples sont inconnus au prédicteur. L'estimation de la performance est donc non biaisée.\n",
    "\n",
    "Idéalement, dans la phase de sélection du modèle des méthodes de resample, il est important de resample durant la validation croisée. Sinon on modifie forcément l'ensemble de validation et le prédicteur est optimisé pour des données resamplées. Le resample ne devrait qu'agir sur l'entraînement pour que l'ensemble de validation corresponde à la vraie distribution.\n",
    "\n",
    "C'est surtout important lorsqu'on veut estimer la capacité de généralisation. Une estimation de performance d'un prédicteur sur un ensemble de validation resamplé est disposée au surapprentissage.\n",
    "\n",
    "### Ensembles d'entraînement et de test origniaux"
   ]
  },
  {
   "cell_type": "code",
   "execution_count": 7,
   "metadata": {},
   "outputs": [
    {
     "name": "stdout",
     "output_type": "stream",
     "text": [
      "Ratio de fraudes (Train): 0.17254870488152324\n",
      "Ratio de fraudes (Test): 0.17321489179921118\n"
     ]
    }
   ],
   "source": [
    "df.sample(random_state=0)\n",
    "\n",
    "inputs, outputs = df.drop('Class', axis=1), df['Class']\n",
    "\n",
    "# If stratify not None, data is split in a stratified fashion, using this as the class labels\n",
    "X_train, X_test, y_train, y_test = train_test_split(inputs, outputs, test_size=0.3, random_state=0, stratify=outputs)\n",
    "\n",
    "# Verify if distributions are the same\n",
    "print('Ratio de fraudes (Train):', y_train.value_counts()[1]/y_train.shape[0] * 100)\n",
    "print('Ratio de fraudes (Test):', y_test.value_counts()[1]/y_test.shape[0] * 100)\n",
    "\n",
    "# Create a new dataframe for training set\n",
    "train_df = X_train.copy()\n",
    "train_df['Class'] = y_train\n",
    "train_df.sample(random_state=0)\n",
    "\n",
    "X_train, y_train = X_train.values, y_train.values\n",
    "X_test, y_test = X_test.values, y_test.values"
   ]
  },
  {
   "cell_type": "markdown",
   "metadata": {},
   "source": [
    "On peut définir une fonctionalité qui permet de faire un grid-search sur un dictionnaire de paramètres tout en resamplant l'ensemble d'entraînement durant la validation croisée."
   ]
  },
  {
   "cell_type": "code",
   "execution_count": 8,
   "metadata": {},
   "outputs": [],
   "source": [
    "metrics = {}\n",
    "metrics['accuracy'] = accuracy_score\n",
    "metrics['recall'] = recall_score\n",
    "\n",
    "def grid_search_cv_resample(X_train, y_train, model, params, cv=5, resampler=None, metric='accuracy', verbose=True):\n",
    "    \"\"\"\n",
    "    Returns the best model found by cross validation.\n",
    "    \"\"\"\n",
    "    # Folds are made by preserving the percentage of samples for each class.\n",
    "    skf = StratifiedKFold(n_splits=cv, shuffle=False)\n",
    "\n",
    "    param_grid = ParameterGrid(params)\n",
    "    best_params = None\n",
    "    best_score = 0\n",
    "    \n",
    "    scoring = metrics[metric]\n",
    "    \n",
    "    time1 = t()\n",
    "    for param_combination in param_grid:\n",
    "        \n",
    "        # Set params\n",
    "        model.set_params(**param_combination)\n",
    "        \n",
    "        scores = []\n",
    "        accuracy = []\n",
    "        \n",
    "        # Cross validation\n",
    "        for train_index, val_index in skf.split(X_train, y_train):\n",
    "            \n",
    "            # Train-val split\n",
    "            X_val, y_val = X_train[val_index], y_train[val_index] \n",
    "            X_train_resampler, y_train_resampler = X_train[train_index], y_train[train_index]\n",
    "            # Resample training set\n",
    "            if resampler is not None:\n",
    "                X_train_resampler, y_train_resampler = resampler.fit_resample(X_train_resampler, y_train_resampler) # Shuffle this ?! \n",
    "            \n",
    "            # Train - predict on validation\n",
    "            model.fit(X_train_resampler, y_train_resampler)\n",
    "            pred = model.predict(X_val)\n",
    "            \n",
    "            # Evaluate performance\n",
    "            scores.append(scoring(y_val, pred))\n",
    "            # Only report results for the class specified by pos_label (=1). \n",
    "            # This is applicable only if targets (y_{true,pred}) are binary.\n",
    "\n",
    "        score = np.mean(scores)\n",
    "        \n",
    "        if score > best_score:\n",
    "            best_score, best_params = score, param_combination\n",
    "\n",
    "    time2 = t()\n",
    "    if verbose:\n",
    "        print('\\nBest params', best_params)\n",
    "        print(f'{metric} score:', best_score)\n",
    "        print('Time:', time2-time1)\n",
    "    \n",
    "    return model.set_params(**best_params)\n"
   ]
  },
  {
   "cell_type": "markdown",
   "metadata": {},
   "source": [
    "Similairement, voici une fonctionalité qui permet d'estimer la performance d'un estimateur par validation croisée."
   ]
  },
  {
   "cell_type": "code",
   "execution_count": 9,
   "metadata": {},
   "outputs": [],
   "source": [
    "def print_metrics_resample(X, y, model, cv=5, resampler=None):\n",
    "    \n",
    "    # Folds are made by preserving the percentage of samples for each class.\n",
    "    skf = StratifiedKFold(n_splits=cv, shuffle=False)\n",
    "    \n",
    "    precision = []\n",
    "    recall = []\n",
    "    f1 = []\n",
    "    support = []\n",
    "    accuracy = []\n",
    "    \n",
    "    # Cross validation\n",
    "    for train_index, val_index in skf.split(X, y):\n",
    "\n",
    "        # Train-val split\n",
    "        X_val, y_val = X[val_index], y[val_index] \n",
    "        X_train_resampler, y_train_resampler = X[train_index], y[train_index]\n",
    "        # Resample training set (only)\n",
    "        if resampler is not None:\n",
    "            X_train_resampler, y_train_resampler = resampler.fit_resample(X_train_resampler, y_train_resampler) # Shuffle this ?! \n",
    "\n",
    "        # Train - predict on validation\n",
    "        model.fit(X_train_resampler, y_train_resampler)\n",
    "        pred = model.predict(X_val)\n",
    "\n",
    "        # Evaluate performance\n",
    "        metrics = precision_recall_fscore_support(y_val, pred, beta=1.0, labels=[0,1], average=None)\n",
    "        precision.append(metrics[0])\n",
    "        recall.append(metrics[1])\n",
    "        f1.append(metrics[2])\n",
    "        support.append(metrics[3])\n",
    "        accuracy.append(accuracy_score(y_val, pred))\n",
    "    \n",
    "    precision = np.mean(precision, axis=0)\n",
    "    recall = np.mean(recall, axis=0)\n",
    "    f1 = np.mean(f1, axis=0)\n",
    "    support = np.mean(support, axis=0)\n",
    "    accuracy = np.mean(accuracy, axis=0)\n",
    "    \n",
    "    print('\\nAccuracy\\t', accuracy)\n",
    "    print('\\nClass\\t\\t 0\\t\\t1')\n",
    "    print('Precision\\t', '%.3f\\t\\t%.3f'% (precision[0], precision[1]))\n",
    "    print('Recall\\t\\t', '%.3f\\t\\t%.3f'% (recall[0], recall[1]))\n",
    "    print('f1\\t\\t', '%.3f\\t\\t%.3f'% (f1[0], f1[1]))\n",
    "    print('Support\\t\\t', '%.3f\\t%.3f'% (support[0], support[1]))\n",
    "    \n",
    "    "
   ]
  },
  {
   "cell_type": "markdown",
   "metadata": {},
   "source": [
    "## Régression logistique \n",
    "\n",
    "Pour commencer, essayons d'implémenter naïvement un classifieur simple comme la régression logistique sur la totalité des données. On utilise le taux de bonnes classifications (accuracy) comme mesure de performance.\n",
    "\n",
    "Comme discutter précédemment, on s'attend à ce que le modèle mémorise à tord le débalancement dans les données et qu'il éprouve des difficultées à voir ce qui caractérise vraiment une fraude. Il devrait prédire la classe 0 trop souvent."
   ]
  },
  {
   "cell_type": "markdown",
   "metadata": {},
   "source": [
    "### Sélection des hyperparamètres"
   ]
  },
  {
   "cell_type": "code",
   "execution_count": 10,
   "metadata": {},
   "outputs": [
    {
     "name": "stdout",
     "output_type": "stream",
     "text": [
      "Fitting 5 folds for each of 14 candidates, totalling 70 fits\n"
     ]
    },
    {
     "name": "stderr",
     "output_type": "stream",
     "text": [
      "[Parallel(n_jobs=1)]: Using backend SequentialBackend with 1 concurrent workers.\n",
      "[Parallel(n_jobs=1)]: Done  70 out of  70 | elapsed:   41.7s finished\n"
     ]
    },
    {
     "name": "stdout",
     "output_type": "stream",
     "text": [
      "Meilleurs paramètres: {'C': 10, 'penalty': 'l2'}\n",
      "Meilleur résultat (moyenne des résultats de validation croisée): 0.9992375756661026\n"
     ]
    }
   ],
   "source": [
    "log_reg = LogisticRegression()\n",
    "\n",
    "# Tuning penalty and regularization using cross validation (5 folds)\n",
    "params = {'penalty': ['l1', 'l2'], 'C': [0.001, 0.01, 0.1, 1, 10, 100, 1000]}\n",
    "log_reg_gs= GridSearchCV(log_reg, params, scoring='accuracy', cv=5, verbose=1) # Using accuracy as scoring metric \n",
    "log_reg_gs.fit(X_train, y_train)\n",
    "print('Meilleurs paramètres:', log_reg_gs.best_params_)\n",
    "print('Meilleur résultat (moyenne des résultats de validation croisée):', log_reg_gs.best_score_)\n",
    "log_reg_best = log_reg_gs.best_estimator_"
   ]
  },
  {
   "cell_type": "markdown",
   "metadata": {},
   "source": [
    "### Évaluation\n",
    "\n",
    "On évalue les performances sur l'ensemble de test pour estimer le pouvoir de généralisation."
   ]
  },
  {
   "cell_type": "code",
   "execution_count": 11,
   "metadata": {},
   "outputs": [
    {
     "name": "stdout",
     "output_type": "stream",
     "text": [
      "Régression logistique simple \n",
      "\n",
      "Accuracy: 0.999204147794436\n",
      "\n",
      "true positives\tfalse positives\tfalse negatives\ttrue negatives\n",
      "85282\t\t13\t\t55\t\t93\n",
      "\n",
      "Class\t\t 0\t\t1\n",
      "Precision\t 1.00\t\t0.88\n",
      "recall\t\t 1.00\t\t0.63\n",
      "f1\t\t 1.00\t\t0.73\n",
      "support\t\t 85295.00\t148.00\n"
     ]
    }
   ],
   "source": [
    "log_reg_best.fit(X_train, y_train)\n",
    "predictions = log_reg_best.predict(X_test)\n",
    "\n",
    "print_metrics(y_test, predictions, 'Régression logistique simple')"
   ]
  },
  {
   "cell_type": "markdown",
   "metadata": {},
   "source": [
    "Bien que le taux de bonnes classifications semble élevé, le prédicteur n'a su que détecter 0,63% des fraudes. Ceci confirme notre hypothèse. On voudrait augmenter significativement cette quantité."
   ]
  },
  {
   "cell_type": "markdown",
   "metadata": {},
   "source": [
    "## Undersampling\n",
    "\n",
    "L'idée est d'entraîner un modèle sur un ensemble de données balancé tel quel 50% des données sont des fraudes. Modifier ainsi les données d'entraînement introduit un biais qui sert à compenser le risque de surapprentissage dû au fléau des données débalancées.\n",
    "\n",
    "###  Undersampling aléatoire\n",
    "Il s'agit de sélectionner aléatoirement des exemples dans la calsse majoritaire pour équilibrer les données.\n",
    "\n",
    "Comme les performances des combinaisons des hyperparamètres sont évaluées sur un ensemble de validation de la distribution originale (qui n'a pas été resamplée), alors le recall est une mesure de performance plus naturelle que l'accuracy pour la sélection du modèle. Le recall permet d'optimiser en fonction du taux de fraudes détectées."
   ]
  },
  {
   "cell_type": "markdown",
   "metadata": {},
   "source": [
    "#### Sélection du modèle\n",
    "\n",
    "Peut-être devrait-on choisir une classe de fonction relativement peu expressive (basse capacité) parce que notre dataset under-samplé est petit durant la validation croisée, ce qui signifie qu'il a une grande variabilité. Un algorithme trop expressif risque de mémoriser le bruit et de surapprendre et mal généraliser puisque les données aberrantes ont un poids significatif."
   ]
  },
  {
   "cell_type": "code",
   "execution_count": 12,
   "metadata": {},
   "outputs": [],
   "source": [
    "rand_under_sampler = RandomUnderSampler(sampling_strategy=1.0, random_state=0)"
   ]
  },
  {
   "cell_type": "code",
   "execution_count": 13,
   "metadata": {},
   "outputs": [
    {
     "name": "stdout",
     "output_type": "stream",
     "text": [
      "\n",
      "Best params {'C': 1000, 'penalty': 'l2'}\n",
      "recall score: 0.9303069053708439\n",
      "Time: 4.045183897018433\n"
     ]
    }
   ],
   "source": [
    "# Logistic Regression\n",
    "log_reg = LogisticRegression()\n",
    "\n",
    "# Tuning penalty and regularization using cross validation\n",
    "params = {'penalty': ['l2'], 'C': [0.001, 0.01, 0.1, 1, 10, 100, 1000]}\n",
    "# params = [{'penalty': ['l2'], 'C': [0.001, 0.01, 0.1, 1, 10, 100, 1000]}, {'penalty': ['l1'], 'solver': ['liblinear'], 'C': [0.001, 0.01, 0.1, 1, 10, 100, 1000]}]\n",
    "log_reg_us = grid_search_cv_resample(X_train, y_train, log_reg, params, cv=5, resampler=rand_under_sampler, metric='recall', verbose=True)"
   ]
  },
  {
   "cell_type": "code",
   "execution_count": 14,
   "metadata": {},
   "outputs": [
    {
     "name": "stdout",
     "output_type": "stream",
     "text": [
      "\n",
      "Accuracy\t 0.9498605647670519\n",
      "\n",
      "Class\t\t 0\t\t1\n",
      "Precision\t 1.000\t\t0.031\n",
      "Recall\t\t 0.950\t\t0.930\n",
      "f1\t\t 0.974\t\t0.060\n",
      "Support\t\t 39804.000\t68.800\n"
     ]
    }
   ],
   "source": [
    "print_metrics_resample(X_train, y_train, log_reg_us, cv=5, resampler=rand_under_sampler)"
   ]
  },
  {
   "cell_type": "code",
   "execution_count": 15,
   "metadata": {},
   "outputs": [
    {
     "name": "stdout",
     "output_type": "stream",
     "text": [
      "\n",
      "Best params {'C': 1000, 'kernel': 'rbf'}\n",
      "recall score: 0.9331202046035806\n",
      "Time: 18.159119367599487\n"
     ]
    }
   ],
   "source": [
    "# SVM\n",
    "svm_rbf = SVC()\n",
    "\n",
    "# Tuning kernel, C, and degree for polynomial kernel\n",
    "params = {'kernel': ['rbf'], 'C': [0.001, 0.01, 0.1, 1, 10, 100, 1000]}\n",
    "# params = [{'kernel': ['rbf'], 'C': [0.001, 0.01, 0.1, 1, 10, 100, 1000]}, {'kernel': ['poly'], 'C': [0.001, 0.01, 0.1, 1, 10, 100, 1000], 'degree': [0, 1, 2, 3, 4, 5]}]\n",
    "svm_rbf_us = grid_search_cv_resample(X_train, y_train, svm_rbf, params, cv=5, resampler=rand_under_sampler, metric='recall', verbose=1)"
   ]
  },
  {
   "cell_type": "code",
   "execution_count": 16,
   "metadata": {},
   "outputs": [
    {
     "name": "stdout",
     "output_type": "stream",
     "text": [
      "\n",
      "Accuracy\t 0.9426676802076932\n",
      "\n",
      "Class\t\t 0\t\t1\n",
      "Precision\t 1.000\t\t0.028\n",
      "Recall\t\t 0.943\t\t0.933\n",
      "f1\t\t 0.970\t\t0.054\n",
      "Support\t\t 39804.000\t68.800\n"
     ]
    }
   ],
   "source": [
    "print_metrics_resample(X_train, y_train, svm_rbf_us, cv=5, resampler=rand_under_sampler)"
   ]
  },
  {
   "cell_type": "code",
   "execution_count": 17,
   "metadata": {},
   "outputs": [
    {
     "name": "stdout",
     "output_type": "stream",
     "text": [
      "\n",
      "Best params {'n_neighbors': 1}\n",
      "recall score: 0.9128303495311169\n",
      "Time: 97.99215722084045\n"
     ]
    }
   ],
   "source": [
    "# knn\n",
    "knn = KNeighborsClassifier()\n",
    "\n",
    "# Tuning k\n",
    "params = {'n_neighbors': [1, 2, 3, 4, 5, 6, 7, 8, 9, 10]}\n",
    "knn_us = grid_search_cv_resample(X_train, y_train, knn, params, cv=5, resampler=rand_under_sampler, metric='recall', verbose=1)"
   ]
  },
  {
   "cell_type": "code",
   "execution_count": 18,
   "metadata": {},
   "outputs": [
    {
     "name": "stdout",
     "output_type": "stream",
     "text": [
      "\n",
      "Accuracy\t 0.9360766891038759\n",
      "\n",
      "Class\t\t 0\t\t1\n",
      "Precision\t 1.000\t\t0.024\n",
      "Recall\t\t 0.936\t\t0.913\n",
      "f1\t\t 0.967\t\t0.047\n",
      "Support\t\t 39804.000\t68.800\n"
     ]
    }
   ],
   "source": [
    "print_metrics_resample(X_train, y_train, knn_us, cv=5, resampler=rand_under_sampler)"
   ]
  },
  {
   "cell_type": "code",
   "execution_count": 19,
   "metadata": {},
   "outputs": [
    {
     "name": "stdout",
     "output_type": "stream",
     "text": [
      "\n",
      "Best params {'n_estimators': 100}\n",
      "recall score: 0.9128729752770675\n",
      "Time: 13.985604047775269\n"
     ]
    }
   ],
   "source": [
    "# Random Forest\n",
    "rand_forest = RandomForestClassifier(random_state=0)\n",
    "\n",
    "# Tuning number of trees\n",
    "params = {'n_estimators': [1, 10, 100, 500]}\n",
    "rand_forest_us = grid_search_cv_resample(X_train, y_train, rand_forest, params, cv=5, resampler=rand_under_sampler, metric='recall', verbose=1)"
   ]
  },
  {
   "cell_type": "code",
   "execution_count": 20,
   "metadata": {},
   "outputs": [
    {
     "name": "stdout",
     "output_type": "stream",
     "text": [
      "\n",
      "Accuracy\t 0.9717953071427143\n",
      "\n",
      "Class\t\t 0\t\t1\n",
      "Precision\t 1.000\t\t0.054\n",
      "Recall\t\t 0.972\t\t0.913\n",
      "f1\t\t 0.986\t\t0.101\n",
      "Support\t\t 39804.000\t68.800\n"
     ]
    }
   ],
   "source": [
    "print_metrics_resample(X_train, y_train, rand_forest_us, cv=5, resampler=rand_under_sampler)"
   ]
  },
  {
   "cell_type": "markdown",
   "metadata": {},
   "source": [
    "Les classifieurs donnent tous des résultats satisfaisants. La régression logistique et la machine à vecteurs de supports sont ceux ayant les plus grands taux de détection de fraudes (\\~93%) tout en ayant des taux de classifications raisonables (\\~94%). \n",
    "\n",
    "La forêt d'arbres aléatoires a le plus haut taux de classification (\\~97%) avec un recall raisonable (\\~91%) pour la classe des fraudes. Si on se place dans la position d'une institution bancaire qui se satisfait d'un taux de détection de fraude > 90%, mais qui désire limiter absolument le taux de cas non-fraduleux incorrectement classés pour ne pas déranger inutilement sa clientèle, alors la forêt d'arbres aléatoires est le classifieur le plus intéressant."
   ]
  },
  {
   "cell_type": "markdown",
   "metadata": {},
   "source": [
    "### Undersampling par centroïdes\n",
    "\n",
    "Une autre façon de ne sélectionner qu'une partie des exemples de la classee majoritaire pour balancer les données est l'undersampling par centroïdes. Il s'agit de performer K-Mean sur l'ensemble majoritaire pour sélectionner les exemples à conserver. \n",
    "\n",
    "L'algorithme K-mean trouve le barycentre des exemples de la classes majoritaires. Dès lors, les exemples les plus loins du centroïde sont considérés comme les moins importants et on les retire jusqu'à ce que les classes soient balancées.\n",
    "\n",
    "Cette méthode s'assure alors de sélectioner des éléments moyens et typiques qui devraient bien représenter la classe majoritaire."
   ]
  },
  {
   "cell_type": "markdown",
   "metadata": {},
   "source": [
    "La méthode `grid_search_cv_resample` qui permet d'optimiser les hyperparamètres tout en _resamplant_ durant la validation croisée est assez lente à éxécuter. \n",
    "\n",
    "Une façon plus rapide de choisir les hyperparamètres est au moyen de la fonction `GridSearchCV`. Pour l'utiliser, on doit _resampler_ avant la validation croisée, ce qui implique que les ensembles de validations n'ont pas la même distribution que l'ensemble de données initial. Par contre, l'ensemble de validation _resamplé_ est balancé, alors on peut utilisé le taux de bonnes classifications comme métrique de performance dans la validation croisée.\n",
    "\n",
    "Par contre, pour avoir une véritable estimation de la performance, on resample seulement l'ensemble d'entraînement durant la validation croisée."
   ]
  },
  {
   "cell_type": "code",
   "execution_count": 21,
   "metadata": {},
   "outputs": [
    {
     "name": "stdout",
     "output_type": "stream",
     "text": [
      "2435.6418583393097\n"
     ]
    }
   ],
   "source": [
    "under_sampler = ClusterCentroids(sampling_strategy='majority', random_state=0)\n",
    "# Perform under-sampling by generating centroids based on clustering methods.\n",
    "time1 = t()\n",
    "X_resampled, y_resampled = under_sampler.fit_resample(X_train, y_train)\n",
    "time2 = t()\n",
    "print(time2-time1)"
   ]
  },
  {
   "cell_type": "code",
   "execution_count": 22,
   "metadata": {},
   "outputs": [
    {
     "name": "stdout",
     "output_type": "stream",
     "text": [
      "Fitting 5 folds for each of 7 candidates, totalling 35 fits\n"
     ]
    },
    {
     "name": "stderr",
     "output_type": "stream",
     "text": [
      "[Parallel(n_jobs=1)]: Using backend SequentialBackend with 1 concurrent workers.\n"
     ]
    },
    {
     "name": "stdout",
     "output_type": "stream",
     "text": [
      "{'C': 1, 'penalty': 'l2'}\n",
      "Meilleur résultat (moyenne des résultats de validation croisée): 0.9360414683169365\n"
     ]
    },
    {
     "name": "stderr",
     "output_type": "stream",
     "text": [
      "[Parallel(n_jobs=1)]: Done  35 out of  35 | elapsed:    1.2s finished\n"
     ]
    }
   ],
   "source": [
    "log_reg = LogisticRegression()\n",
    "params = {'penalty': ['l2'], 'C': [0.001, 0.01, 0.1, 1, 10, 100, 1000]}\n",
    "log_reg = GridSearchCV(log_reg, params, scoring='accuracy', cv=5, verbose=1)\n",
    "log_reg.fit(X_resampled, y_resampled)\n",
    "print(log_reg.best_params_)\n",
    "print('Meilleur résultat (moyenne des résultats de validation croisée):', log_reg.best_score_)\n",
    "log_reg_centroid = log_reg.best_estimator_"
   ]
  },
  {
   "cell_type": "markdown",
   "metadata": {},
   "source": [
    "Estimation (fiable) de la performance avec un ensemble de validation ayant la distribution initiale."
   ]
  },
  {
   "cell_type": "code",
   "execution_count": 23,
   "metadata": {
    "scrolled": true
   },
   "outputs": [
    {
     "name": "stdout",
     "output_type": "stream",
     "text": [
      "\n",
      "Accuracy\t 0.9618537132381668\n",
      "\n",
      "Class\t\t 0\t\t1\n",
      "Precision\t 1.000\t\t0.039\n",
      "Recall\t\t 0.962\t\t0.898\n",
      "f1\t\t 0.981\t\t0.076\n",
      "Support\t\t 39804.000\t68.800\n",
      "time 4331.329123497009\n"
     ]
    }
   ],
   "source": [
    "t1 = t()\n",
    "print_metrics_resample(X_train, y_train, log_reg_centroid, cv=5, resampler=under_sampler)\n",
    "t2 = t()\n",
    "print('time', t2-t1)"
   ]
  },
  {
   "cell_type": "markdown",
   "metadata": {},
   "source": [
    "### Évaluation"
   ]
  },
  {
   "cell_type": "markdown",
   "metadata": {},
   "source": [
    "La régression logistique avec undersampling aléatoire a su détecter le plus de fraudes sur l'ensemble de validation tout en maintenant un bon taux de classification global. Évaluons son pouvoir de généralisation sur l'ensemble de test original, dont les données qui suivent la \"vraie\" distribution sont inconnues du prédicteur."
   ]
  },
  {
   "cell_type": "code",
   "execution_count": 21,
   "metadata": {
    "scrolled": true
   },
   "outputs": [
    {
     "data": {
      "text/html": [
       "<div>\n",
       "<style scoped>\n",
       "    .dataframe tbody tr th:only-of-type {\n",
       "        vertical-align: middle;\n",
       "    }\n",
       "\n",
       "    .dataframe tbody tr th {\n",
       "        vertical-align: top;\n",
       "    }\n",
       "\n",
       "    .dataframe thead th {\n",
       "        text-align: right;\n",
       "    }\n",
       "</style>\n",
       "<table border=\"1\" class=\"dataframe\">\n",
       "  <thead>\n",
       "    <tr style=\"text-align: right;\">\n",
       "      <th></th>\n",
       "      <th>norm_amount</th>\n",
       "      <th>norm_time</th>\n",
       "      <th>V1</th>\n",
       "      <th>V2</th>\n",
       "      <th>V3</th>\n",
       "      <th>V4</th>\n",
       "      <th>V5</th>\n",
       "      <th>V6</th>\n",
       "      <th>V7</th>\n",
       "      <th>V8</th>\n",
       "      <th>...</th>\n",
       "      <th>V20</th>\n",
       "      <th>V21</th>\n",
       "      <th>V22</th>\n",
       "      <th>V23</th>\n",
       "      <th>V24</th>\n",
       "      <th>V25</th>\n",
       "      <th>V26</th>\n",
       "      <th>V27</th>\n",
       "      <th>V28</th>\n",
       "      <th>Class</th>\n",
       "    </tr>\n",
       "  </thead>\n",
       "  <tbody>\n",
       "    <tr>\n",
       "      <th>count</th>\n",
       "      <td>688.000000</td>\n",
       "      <td>688.000000</td>\n",
       "      <td>688.000000</td>\n",
       "      <td>688.000000</td>\n",
       "      <td>688.000000</td>\n",
       "      <td>688.000000</td>\n",
       "      <td>688.000000</td>\n",
       "      <td>688.000000</td>\n",
       "      <td>688.000000</td>\n",
       "      <td>688.000000</td>\n",
       "      <td>...</td>\n",
       "      <td>688.000000</td>\n",
       "      <td>688.000000</td>\n",
       "      <td>688.000000</td>\n",
       "      <td>688.000000</td>\n",
       "      <td>688.000000</td>\n",
       "      <td>688.000000</td>\n",
       "      <td>688.000000</td>\n",
       "      <td>688.000000</td>\n",
       "      <td>688.000000</td>\n",
       "      <td>688.000000</td>\n",
       "    </tr>\n",
       "    <tr>\n",
       "      <th>mean</th>\n",
       "      <td>0.060000</td>\n",
       "      <td>-0.126195</td>\n",
       "      <td>-2.444678</td>\n",
       "      <td>1.901810</td>\n",
       "      <td>-3.638969</td>\n",
       "      <td>2.121004</td>\n",
       "      <td>-1.656680</td>\n",
       "      <td>-0.696165</td>\n",
       "      <td>-2.959041</td>\n",
       "      <td>0.188744</td>\n",
       "      <td>...</td>\n",
       "      <td>0.211573</td>\n",
       "      <td>0.440964</td>\n",
       "      <td>-0.010492</td>\n",
       "      <td>-0.019214</td>\n",
       "      <td>-0.028656</td>\n",
       "      <td>0.018229</td>\n",
       "      <td>0.025031</td>\n",
       "      <td>0.105320</td>\n",
       "      <td>0.059413</td>\n",
       "      <td>0.500000</td>\n",
       "    </tr>\n",
       "    <tr>\n",
       "      <th>std</th>\n",
       "      <td>0.899612</td>\n",
       "      <td>1.020022</td>\n",
       "      <td>5.697432</td>\n",
       "      <td>3.790652</td>\n",
       "      <td>6.336778</td>\n",
       "      <td>3.284833</td>\n",
       "      <td>4.299497</td>\n",
       "      <td>1.790023</td>\n",
       "      <td>6.034797</td>\n",
       "      <td>5.425015</td>\n",
       "      <td>...</td>\n",
       "      <td>1.097614</td>\n",
       "      <td>3.184309</td>\n",
       "      <td>1.287886</td>\n",
       "      <td>1.312333</td>\n",
       "      <td>0.569880</td>\n",
       "      <td>0.683639</td>\n",
       "      <td>0.463300</td>\n",
       "      <td>1.051400</td>\n",
       "      <td>0.405133</td>\n",
       "      <td>0.500364</td>\n",
       "    </tr>\n",
       "    <tr>\n",
       "      <th>min</th>\n",
       "      <td>-0.353229</td>\n",
       "      <td>-1.992624</td>\n",
       "      <td>-30.552380</td>\n",
       "      <td>-8.402154</td>\n",
       "      <td>-31.103685</td>\n",
       "      <td>-5.231828</td>\n",
       "      <td>-22.105532</td>\n",
       "      <td>-5.773192</td>\n",
       "      <td>-43.557242</td>\n",
       "      <td>-41.044261</td>\n",
       "      <td>...</td>\n",
       "      <td>-4.128186</td>\n",
       "      <td>-22.797604</td>\n",
       "      <td>-8.887017</td>\n",
       "      <td>-19.254328</td>\n",
       "      <td>-2.028024</td>\n",
       "      <td>-4.781606</td>\n",
       "      <td>-1.329589</td>\n",
       "      <td>-7.263482</td>\n",
       "      <td>-1.552593</td>\n",
       "      <td>0.000000</td>\n",
       "    </tr>\n",
       "    <tr>\n",
       "      <th>25%</th>\n",
       "      <td>-0.346083</td>\n",
       "      <td>-1.039764</td>\n",
       "      <td>-2.870879</td>\n",
       "      <td>-0.164501</td>\n",
       "      <td>-5.181646</td>\n",
       "      <td>-0.324236</td>\n",
       "      <td>-1.864221</td>\n",
       "      <td>-1.556634</td>\n",
       "      <td>-3.152655</td>\n",
       "      <td>-0.208914</td>\n",
       "      <td>...</td>\n",
       "      <td>-0.195058</td>\n",
       "      <td>-0.166346</td>\n",
       "      <td>-0.524324</td>\n",
       "      <td>-0.254264</td>\n",
       "      <td>-0.374835</td>\n",
       "      <td>-0.314790</td>\n",
       "      <td>-0.278314</td>\n",
       "      <td>-0.062918</td>\n",
       "      <td>-0.051460</td>\n",
       "      <td>0.000000</td>\n",
       "    </tr>\n",
       "    <tr>\n",
       "      <th>50%</th>\n",
       "      <td>-0.277386</td>\n",
       "      <td>-0.233224</td>\n",
       "      <td>-0.834366</td>\n",
       "      <td>0.945278</td>\n",
       "      <td>-1.417632</td>\n",
       "      <td>1.084360</td>\n",
       "      <td>-0.483200</td>\n",
       "      <td>-0.678117</td>\n",
       "      <td>-0.744855</td>\n",
       "      <td>0.178904</td>\n",
       "      <td>...</td>\n",
       "      <td>0.048539</td>\n",
       "      <td>0.161919</td>\n",
       "      <td>0.039776</td>\n",
       "      <td>-0.033762</td>\n",
       "      <td>0.024644</td>\n",
       "      <td>0.064023</td>\n",
       "      <td>-0.020932</td>\n",
       "      <td>0.058968</td>\n",
       "      <td>0.040077</td>\n",
       "      <td>0.500000</td>\n",
       "    </tr>\n",
       "    <tr>\n",
       "      <th>75%</th>\n",
       "      <td>0.046539</td>\n",
       "      <td>0.836434</td>\n",
       "      <td>1.048206</td>\n",
       "      <td>2.825485</td>\n",
       "      <td>0.193490</td>\n",
       "      <td>4.173330</td>\n",
       "      <td>0.397083</td>\n",
       "      <td>0.093819</td>\n",
       "      <td>0.229025</td>\n",
       "      <td>0.954627</td>\n",
       "      <td>...</td>\n",
       "      <td>0.483930</td>\n",
       "      <td>0.717166</td>\n",
       "      <td>0.610616</td>\n",
       "      <td>0.202751</td>\n",
       "      <td>0.378893</td>\n",
       "      <td>0.382632</td>\n",
       "      <td>0.356523</td>\n",
       "      <td>0.468181</td>\n",
       "      <td>0.227415</td>\n",
       "      <td>1.000000</td>\n",
       "    </tr>\n",
       "    <tr>\n",
       "      <th>max</th>\n",
       "      <td>8.146182</td>\n",
       "      <td>1.608807</td>\n",
       "      <td>2.328167</td>\n",
       "      <td>22.057729</td>\n",
       "      <td>3.177069</td>\n",
       "      <td>12.114672</td>\n",
       "      <td>11.095089</td>\n",
       "      <td>6.474115</td>\n",
       "      <td>5.431271</td>\n",
       "      <td>20.007208</td>\n",
       "      <td>...</td>\n",
       "      <td>11.059004</td>\n",
       "      <td>27.202839</td>\n",
       "      <td>8.361985</td>\n",
       "      <td>5.466230</td>\n",
       "      <td>3.508563</td>\n",
       "      <td>2.208209</td>\n",
       "      <td>1.246604</td>\n",
       "      <td>3.052358</td>\n",
       "      <td>1.779364</td>\n",
       "      <td>1.000000</td>\n",
       "    </tr>\n",
       "  </tbody>\n",
       "</table>\n",
       "<p>8 rows × 31 columns</p>\n",
       "</div>"
      ],
      "text/plain": [
       "       norm_amount   norm_time          V1          V2          V3  \\\n",
       "count   688.000000  688.000000  688.000000  688.000000  688.000000   \n",
       "mean      0.060000   -0.126195   -2.444678    1.901810   -3.638969   \n",
       "std       0.899612    1.020022    5.697432    3.790652    6.336778   \n",
       "min      -0.353229   -1.992624  -30.552380   -8.402154  -31.103685   \n",
       "25%      -0.346083   -1.039764   -2.870879   -0.164501   -5.181646   \n",
       "50%      -0.277386   -0.233224   -0.834366    0.945278   -1.417632   \n",
       "75%       0.046539    0.836434    1.048206    2.825485    0.193490   \n",
       "max       8.146182    1.608807    2.328167   22.057729    3.177069   \n",
       "\n",
       "               V4          V5          V6          V7          V8  ...  \\\n",
       "count  688.000000  688.000000  688.000000  688.000000  688.000000  ...   \n",
       "mean     2.121004   -1.656680   -0.696165   -2.959041    0.188744  ...   \n",
       "std      3.284833    4.299497    1.790023    6.034797    5.425015  ...   \n",
       "min     -5.231828  -22.105532   -5.773192  -43.557242  -41.044261  ...   \n",
       "25%     -0.324236   -1.864221   -1.556634   -3.152655   -0.208914  ...   \n",
       "50%      1.084360   -0.483200   -0.678117   -0.744855    0.178904  ...   \n",
       "75%      4.173330    0.397083    0.093819    0.229025    0.954627  ...   \n",
       "max     12.114672   11.095089    6.474115    5.431271   20.007208  ...   \n",
       "\n",
       "              V20         V21         V22         V23         V24         V25  \\\n",
       "count  688.000000  688.000000  688.000000  688.000000  688.000000  688.000000   \n",
       "mean     0.211573    0.440964   -0.010492   -0.019214   -0.028656    0.018229   \n",
       "std      1.097614    3.184309    1.287886    1.312333    0.569880    0.683639   \n",
       "min     -4.128186  -22.797604   -8.887017  -19.254328   -2.028024   -4.781606   \n",
       "25%     -0.195058   -0.166346   -0.524324   -0.254264   -0.374835   -0.314790   \n",
       "50%      0.048539    0.161919    0.039776   -0.033762    0.024644    0.064023   \n",
       "75%      0.483930    0.717166    0.610616    0.202751    0.378893    0.382632   \n",
       "max     11.059004   27.202839    8.361985    5.466230    3.508563    2.208209   \n",
       "\n",
       "              V26         V27         V28       Class  \n",
       "count  688.000000  688.000000  688.000000  688.000000  \n",
       "mean     0.025031    0.105320    0.059413    0.500000  \n",
       "std      0.463300    1.051400    0.405133    0.500364  \n",
       "min     -1.329589   -7.263482   -1.552593    0.000000  \n",
       "25%     -0.278314   -0.062918   -0.051460    0.000000  \n",
       "50%     -0.020932    0.058968    0.040077    0.500000  \n",
       "75%      0.356523    0.468181    0.227415    1.000000  \n",
       "max      1.246604    3.052358    1.779364    1.000000  \n",
       "\n",
       "[8 rows x 31 columns]"
      ]
     },
     "execution_count": 21,
     "metadata": {},
     "output_type": "execute_result"
    }
   ],
   "source": [
    "# New under-sampled df to retrain with more data (We could use a random undersampler from a library as well)\n",
    "\n",
    "# Select a random sample of non-fraud exemples\n",
    "fraud_df = train_df[train_df['Class']==1]\n",
    "non_fraud_df = train_df[train_df['Class']==0]\n",
    "rdm_non_fraud_df = non_fraud_df.sample(n=fraud_df.shape[0], random_state=0)\n",
    "\n",
    "# New balanced df\n",
    "under_sample_df = pd.concat([fraud_df, rdm_non_fraud_df])\n",
    "under_sample_df = under_sample_df.sample(frac=1, random_state=0)\n",
    "\n",
    "# Split random undersample (rus) data \n",
    "X_train_rus, y_train_rus = under_sample_df.drop('Class', axis=1), under_sample_df['Class']\n",
    "\n",
    "# Less data => More variability\n",
    "under_sample_df.describe()"
   ]
  },
  {
   "cell_type": "markdown",
   "metadata": {},
   "source": [
    "Prédictions sur le test set."
   ]
  },
  {
   "cell_type": "code",
   "execution_count": 22,
   "metadata": {
    "scrolled": true
   },
   "outputs": [
    {
     "name": "stdout",
     "output_type": "stream",
     "text": [
      "Performance de régression logistique entraînée avec sub-sampling aléatoire sur l'ensemble test \n",
      "\n",
      "Accuracy: 0.926243226478471\n",
      "\n",
      "true positives\tfalse positives\tfalse negatives\ttrue negatives\n",
      "79007\t\t6288\t\t14\t\t134\n",
      "\n",
      "Class\t\t 0\t\t1\n",
      "Precision\t 1.00\t\t0.02\n",
      "recall\t\t 0.93\t\t0.91\n",
      "f1\t\t 0.96\t\t0.04\n",
      "support\t\t 85295.00\t148.00\n"
     ]
    }
   ],
   "source": [
    "log_reg_us.fit(X_train_rus, y_train_rus)\n",
    "predictions = log_reg_us.predict(X_test)\n",
    "print_metrics(y_test, predictions, 'Performance de régression logistique entraînée avec sub-sampling aléatoire sur l\\'ensemble test')"
   ]
  },
  {
   "cell_type": "markdown",
   "metadata": {},
   "source": [
    "La performance s'est un peu dégradée sur l'ensemble de test. On détecte tout de même 91% des fraudes."
   ]
  },
  {
   "cell_type": "code",
   "execution_count": 23,
   "metadata": {},
   "outputs": [
    {
     "data": {
      "image/png": "[encoded data removed]",
      "text/plain": [
       "<Figure size 432x288 with 2 Axes>"
      ]
     },
     "metadata": {
      "needs_background": "light"
     },
     "output_type": "display_data"
    }
   ],
   "source": [
    "# Confusion matrix\n",
    "np.set_printoptions(precision=2)\n",
    "\n",
    "disp = plot_confusion_matrix(log_reg_us, X_test, y_test,\n",
    "                                 display_labels=[\"Normal\", \"Fraude\"],\n",
    "                                 cmap=plt.cm.Blues,\n",
    "                                 normalize=None)\n",
    "disp.ax_.set_title('Matrice de confusion de la régression logistique avec undersampling aléatoire')\n",
    "\n",
    "plt.show()"
   ]
  },
  {
   "cell_type": "code",
   "execution_count": 24,
   "metadata": {},
   "outputs": [
    {
     "name": "stdout",
     "output_type": "stream",
     "text": [
      "Roc Auc score 0.9158423943610648\n"
     ]
    }
   ],
   "source": [
    "roc_auc_reg = roc_auc_score(y_test, predictions)\n",
    "print('Roc Auc score', roc_auc_reg)"
   ]
  },
  {
   "cell_type": "code",
   "execution_count": 25,
   "metadata": {},
   "outputs": [
    {
     "data": {
      "image/png": "[encoded data removed]",
      "text/plain": [
       "<Figure size 432x288 with 1 Axes>"
      ]
     },
     "metadata": {
      "needs_background": "light"
     },
     "output_type": "display_data"
    },
    {
     "data": {
      "image/png": "[encoded data removed]",
      "text/plain": [
       "<Figure size 432x288 with 1 Axes>"
      ]
     },
     "metadata": {
      "needs_background": "light"
     },
     "output_type": "display_data"
    }
   ],
   "source": [
    "decision_function = log_reg_us.decision_function(X_test)\n",
    "\n",
    "# ROC curves\n",
    "log_reg_fpr, log_reg_tpr, log_reg_thresholds = roc_curve(y_test, decision_function)\n",
    "\n",
    "plt.title('courbe ROC')\n",
    "plt.plot(log_reg_fpr, log_reg_tpr, label='Régression logistique')\n",
    "plt.xlabel('taux de faux positifs')\n",
    "plt.ylabel('taux de vrais positifs')\n",
    "plt.legend(loc='best')\n",
    "plt.show()\n",
    "\n",
    "# Precision-Recall curves\n",
    "log_reg_precision, log_reg_recall, log_reg_thresholds = precision_recall_curve(y_test, decision_function)\n",
    "\n",
    "plt.title('Courbe precision-recall')\n",
    "plt.plot(log_reg_precision, log_reg_recall, label='Régression logistique')\n",
    "plt.xlabel('precision')\n",
    "plt.ylabel('recall')\n",
    "plt.legend(loc='best')\n",
    "plt.show()"
   ]
  },
  {
   "cell_type": "markdown",
   "metadata": {},
   "source": [
    "On peut s'amuser à observer l'effet du threshold pour la classification. Peut-être peut-on gagné un peu d'accuracy sans trop diminuer le recall pour la classe 1."
   ]
  },
  {
   "cell_type": "code",
   "execution_count": 26,
   "metadata": {},
   "outputs": [
    {
     "name": "stdout",
     "output_type": "stream",
     "text": [
      "\n",
      "Threshold= 0.0\n",
      "Accuracy= 0.0017321489179921118\n",
      "true positives\tfalse positives\tfalse negatives\ttrue negatives\n",
      "0\t\t85295\t\t0\t\t148\n",
      "Precision= 0.0017321489179921118\n",
      "Recall= 1.0\n",
      "\n",
      "Threshold= 0.1\n",
      "Accuracy= 0.7834579778331753\n",
      "true positives\tfalse positives\tfalse negatives\ttrue negatives\n",
      "66800\t\t18495\t\t7\t\t141\n",
      "Precision= 0.0075660012878300065\n",
      "Recall= 0.9527027027027027\n",
      "\n",
      "Threshold= 0.2\n",
      "Accuracy= 0.8505319335697482\n",
      "true positives\tfalse positives\tfalse negatives\ttrue negatives\n",
      "72533\t\t12762\t\t9\t\t139\n",
      "Precision= 0.010774358576854508\n",
      "Recall= 0.9391891891891891\n",
      "\n",
      "Threshold= 0.3\n",
      "Accuracy= 0.8852685416008333\n",
      "true positives\tfalse positives\tfalse negatives\ttrue negatives\n",
      "75504\t\t9791\t\t12\t\t136\n",
      "Precision= 0.01370001007353682\n",
      "Recall= 0.918918918918919\n",
      "\n",
      "Threshold= 0.4\n",
      "Accuracy= 0.9083716629799984\n",
      "true positives\tfalse positives\tfalse negatives\ttrue negatives\n",
      "77479\t\t7816\t\t13\t\t135\n",
      "Precision= 0.016978996352660043\n",
      "Recall= 0.9121621621621622\n",
      "\n",
      "Threshold= 0.5\n",
      "Accuracy= 0.926243226478471\n",
      "true positives\tfalse positives\tfalse negatives\ttrue negatives\n",
      "79007\t\t6288\t\t14\t\t134\n",
      "Precision= 0.02086577390221115\n",
      "Recall= 0.9054054054054054\n",
      "\n",
      "Threshold= 0.6\n",
      "Accuracy= 0.941200566459511\n",
      "true positives\tfalse positives\tfalse negatives\ttrue negatives\n",
      "80285\t\t5010\t\t14\t\t134\n",
      "Precision= 0.026049766718507\n",
      "Recall= 0.9054054054054054\n",
      "\n",
      "Threshold= 0.7\n",
      "Accuracy= 0.9535011645190361\n",
      "true positives\tfalse positives\tfalse negatives\ttrue negatives\n",
      "81336\t\t3959\t\t14\t\t134\n",
      "Precision= 0.032738822379672614\n",
      "Recall= 0.9054054054054054\n",
      "\n",
      "Threshold= 0.8\n",
      "Accuracy= 0.9652282808421989\n",
      "true positives\tfalse positives\tfalse negatives\ttrue negatives\n",
      "82340\t\t2955\t\t16\t\t132\n",
      "Precision= 0.042759961127308066\n",
      "Recall= 0.8918918918918919\n",
      "\n",
      "Threshold= 0.9\n",
      "Accuracy= 0.9763819154289994\n",
      "true positives\tfalse positives\tfalse negatives\ttrue negatives\n",
      "83296\t\t1999\t\t19\t\t129\n",
      "Precision= 0.0606203007518797\n",
      "Recall= 0.8716216216216216\n"
     ]
    }
   ],
   "source": [
    "thresholds = np.arange(0, 100, 10)/100 # For fraud\n",
    "\n",
    "predictions_proba = log_reg_us.predict_proba(X_test)[:,-1]\n",
    "\n",
    "for threshold in thresholds:\n",
    "    # Prediction\n",
    "    predictions = (predictions_proba >= threshold).astype(int)\n",
    "    \n",
    "    # Quality \n",
    "    confusion_m = confusion_matrix(y_test, predictions)\n",
    "    tn, fp, fn, tp = confusion_m.ravel()\n",
    "    print('\\nThreshold=', threshold)\n",
    "    print('Accuracy=', accuracy_score(y_test, predictions))\n",
    "    print('true positives\\tfalse positives\\tfalse negatives\\ttrue negatives')\n",
    "    print('%.0f\\t\\t%.0f\\t\\t%.0f\\t\\t%.0f'% (tn, fp, fn, tp))\n",
    "    print('Precision=', precision_score(y_test, predictions))\n",
    "    print('Recall=', recall_score(y_test, predictions))"
   ]
  },
  {
   "cell_type": "markdown",
   "metadata": {},
   "source": [
    "Dépendemment du contexte, on pourrait choisir différents thresholds. Avec des thresholds de 0.7 ou 0.8 on a des performances semblables à celle de la forêt d'arbres aléatoires."
   ]
  },
  {
   "cell_type": "markdown",
   "metadata": {},
   "source": [
    "## Oversampling\n",
    "\n",
    "L'idée est de générer des exemples de la classe minoritaire.\n",
    "\n",
    "Il est particulièrement important d'oversampler durant la validation croisée. Si on duplique des exemples avant la validation croiée, alors ils pourront se retrouver à la fois dans l'ensemble d'entraînement et l'ensemble de validation et ainsi donner lieu à du sur apprentissage."
   ]
  },
  {
   "cell_type": "markdown",
   "metadata": {},
   "source": [
    "### SMOTE\n",
    "\n",
    "La classe minoritaire est augmentée en ajoutant des exemples synthétiques sur les lignes séparant les exemples de leurs plus proches voisins. Les exemples synthétiques sont générés en prenant la différence entre l'exemple courant et un de ses plus propres voisins. La différence est multipliée par un nombre aléatoire entre 0 et 1 pour finalement être additionnée à l'exemple considéré. Ceci revient à créer un exemple le long du segment rejoignant l'exemple de son voisin.\n",
    "<img src=\"https://www.researchgate.net/publication/287601878/figure/fig1/AS:316826589384744@1452548753581/The-schematic-of-NRSBoundary-SMOTE-algorithm.png\" alt=\"Smote\" height=\"400\" width=\"400\">\n",
    "[source](https://www.researchgate.net/publication/287601878/figure/fig1/AS:316826589384744@1452548753581/The-schematic-of-NRSBoundary-SMOTE-algorithm.png)\n",
    "\n",
    "SMOTE rend la frontière de décision plus générale."
   ]
  },
  {
   "cell_type": "code",
   "execution_count": 27,
   "metadata": {},
   "outputs": [],
   "source": [
    "smote = SMOTE(sampling_strategy='minority', random_state=0)"
   ]
  },
  {
   "cell_type": "code",
   "execution_count": 28,
   "metadata": {},
   "outputs": [
    {
     "name": "stdout",
     "output_type": "stream",
     "text": [
      "\n",
      "Best params {'C': 0.001, 'penalty': 'l2'}\n",
      "recall score: 0.9012787723785166\n",
      "Time: 119.9086434841156\n"
     ]
    }
   ],
   "source": [
    "# Logistic Regression\n",
    "log_reg = LogisticRegression()\n",
    "\n",
    "# Tuning penalty and regularization using cross validation\n",
    "params = {'penalty': ['l2'], 'C': [0.001, 0.01, 0.1, 1, 10, 100, 1000]}\n",
    "log_reg_smote = grid_search_cv_resample(X_train, y_train, log_reg, params, cv=5, resampler=smote, metric='recall', verbose=True)"
   ]
  },
  {
   "cell_type": "code",
   "execution_count": 29,
   "metadata": {},
   "outputs": [
    {
     "name": "stdout",
     "output_type": "stream",
     "text": [
      "\n",
      "Accuracy\t 0.9790383342262163\n",
      "\n",
      "Class\t\t 0\t\t1\n",
      "Precision\t 1.000\t\t0.070\n",
      "Recall\t\t 0.979\t\t0.901\n",
      "f1\t\t 0.989\t\t0.130\n",
      "Support\t\t 39804.000\t68.800\n"
     ]
    }
   ],
   "source": [
    "print_metrics_resample(X_train, y_train, log_reg_smote, cv=5, resampler=smote)"
   ]
  },
  {
   "cell_type": "markdown",
   "metadata": {},
   "source": [
    "### ADASYN\n",
    "\n",
    "Ceci est une variante de SMOTE mais qui ajoute un peu de variabilité aux exemples synthétiques pour qu'ils ne se retrouvent pas exactement sur le segment de droite entre les exemples."
   ]
  },
  {
   "cell_type": "code",
   "execution_count": 30,
   "metadata": {},
   "outputs": [],
   "source": [
    "adasyn = ADASYN(sampling_strategy='minority', random_state=0, n_neighbors=5, n_jobs=1)"
   ]
  },
  {
   "cell_type": "code",
   "execution_count": 31,
   "metadata": {},
   "outputs": [
    {
     "name": "stdout",
     "output_type": "stream",
     "text": [
      "\n",
      "Best params {'C': 0.001, 'penalty': 'l2'}\n",
      "recall score: 0.9361040068201193\n",
      "Time: 211.53856873512268\n"
     ]
    }
   ],
   "source": [
    "# Logistic Regression\n",
    "log_reg = LogisticRegression()\n",
    "\n",
    "# Tuning penalty and regularization using cross validation\n",
    "params = {'penalty': ['l2'], 'C': [0.001, 0.01, 0.1, 1, 10, 100, 1000]}\n",
    "log_reg_adasyn = grid_search_cv_resample(X_train, y_train, log_reg, params, cv=5, resampler=adasyn, metric='recall', verbose=True)"
   ]
  },
  {
   "cell_type": "code",
   "execution_count": 32,
   "metadata": {
    "scrolled": true
   },
   "outputs": [
    {
     "name": "stdout",
     "output_type": "stream",
     "text": [
      "\n",
      "Accuracy\t 0.918947253738485\n",
      "\n",
      "Class\t\t 0\t\t1\n",
      "Precision\t 1.000\t\t0.020\n",
      "Recall\t\t 0.919\t\t0.936\n",
      "f1\t\t 0.958\t\t0.038\n",
      "Support\t\t 39804.000\t68.800\n"
     ]
    }
   ],
   "source": [
    "print_metrics_resample(X_train, y_train, log_reg_adasyn, cv=5, resampler=adasyn)"
   ]
  },
  {
   "cell_type": "markdown",
   "metadata": {},
   "source": [
    "### Évaluation\n",
    "\n",
    "Les résultats de SMOTE sont bons, en particulier si on souhaite ne pas bloquer des cartes inutilement (recall 98% pour la classe 0)"
   ]
  },
  {
   "cell_type": "code",
   "execution_count": 33,
   "metadata": {
    "scrolled": false
   },
   "outputs": [
    {
     "name": "stdout",
     "output_type": "stream",
     "text": [
      " \n",
      "\n",
      "Accuracy: 0.9785705089943003\n",
      "\n",
      "true positives\tfalse positives\tfalse negatives\ttrue negatives\n",
      "83477\t\t1818\t\t13\t\t135\n",
      "\n",
      "Class\t\t 0\t\t1\n",
      "Precision\t 1.00\t\t0.07\n",
      "recall\t\t 0.98\t\t0.91\n",
      "f1\t\t 0.99\t\t0.13\n",
      "support\t\t 85295.00\t148.00\n"
     ]
    }
   ],
   "source": [
    "X_train_smote, y_train_smote = smote.fit_resample(X_train, y_train)\n",
    "\n",
    "log_reg_smote.fit(X_train_smote, y_train_smote)\n",
    "\n",
    "predictions = log_reg_smote.predict(X_test)\n",
    "\n",
    "print_metrics(y_test, predictions)"
   ]
  },
  {
   "cell_type": "code",
   "execution_count": 34,
   "metadata": {},
   "outputs": [
    {
     "data": {
      "image/png": "[encoded data removed]",
      "text/plain": [
       "<Figure size 432x288 with 2 Axes>"
      ]
     },
     "metadata": {
      "needs_background": "light"
     },
     "output_type": "display_data"
    }
   ],
   "source": [
    "# Confusion matrix\n",
    "np.set_printoptions(precision=2)\n",
    "\n",
    "disp = plot_confusion_matrix(log_reg_smote, X_test, y_test,\n",
    "                                 display_labels=[\"Normal\", \"Fraude\"],\n",
    "                                 cmap=plt.cm.Reds,\n",
    "                                 normalize=None)\n",
    "disp.ax_.set_title('Matrice de confusion régression logistique avec SMOTE')\n",
    "\n",
    "plt.show()"
   ]
  },
  {
   "cell_type": "code",
   "execution_count": 35,
   "metadata": {},
   "outputs": [
    {
     "name": "stdout",
     "output_type": "stream",
     "text": [
      "Roc Auc score 0.945423949947955\n"
     ]
    }
   ],
   "source": [
    "roc_auc_reg_smote = roc_auc_score(y_test, predictions)\n",
    "print('Roc Auc score', roc_auc_reg_smote)"
   ]
  },
  {
   "cell_type": "markdown",
   "metadata": {},
   "source": [
    "## Discussion sampling\n",
    "\n",
    "Sampling:\n",
    "\n",
    "Introduction d'un biais pour compenser le risque de surapprentissage. Beaucoup d'algorithme n'ont pas d'implémentationss sensibles aux fonctions de coûts non-uniforme. \n",
    "\n",
    "Undersampling:\n",
    "\n",
    "- Rapide à entraîner (peu de données) Beaucoup de data-set débalancés ont énormément de données et l'undersampling rend l'entraînement faisable.\n",
    "\n",
    "- Rejette potentiellement des données utiles \n",
    "\n",
    "Oversampling:\n",
    "\n",
    "- risque de surraprendre en dupliquant le bruit et les données aberrantes\n",
    "    (idée pour la suite: faire plus de pre-processing pour palier ce problème)\n",
    "\n",
    "https://stats.stackexchange.com/questions/234016/opinions-about-oversampling-in-general-and-the-smote-algorithm-in-particular"
   ]
  },
  {
   "cell_type": "markdown",
   "metadata": {},
   "source": [
    "## Réseaux de neurones\n"
   ]
  },
  {
   "cell_type": "code",
   "execution_count": 36,
   "metadata": {},
   "outputs": [],
   "source": [
    "np.random.seed(0)"
   ]
  },
  {
   "cell_type": "code",
   "execution_count": 37,
   "metadata": {},
   "outputs": [],
   "source": [
    "# hyperparameter tuning\n",
    "def NN_gs_resample(X_train_nn, \n",
    "                   X_val_nn, \n",
    "                   y_train_nn, \n",
    "                   y_val_nn, \n",
    "                   model, \n",
    "                   train_hyperparams, \n",
    "                   compile_hyperparams,\n",
    "                   roc_auc=False,\n",
    "                   resampler=None, \n",
    "                   verbose=True):\n",
    "    best_compile, best_train = [], []\n",
    "    best_score = 0 if roc_auc else [np.inf, 0]\n",
    "    \n",
    "    X_train_nn_us, y_train_nn_us = X_train_nn, y_train_nn\n",
    "    \n",
    "    if resampler is not None:\n",
    "        X_train_nn_us, y_train_nn_us = resampler.fit_resample(X_train_nn, y_train_nn)\n",
    "    \n",
    "    for compile_hyperparams_combinaison in ParameterGrid(compile_hyperparams):\n",
    "        \n",
    "        if verbose:\n",
    "            print('\\n', compile_hyperparams_combinaison)\n",
    "            \n",
    "        model.compile(**compile_hyperparams_combinaison)\n",
    "        \n",
    "        for train_hyperparams_combinaison in ParameterGrid(train_hyperparams):\n",
    "            \n",
    "            time1 = t()\n",
    "            if verbose:\n",
    "                print('\\n\\t', train_hyperparams_combinaison)\n",
    "            \n",
    "            model.fit(X_train_nn_us,\n",
    "                      y_train_nn_us,\n",
    "                      validation_split=0,\n",
    "                      **train_hyperparams_combinaison)\n",
    "            \n",
    "            if roc_auc:\n",
    "                predictions = np.argmax(model.predict(X_val_nn), axis=1)\n",
    "                score = roc_auc_score(y_val_nn, predictions)\n",
    "                if score > best_score:\n",
    "                    best_compile = compile_hyperparams_combinaison\n",
    "                    best_train = train_hyperparams_combinaison\n",
    "                    best_score = score\n",
    "            else:\n",
    "                score = model.evaluate(X_val_nn, y_val_nn, verbose=0)\n",
    "                if score[0] < best_score[0]:\n",
    "                    best_compile = compile_hyperparams_combinaison\n",
    "                    best_train = train_hyperparams_combinaison\n",
    "                    best_score = score\n",
    "            \n",
    "            time2 = t()\n",
    "            if verbose:\n",
    "                print('\\tscore', score)\n",
    "                print('\\ttime', time2 - time1)\n",
    "    \n",
    "    if verbose:\n",
    "        print('\\nbest compile', best_compile, '\\nbest train', best_train, '\\nbest score', best_score)\n",
    "                \n",
    "    return (best_compile, best_train)\n"
   ]
  },
  {
   "cell_type": "code",
   "execution_count": 38,
   "metadata": {},
   "outputs": [],
   "source": [
    "def learning_curves(history):\n",
    "    train_loss = history.history['loss']\n",
    "    train_acc = history.history['accuracy']\n",
    "    val_loss = history.history['val_loss']\n",
    "    val_acc = history.history['val_accuracy']\n",
    "    epoch = range(1, len(train_loss)+1,1)\n",
    "    fig = plt.figure(figsize=(16,8))\n",
    "    ax1 = fig.add_subplot(221)\n",
    "    ax1.set_title(\"Loss / epoch\")\n",
    "    plt.plot(epoch, train_loss, label=\"training loss\")\n",
    "    plt.plot(epoch, val_loss, label=\"validation loss\")\n",
    "    ax1.set_xlabel(\"epoch\")\n",
    "    ax1.set_ylabel(\"loss\")\n",
    "    plt.legend()\n",
    "    ax2 = fig.add_subplot(222)\n",
    "    ax2.set_title('Accuracy / epoch')\n",
    "    plt.plot(epoch, train_acc, label=\"training accuracy\")\n",
    "    plt.plot(epoch, val_acc, label=\"validation accuracy\")\n",
    "    ax2.set_xlabel(\"epoch\")\n",
    "    ax2.set_ylabel(\"accuracy\")\n",
    "    plt.legend()\n",
    "    ax2.set_title(\"accuracy / epoch\")"
   ]
  },
  {
   "cell_type": "markdown",
   "metadata": {},
   "source": [
    "### Undersampling aléatoire\n",
    "\n",
    "Entraînons différents modèles ayant différentes architectures. Commençons par entraîner un réseau simple MLP avec une couche cachée de 8 neurones avec activation _relu_ et sortie _sigmoig_."
   ]
  },
  {
   "cell_type": "code",
   "execution_count": 39,
   "metadata": {},
   "outputs": [],
   "source": [
    "# Architecture\n",
    "model1 = Sequential([\n",
    "    Dense(units=8, input_dim=30, activation=\"relu\"),\n",
    "    Dense(2, activation=\"sigmoid\"),\n",
    "])\n",
    "\n",
    "model2 = Sequential([\n",
    "    Dense(units=8, input_dim=30, activation=\"relu\"),\n",
    "    Dense(units=12, activation=\"relu\"),\n",
    "    Dense(units=18, activation=\"relu\"),\n",
    "    Dense(2, activation=\"softmax\"),\n",
    "])\n",
    "\n",
    "# sgd = optimizers.SGD(lr=0.01, decay=1e-6, momentum=0.9, nesterov=True)\n",
    "\n",
    "# To tune\n",
    "train_hyperparams = {'batch_size': [1, 8, 32, 64], # number of samples to work through before updating the internal model parameters\n",
    "                    'epochs': [10, 20, 30], # number times that the learning algorithm will work through the entire training dataset\n",
    "                    'shuffle': [True],\n",
    "                    'verbose': [0]}\n",
    "compile_hyperparams = {'optimizer': ['Adam'],\n",
    "                      'loss': ['sparse_categorical_crossentropy'],\n",
    "                      'metrics': [['accuracy']]}\n"
   ]
  },
  {
   "cell_type": "markdown",
   "metadata": {},
   "source": [
    "Qu'est-ce qui se passe si on resample avant de faire la fouille exhaustive des hyperparamètres?"
   ]
  },
  {
   "cell_type": "code",
   "execution_count": 40,
   "metadata": {},
   "outputs": [],
   "source": [
    "# Split train-val\n",
    "X_train_nn, X_val_nn, y_train_nn, y_val_nn = train_test_split(X_train_rus.values, # balanced\n",
    "                                                              y_train_rus.values,\n",
    "                                                              test_size=0.3,\n",
    "                                                              random_state=0,\n",
    "                                                              stratify=y_train_rus\n",
    "                                                             )"
   ]
  },
  {
   "cell_type": "code",
   "execution_count": 41,
   "metadata": {
    "scrolled": true
   },
   "outputs": [
    {
     "name": "stdout",
     "output_type": "stream",
     "text": [
      "\n",
      " {'loss': 'sparse_categorical_crossentropy', 'metrics': ['accuracy'], 'optimizer': 'Adam'}\n",
      "\n",
      "\t {'batch_size': 1, 'epochs': 10, 'shuffle': True, 'verbose': 0}\n",
      "WARNING:tensorflow:Entity <function Function._initialize_uninitialized_variables.<locals>.initialize_variables at 0x00000201CCEF2AE8> could not be transformed and will be executed as-is. Please report this to the AutoGraph team. When filing the bug, set the verbosity to 10 (on Linux, `export AUTOGRAPH_VERBOSITY=10`) and attach the full output. Cause: module 'gast' has no attribute 'Num'\n",
      "WARNING: Entity <function Function._initialize_uninitialized_variables.<locals>.initialize_variables at 0x00000201CCEF2AE8> could not be transformed and will be executed as-is. Please report this to the AutoGraph team. When filing the bug, set the verbosity to 10 (on Linux, `export AUTOGRAPH_VERBOSITY=10`) and attach the full output. Cause: module 'gast' has no attribute 'Num'\n",
      "\tscore [0.19023506235385287, 0.93719804]\n",
      "\ttime 4.915644884109497\n",
      "\n",
      "\t {'batch_size': 1, 'epochs': 20, 'shuffle': True, 'verbose': 0}\n",
      "\tscore [0.33871269773169993, 0.93719804]\n",
      "\ttime 8.782233476638794\n",
      "\n",
      "\t {'batch_size': 1, 'epochs': 30, 'shuffle': True, 'verbose': 0}\n",
      "\tscore [0.51924310962935, 0.92753625]\n",
      "\ttime 12.375714302062988\n",
      "\n",
      "\t {'batch_size': 8, 'epochs': 10, 'shuffle': True, 'verbose': 0}\n",
      "\tscore [0.5249240329300148, 0.92753625]\n",
      "\ttime 0.7514657974243164\n",
      "\n",
      "\t {'batch_size': 8, 'epochs': 20, 'shuffle': True, 'verbose': 0}\n",
      "\tscore [0.5401031487229941, 0.92753625]\n",
      "\ttime 1.2046101093292236\n",
      "\n",
      "\t {'batch_size': 8, 'epochs': 30, 'shuffle': True, 'verbose': 0}\n",
      "\tscore [0.5765994908153147, 0.9227053]\n",
      "\ttime 1.8587892055511475\n",
      "\n",
      "\t {'batch_size': 32, 'epochs': 10, 'shuffle': True, 'verbose': 0}\n",
      "\tscore [0.5785071521565535, 0.9227053]\n",
      "\ttime 0.20705080032348633\n",
      "\n",
      "\t {'batch_size': 32, 'epochs': 20, 'shuffle': True, 'verbose': 0}\n",
      "\tscore [0.5867726946798499, 0.9227053]\n",
      "\ttime 0.36756014823913574\n",
      "\n",
      "\t {'batch_size': 32, 'epochs': 30, 'shuffle': True, 'verbose': 0}\n",
      "\tscore [0.5974710108577341, 0.92753625]\n",
      "\ttime 0.5273001194000244\n",
      "\n",
      "\t {'batch_size': 64, 'epochs': 10, 'shuffle': True, 'verbose': 0}\n",
      "\tscore [0.5992498236577868, 0.92753625]\n",
      "\ttime 0.12859416007995605\n",
      "\n",
      "\t {'batch_size': 64, 'epochs': 20, 'shuffle': True, 'verbose': 0}\n",
      "\tscore [0.6030975344100437, 0.92753625]\n",
      "\ttime 0.21059679985046387\n",
      "\n",
      "\t {'batch_size': 64, 'epochs': 30, 'shuffle': True, 'verbose': 0}\n",
      "\tscore [0.6102412760545666, 0.92753625]\n",
      "\ttime 0.3711268901824951\n",
      "\n",
      "best compile {'loss': 'sparse_categorical_crossentropy', 'metrics': ['accuracy'], 'optimizer': 'Adam'} \n",
      "best train {'batch_size': 1, 'epochs': 10, 'shuffle': True, 'verbose': 0} \n",
      "best score [0.19023506235385287, 0.93719804]\n"
     ]
    }
   ],
   "source": [
    "# Grid search on balanced set\n",
    "best_compile1, best_train1 = NN_gs_resample(X_train_nn, \n",
    "                                          X_val_nn, \n",
    "                                          y_train_nn, \n",
    "                                          y_val_nn, \n",
    "                                          model1, \n",
    "                                          train_hyperparams, \n",
    "                                          compile_hyperparams, \n",
    "                                          verbose=True)"
   ]
  },
  {
   "cell_type": "code",
   "execution_count": 43,
   "metadata": {
    "scrolled": true
   },
   "outputs": [
    {
     "name": "stdout",
     "output_type": "stream",
     "text": [
      "WARNING:tensorflow:Entity <function Function._initialize_uninitialized_variables.<locals>.initialize_variables at 0x00000201CEE0E400> could not be transformed and will be executed as-is. Please report this to the AutoGraph team. When filing the bug, set the verbosity to 10 (on Linux, `export AUTOGRAPH_VERBOSITY=10`) and attach the full output. Cause: module 'gast' has no attribute 'Num'\n",
      "WARNING: Entity <function Function._initialize_uninitialized_variables.<locals>.initialize_variables at 0x00000201CEE0E400> could not be transformed and will be executed as-is. Please report this to the AutoGraph team. When filing the bug, set the verbosity to 10 (on Linux, `export AUTOGRAPH_VERBOSITY=10`) and attach the full output. Cause: module 'gast' has no attribute 'Num'\n",
      " \n",
      "\n",
      "Accuracy: 0.927536231884058\n",
      "\n",
      "true positives\tfalse positives\tfalse negatives\ttrue negatives\n",
      "98\t\t6\t\t9\t\t94\n",
      "\n",
      "Class\t\t 0\t\t1\n",
      "Precision\t 0.92\t\t0.94\n",
      "recall\t\t 0.94\t\t0.91\n",
      "f1\t\t 0.93\t\t0.93\n",
      "support\t\t 104.00\t103.00\n"
     ]
    }
   ],
   "source": [
    "model1.compile(**best_compile1)\n",
    "history = model1.fit(X_train_nn, y_train_nn, **best_train1)\n",
    "predictions = np.argmax(model1.predict(X_val_nn), axis=1)\n",
    "print_metrics(y_val_nn, predictions) # y_val is balanced => overfitted evaluation"
   ]
  },
  {
   "cell_type": "markdown",
   "metadata": {},
   "source": [
    "Voyons lorsqu'on resample l'ensemble d'entraînement seulement."
   ]
  },
  {
   "cell_type": "code",
   "execution_count": 44,
   "metadata": {},
   "outputs": [],
   "source": [
    "# Split train-val\n",
    "X_train_nn, X_val_nn, y_train_nn, y_val_nn = train_test_split(X_train,\n",
    "                                                              y_train,\n",
    "                                                              test_size=0.3,\n",
    "                                                              random_state=0,\n",
    "                                                              stratify=y_train)"
   ]
  },
  {
   "cell_type": "code",
   "execution_count": 45,
   "metadata": {
    "scrolled": true
   },
   "outputs": [
    {
     "name": "stdout",
     "output_type": "stream",
     "text": [
      "\n",
      " {'loss': 'sparse_categorical_crossentropy', 'metrics': ['accuracy'], 'optimizer': 'Adam'}\n",
      "\n",
      "\t {'batch_size': 1, 'epochs': 10, 'shuffle': True, 'verbose': 0}\n",
      "WARNING:tensorflow:Entity <function Function._initialize_uninitialized_variables.<locals>.initialize_variables at 0x00000201CEE0EEA0> could not be transformed and will be executed as-is. Please report this to the AutoGraph team. When filing the bug, set the verbosity to 10 (on Linux, `export AUTOGRAPH_VERBOSITY=10`) and attach the full output. Cause: module 'gast' has no attribute 'Num'\n",
      "WARNING: Entity <function Function._initialize_uninitialized_variables.<locals>.initialize_variables at 0x00000201CEE0EEA0> could not be transformed and will be executed as-is. Please report this to the AutoGraph team. When filing the bug, set the verbosity to 10 (on Linux, `export AUTOGRAPH_VERBOSITY=10`) and attach the full output. Cause: module 'gast' has no attribute 'Num'\n",
      "\tscore 0.9401152488828537\n",
      "\ttime 5.679007530212402\n",
      "\n",
      "\t {'batch_size': 1, 'epochs': 20, 'shuffle': True, 'verbose': 0}\n",
      "\tscore 0.9338791324170249\n",
      "\ttime 9.769432306289673\n",
      "\n",
      "\t {'batch_size': 1, 'epochs': 30, 'shuffle': True, 'verbose': 0}\n",
      "\tscore 0.9273526009944029\n",
      "\ttime 14.673547744750977\n",
      "\n",
      "\t {'batch_size': 8, 'epochs': 10, 'shuffle': True, 'verbose': 0}\n",
      "\tscore 0.9266324174313365\n",
      "\ttime 2.0590152740478516\n",
      "\n",
      "\t {'batch_size': 8, 'epochs': 20, 'shuffle': True, 'verbose': 0}\n",
      "\tscore 0.926816650435842\n",
      "\ttime 2.697854518890381\n",
      "\n",
      "\t {'batch_size': 8, 'epochs': 30, 'shuffle': True, 'verbose': 0}\n",
      "\tscore 0.9271683679898977\n",
      "\ttime 3.551502227783203\n",
      "\n",
      "\t {'batch_size': 32, 'epochs': 10, 'shuffle': True, 'verbose': 0}\n",
      "\tscore 0.9272521102646727\n",
      "\ttime 1.4076335430145264\n",
      "\n",
      "\t {'batch_size': 32, 'epochs': 20, 'shuffle': True, 'verbose': 0}\n",
      "\tscore 0.9269673865304373\n",
      "\ttime 1.4176828861236572\n",
      "\n",
      "\t {'batch_size': 32, 'epochs': 30, 'shuffle': True, 'verbose': 0}\n",
      "\tscore 0.9269003927106172\n",
      "\ttime 1.7154145240783691\n",
      "\n",
      "\t {'batch_size': 64, 'epochs': 10, 'shuffle': True, 'verbose': 0}\n",
      "\tscore 0.9269171411655721\n",
      "\ttime 1.4012508392333984\n",
      "\n",
      "\t {'batch_size': 64, 'epochs': 20, 'shuffle': True, 'verbose': 0}\n",
      "\tscore 0.9269590123029597\n",
      "\ttime 1.5460076332092285\n",
      "\n",
      "\t {'batch_size': 64, 'epochs': 30, 'shuffle': True, 'verbose': 0}\n",
      "\tscore 0.9269925092128698\n",
      "\ttime 1.7137246131896973\n",
      "\n",
      "best compile {'loss': 'sparse_categorical_crossentropy', 'metrics': ['accuracy'], 'optimizer': 'Adam'} \n",
      "best train {'batch_size': 1, 'epochs': 10, 'shuffle': True, 'verbose': 0} \n",
      "best score 0.9401152488828537\n"
     ]
    }
   ],
   "source": [
    "# Grid search\n",
    "best_compile1, best_train1 = NN_gs_resample(X_train_nn,\n",
    "                                          X_val_nn,\n",
    "                                          y_train_nn,\n",
    "                                          y_val_nn,\n",
    "                                          model1,\n",
    "                                          train_hyperparams,\n",
    "                                          compile_hyperparams,\n",
    "                                          roc_auc=True,\n",
    "                                          resampler=rand_under_sampler, \n",
    "                                          verbose=True)"
   ]
  },
  {
   "cell_type": "code",
   "execution_count": 46,
   "metadata": {},
   "outputs": [
    {
     "name": "stdout",
     "output_type": "stream",
     "text": [
      "WARNING:tensorflow:Entity <function Function._initialize_uninitialized_variables.<locals>.initialize_variables at 0x00000201CD0E4598> could not be transformed and will be executed as-is. Please report this to the AutoGraph team. When filing the bug, set the verbosity to 10 (on Linux, `export AUTOGRAPH_VERBOSITY=10`) and attach the full output. Cause: module 'gast' has no attribute 'Num'\n",
      "WARNING: Entity <function Function._initialize_uninitialized_variables.<locals>.initialize_variables at 0x00000201CD0E4598> could not be transformed and will be executed as-is. Please report this to the AutoGraph team. When filing the bug, set the verbosity to 10 (on Linux, `export AUTOGRAPH_VERBOSITY=10`) and attach the full output. Cause: module 'gast' has no attribute 'Num'\n",
      " \n",
      "\n",
      "Accuracy: 0.9412305634509279\n",
      "\n",
      "true positives\tfalse positives\tfalse negatives\ttrue negatives\n",
      "56202\t\t3505\t\t10\t\t93\n",
      "\n",
      "Class\t\t 0\t\t1\n",
      "Precision\t 1.00\t\t0.03\n",
      "recall\t\t 0.94\t\t0.90\n",
      "f1\t\t 0.97\t\t0.05\n",
      "support\t\t 59707.00\t103.00\n"
     ]
    },
    {
     "data": {
      "image/png": "[encoded data removed]",
      "text/plain": [
       "<Figure size 1152x576 with 2 Axes>"
      ]
     },
     "metadata": {
      "needs_background": "light"
     },
     "output_type": "display_data"
    }
   ],
   "source": [
    "model1.compile(**best_compile1)\n",
    "X_train_nn_us, y_train_nn_us = rand_under_sampler.fit_resample(X_train_nn, y_train_nn)\n",
    "history = model1.fit(X_train_nn_us, y_train_nn_us, validation_data=(X_val_nn, y_val_nn), **best_train1)\n",
    "learning_curves(history)\n",
    "predictions = np.argmax(model1.predict(X_val_nn), axis=1)\n",
    "print_metrics(y_val_nn, predictions)"
   ]
  },
  {
   "cell_type": "code",
   "execution_count": 47,
   "metadata": {},
   "outputs": [
    {
     "name": "stdout",
     "output_type": "stream",
     "text": [
      "\n",
      " {'loss': 'sparse_categorical_crossentropy', 'metrics': ['accuracy'], 'optimizer': 'Adam'}\n",
      "\n",
      "\t {'batch_size': 1, 'epochs': 10, 'shuffle': True, 'verbose': 0}\n",
      "WARNING:tensorflow:Entity <function Function._initialize_uninitialized_variables.<locals>.initialize_variables at 0x00000201D62DF9D8> could not be transformed and will be executed as-is. Please report this to the AutoGraph team. When filing the bug, set the verbosity to 10 (on Linux, `export AUTOGRAPH_VERBOSITY=10`) and attach the full output. Cause: module 'gast' has no attribute 'Num'\n",
      "WARNING: Entity <function Function._initialize_uninitialized_variables.<locals>.initialize_variables at 0x00000201D62DF9D8> could not be transformed and will be executed as-is. Please report this to the AutoGraph team. When filing the bug, set the verbosity to 10 (on Linux, `export AUTOGRAPH_VERBOSITY=10`) and attach the full output. Cause: module 'gast' has no attribute 'Num'\n",
      "\tscore 0.9117651554411095\n",
      "\ttime 6.135971784591675\n",
      "\n",
      "\t {'batch_size': 1, 'epochs': 20, 'shuffle': True, 'verbose': 0}\n",
      "\tscore 0.9105063383145624\n",
      "\ttime 11.131314754486084\n",
      "\n",
      "\t {'batch_size': 1, 'epochs': 30, 'shuffle': True, 'verbose': 0}\n",
      "\tscore 0.9084824582699236\n",
      "\ttime 16.553980588912964\n",
      "\n",
      "\t {'batch_size': 8, 'epochs': 10, 'shuffle': True, 'verbose': 0}\n",
      "\tscore 0.911982885355525\n",
      "\ttime 2.015176773071289\n",
      "\n",
      "\t {'batch_size': 8, 'epochs': 20, 'shuffle': True, 'verbose': 0}\n",
      "\tscore 0.9124099709568783\n",
      "\ttime 2.9412527084350586\n",
      "\n",
      "\t {'batch_size': 8, 'epochs': 30, 'shuffle': True, 'verbose': 0}\n",
      "\tscore 0.9126109524163386\n",
      "\ttime 3.0516865253448486\n",
      "\n",
      "\t {'batch_size': 32, 'epochs': 10, 'shuffle': True, 'verbose': 0}\n",
      "\tscore 0.9127030689185913\n",
      "\ttime 1.35573148727417\n",
      "\n",
      "\t {'batch_size': 32, 'epochs': 20, 'shuffle': True, 'verbose': 0}\n",
      "\tscore 0.9127784369658889\n",
      "\ttime 1.4913620948791504\n",
      "\n",
      "\t {'batch_size': 32, 'epochs': 30, 'shuffle': True, 'verbose': 0}\n",
      "\tscore 0.9129794184253494\n",
      "\ttime 2.022189140319824\n",
      "\n",
      "\t {'batch_size': 64, 'epochs': 10, 'shuffle': True, 'verbose': 0}\n",
      "\tscore 0.9129291730604842\n",
      "\ttime 1.256673812866211\n",
      "\n",
      "\t {'batch_size': 64, 'epochs': 20, 'shuffle': True, 'verbose': 0}\n",
      "\tscore 0.9128203081032765\n",
      "\ttime 1.5220353603363037\n",
      "\n",
      "\t {'batch_size': 64, 'epochs': 30, 'shuffle': True, 'verbose': 0}\n",
      "\tscore 0.9127868111933665\n",
      "\ttime 1.4505341053009033\n",
      "\n",
      "best compile {'loss': 'sparse_categorical_crossentropy', 'metrics': ['accuracy'], 'optimizer': 'Adam'} \n",
      "best train {'batch_size': 32, 'epochs': 30, 'shuffle': True, 'verbose': 0} \n",
      "best score 0.9129794184253494\n"
     ]
    }
   ],
   "source": [
    "# Grid search model 2\n",
    "best_compile2, best_train2 = NN_gs_resample(X_train_nn, \n",
    "                                          X_val_nn, \n",
    "                                          y_train_nn, \n",
    "                                          y_val_nn, \n",
    "                                          model2, \n",
    "                                          train_hyperparams, \n",
    "                                          compile_hyperparams, \n",
    "                                          roc_auc=True,\n",
    "                                          resampler=rand_under_sampler, \n",
    "                                          verbose=True)"
   ]
  },
  {
   "cell_type": "code",
   "execution_count": 48,
   "metadata": {},
   "outputs": [
    {
     "name": "stdout",
     "output_type": "stream",
     "text": [
      "WARNING:tensorflow:Entity <function Function._initialize_uninitialized_variables.<locals>.initialize_variables at 0x00000201D6337400> could not be transformed and will be executed as-is. Please report this to the AutoGraph team. When filing the bug, set the verbosity to 10 (on Linux, `export AUTOGRAPH_VERBOSITY=10`) and attach the full output. Cause: module 'gast' has no attribute 'Num'\n",
      "WARNING: Entity <function Function._initialize_uninitialized_variables.<locals>.initialize_variables at 0x00000201D6337400> could not be transformed and will be executed as-is. Please report this to the AutoGraph team. When filing the bug, set the verbosity to 10 (on Linux, `export AUTOGRAPH_VERBOSITY=10`) and attach the full output. Cause: module 'gast' has no attribute 'Num'\n",
      " \n",
      "\n",
      "Accuracy: 0.9330881123557934\n",
      "\n",
      "true positives\tfalse positives\tfalse negatives\ttrue negatives\n",
      "55716\t\t3991\t\t11\t\t92\n",
      "\n",
      "Class\t\t 0\t\t1\n",
      "Precision\t 1.00\t\t0.02\n",
      "recall\t\t 0.93\t\t0.89\n",
      "f1\t\t 0.97\t\t0.04\n",
      "support\t\t 59707.00\t103.00\n"
     ]
    },
    {
     "data": {
      "image/png": "[encoded data removed]",
      "text/plain": [
       "<Figure size 1152x576 with 2 Axes>"
      ]
     },
     "metadata": {
      "needs_background": "light"
     },
     "output_type": "display_data"
    }
   ],
   "source": [
    "model2.compile(**best_compile2)\n",
    "X_train_nn_us, y_train_nn_us = rand_under_sampler.fit_resample(X_train_nn, y_train_nn)\n",
    "history = model2.fit(X_train_nn_us, y_train_nn_us, validation_data=(X_val_nn, y_val_nn), **best_train2)\n",
    "learning_curves(history)\n",
    "predictions = np.argmax(model2.predict(X_val_nn), axis=1)\n",
    "print_metrics(y_val_nn, predictions)"
   ]
  },
  {
   "cell_type": "markdown",
   "metadata": {},
   "source": [
    "### SMOTE"
   ]
  },
  {
   "cell_type": "code",
   "execution_count": null,
   "metadata": {},
   "outputs": [],
   "source": [
    "# X_train_nn, X_val_nn, y_train_nn, y_val_nn = train_test_split(X_train,\n",
    "#                                                               y_train,\n",
    "#                                                               test_size=0.3,\n",
    "#                                                               random_state=0,\n",
    "#                                                               stratify=y_train)\n",
    "\n",
    "# X_train_smote, y_train_smote = smote.fit_resample(X_train_nn, y_train_nn)"
   ]
  },
  {
   "cell_type": "code",
   "execution_count": null,
   "metadata": {
    "scrolled": true
   },
   "outputs": [],
   "source": [
    "# # Grid search\n",
    "# # To tune\n",
    "# train_hyperparams = {'batch_size': [100],\n",
    "#                     'epochs': [20],\n",
    "#                     'shuffle': [True],\n",
    "#                     'verbose': [2]}\n",
    "\n",
    "# compile_hyperparams = {'optimizer': ['Adam'],\n",
    "#                       'loss': ['sparse_categorical_crossentropy'],\n",
    "#                       'metrics': [['accuracy']]}\n",
    "\n",
    "# model1.compile(**compile_hyperparams)\n",
    "\n",
    "# history = model1.fit(X_train_smote, y_train_smote, validation_data = (X_val_nn, y_val_nn))"
   ]
  },
  {
   "cell_type": "markdown",
   "metadata": {},
   "source": [
    "### Évaluation"
   ]
  },
  {
   "cell_type": "code",
   "execution_count": null,
   "metadata": {},
   "outputs": [],
   "source": [
    "model2.compile(**best_compile)\n",
    "model2.fit(X_train_rus, y_train_rus, **best_train)\n",
    "predictions = np.argmax(model1.predict(X_test), axis=1)\n",
    "print_metrics(y_test, predictions)"
   ]
  },
  {
   "cell_type": "markdown",
   "metadata": {},
   "source": [
    "## Références\n",
    "[Addressing the Curse of Imbalanced Training Sets: One-Sided Selection](https://sci2s.ugr.es/keel/pdf/algorithm/congreso/kubat97addressing.pdf)\n",
    "\n",
    "[Credit Fraud Detector (notebook kaggle)](https://www.kaggle.com/kernels/scriptcontent/16695845/download)\n",
    "\n",
    "[Toward data science article](https://towardsdatascience.com/detecting-financial-fraud-using-machine-learning-three-ways-of-winning-the-war-against-imbalanced-a03f8815cce9)\n",
    "\n",
    "[Evaluation Metrics, ROC-Curves and imbalanced datasets](http://www.davidsbatista.net/blog/2018/08/19/NLP_Metrics/)\n",
    "\n",
    "[Subsampling and Oversampling Wikipedia](https://en.wikipedia.org/wiki/Oversampling_and_undersampling_in_data_analysis#Undersampling_techniques_for_classification_problems)\n",
    "\n",
    "[SMOTE paper](https://arxiv.org/pdf/1106.1813.pdf)\n",
    "\n",
    "[ROC curve google](https://developers.google.com/machine-learning/crash-course/classification/roc-and-auc)\n",
    "\n",
    "[Neural_Network_Based_Undersampling_Techniques](https://www.researchgate.net/publication/335258047_Neural_Network_Based_Undersampling_Techniques) (a essayer peut-etre)"
   ]
  }
 ],
 "metadata": {
  "kernelspec": {
   "display_name": "Python 3",
   "language": "python",
   "name": "python3"
  },
  "language_info": {
   "codemirror_mode": {
    "name": "ipython",
    "version": 3
   },
   "file_extension": ".py",
   "mimetype": "text/x-python",
   "name": "python",
   "nbconvert_exporter": "python",
   "pygments_lexer": "ipython3",
   "version": "3.7.3"
  }
 },
 "nbformat": 4,
 "nbformat_minor": 2
}
